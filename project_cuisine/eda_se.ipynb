{
 "cells": [
  {
   "cell_type": "markdown",
   "id": "76f03b14",
   "metadata": {},
   "source": [
    "# Исследовательский анализ данных"
   ]
  },
  {
   "cell_type": "markdown",
   "id": "6066a539",
   "metadata": {},
   "source": []
  },
  {
   "cell_type": "code",
   "execution_count": 1,
   "id": "b638c151",
   "metadata": {
    "scrolled": true
   },
   "outputs": [],
   "source": [
    "%%capture no-display\n",
    "!pip install h3 geohash2 folium h3-py"
   ]
  },
  {
   "cell_type": "markdown",
   "id": "2cd7e410",
   "metadata": {},
   "source": []
  },
  {
   "cell_type": "code",
   "execution_count": 2,
   "id": "46766249",
   "metadata": {},
   "outputs": [],
   "source": [
    "import pandas as pd\n",
    "import numpy as np\n",
    "\n",
    "import os\n",
    "\n",
    "import geohash2\n",
    "import h3\n",
    "import folium"
   ]
  },
  {
   "cell_type": "markdown",
   "id": "4fb0b345",
   "metadata": {},
   "source": []
  },
  {
   "cell_type": "code",
   "execution_count": 46,
   "id": "a838df19",
   "metadata": {},
   "outputs": [
    {
     "name": "stdout",
     "output_type": "stream",
     "text": [
      "59.3 18.\n"
     ]
    }
   ],
   "source": [
    "geohash = \"u6sc4\"\n",
    "lat, lon = geohash2.decode(geohash)\n",
    "print(lat, lon)\n",
    "\n",
    "# Resolution level (e.g., 8)\n",
    "resolution = 8\n",
    "\n",
    "# Convert latitude and longitude to H3 hash\n",
    "h3_hash = h3.geo_to_h3(float(lat), float(lon), resolution)"
   ]
  },
  {
   "cell_type": "code",
   "execution_count": 47,
   "id": "112db8a6",
   "metadata": {},
   "outputs": [
    {
     "data": {
      "text/html": [
       "<div style=\"width:100%;\"><div style=\"position:relative;width:100%;height:0;padding-bottom:60%;\"><span style=\"color:#565656\">Make this Notebook Trusted to load map: File -> Trust Notebook</span><iframe srcdoc=\"&lt;!DOCTYPE html&gt;\n",
       "&lt;html&gt;\n",
       "&lt;head&gt;\n",
       "    \n",
       "    &lt;meta http-equiv=&quot;content-type&quot; content=&quot;text/html; charset=UTF-8&quot; /&gt;\n",
       "    \n",
       "        &lt;script&gt;\n",
       "            L_NO_TOUCH = false;\n",
       "            L_DISABLE_3D = false;\n",
       "        &lt;/script&gt;\n",
       "    \n",
       "    &lt;style&gt;html, body {width: 100%;height: 100%;margin: 0;padding: 0;}&lt;/style&gt;\n",
       "    &lt;style&gt;#map {position:absolute;top:0;bottom:0;right:0;left:0;}&lt;/style&gt;\n",
       "    &lt;script src=&quot;https://cdn.jsdelivr.net/npm/leaflet@1.9.3/dist/leaflet.js&quot;&gt;&lt;/script&gt;\n",
       "    &lt;script src=&quot;https://code.jquery.com/jquery-3.7.1.min.js&quot;&gt;&lt;/script&gt;\n",
       "    &lt;script src=&quot;https://cdn.jsdelivr.net/npm/bootstrap@5.2.2/dist/js/bootstrap.bundle.min.js&quot;&gt;&lt;/script&gt;\n",
       "    &lt;script src=&quot;https://cdnjs.cloudflare.com/ajax/libs/Leaflet.awesome-markers/2.0.2/leaflet.awesome-markers.js&quot;&gt;&lt;/script&gt;\n",
       "    &lt;link rel=&quot;stylesheet&quot; href=&quot;https://cdn.jsdelivr.net/npm/leaflet@1.9.3/dist/leaflet.css&quot;/&gt;\n",
       "    &lt;link rel=&quot;stylesheet&quot; href=&quot;https://cdn.jsdelivr.net/npm/bootstrap@5.2.2/dist/css/bootstrap.min.css&quot;/&gt;\n",
       "    &lt;link rel=&quot;stylesheet&quot; href=&quot;https://netdna.bootstrapcdn.com/bootstrap/3.0.0/css/bootstrap.min.css&quot;/&gt;\n",
       "    &lt;link rel=&quot;stylesheet&quot; href=&quot;https://cdn.jsdelivr.net/npm/@fortawesome/fontawesome-free@6.2.0/css/all.min.css&quot;/&gt;\n",
       "    &lt;link rel=&quot;stylesheet&quot; href=&quot;https://cdnjs.cloudflare.com/ajax/libs/Leaflet.awesome-markers/2.0.2/leaflet.awesome-markers.css&quot;/&gt;\n",
       "    &lt;link rel=&quot;stylesheet&quot; href=&quot;https://cdn.jsdelivr.net/gh/python-visualization/folium/folium/templates/leaflet.awesome.rotate.min.css&quot;/&gt;\n",
       "    \n",
       "            &lt;meta name=&quot;viewport&quot; content=&quot;width=device-width,\n",
       "                initial-scale=1.0, maximum-scale=1.0, user-scalable=no&quot; /&gt;\n",
       "            &lt;style&gt;\n",
       "                #map_39b897218458b5404fedc371652be92f {\n",
       "                    position: relative;\n",
       "                    width: 100.0%;\n",
       "                    height: 100.0%;\n",
       "                    left: 0.0%;\n",
       "                    top: 0.0%;\n",
       "                }\n",
       "                .leaflet-container { font-size: 1rem; }\n",
       "            &lt;/style&gt;\n",
       "        \n",
       "&lt;/head&gt;\n",
       "&lt;body&gt;\n",
       "    \n",
       "    \n",
       "            &lt;div class=&quot;folium-map&quot; id=&quot;map_39b897218458b5404fedc371652be92f&quot; &gt;&lt;/div&gt;\n",
       "        \n",
       "&lt;/body&gt;\n",
       "&lt;script&gt;\n",
       "    \n",
       "    \n",
       "            var map_39b897218458b5404fedc371652be92f = L.map(\n",
       "                &quot;map_39b897218458b5404fedc371652be92f&quot;,\n",
       "                {\n",
       "                    center: [59.3, 18.0],\n",
       "                    crs: L.CRS.EPSG3857,\n",
       "                    zoom: 10,\n",
       "                    zoomControl: true,\n",
       "                    preferCanvas: false,\n",
       "                }\n",
       "            );\n",
       "\n",
       "            \n",
       "\n",
       "        \n",
       "    \n",
       "            var tile_layer_875e9fbe59a3e0e68da1f0b4ceac9fdb = L.tileLayer(\n",
       "                &quot;https://{s}.tile.openstreetmap.org/{z}/{x}/{y}.png&quot;,\n",
       "                {&quot;attribution&quot;: &quot;Data by \\u0026copy; \\u003ca target=\\&quot;_blank\\&quot; href=\\&quot;http://openstreetmap.org\\&quot;\\u003eOpenStreetMap\\u003c/a\\u003e, under \\u003ca target=\\&quot;_blank\\&quot; href=\\&quot;http://www.openstreetmap.org/copyright\\&quot;\\u003eODbL\\u003c/a\\u003e.&quot;, &quot;detectRetina&quot;: false, &quot;maxNativeZoom&quot;: 18, &quot;maxZoom&quot;: 18, &quot;minZoom&quot;: 0, &quot;noWrap&quot;: false, &quot;opacity&quot;: 1, &quot;subdomains&quot;: &quot;abc&quot;, &quot;tms&quot;: false}\n",
       "            );\n",
       "        \n",
       "    \n",
       "                tile_layer_875e9fbe59a3e0e68da1f0b4ceac9fdb.addTo(map_39b897218458b5404fedc371652be92f);\n",
       "    \n",
       "            var polygon_4c51c37328f36af0bac7b9406561ec13 = L.polygon(\n",
       "                [[17.700314171376707, 59.2595892662613], [17.701421085776367, 59.188166568241186], [17.84233198867023, 59.15579601463055], [17.982377044094, 59.19478190457542], [17.9816479400274, 59.26621340817899], [17.84049582098562, 59.298650423491395], [17.700314171376707, 59.2595892662613]],\n",
       "                {&quot;bubblingMouseEvents&quot;: true, &quot;color&quot;: &quot;blue&quot;, &quot;dashArray&quot;: null, &quot;dashOffset&quot;: null, &quot;fill&quot;: true, &quot;fillColor&quot;: &quot;blue&quot;, &quot;fillOpacity&quot;: 0.2, &quot;fillRule&quot;: &quot;evenodd&quot;, &quot;lineCap&quot;: &quot;round&quot;, &quot;lineJoin&quot;: &quot;round&quot;, &quot;noClip&quot;: false, &quot;opacity&quot;: 1.0, &quot;smoothFactor&quot;: 1.0, &quot;stroke&quot;: true, &quot;weight&quot;: 3}\n",
       "            ).addTo(map_39b897218458b5404fedc371652be92f);\n",
       "        \n",
       "    \n",
       "            var polygon_1eca76a12df91b118793b3e2410bda09 = L.polygon(\n",
       "                [[17.979448801974716, 59.47986631163985], [17.980183826948867, 59.40875559166928], [18.121576241925748, 59.37625143738594], [18.262472843324943, 59.4147903966926], [18.262119260339258, 59.48590898269401], [18.120487497483317, 59.51848095175593], [17.979448801974716, 59.47986631163985]],\n",
       "                {&quot;bubblingMouseEvents&quot;: true, &quot;color&quot;: &quot;blue&quot;, &quot;dashArray&quot;: null, &quot;dashOffset&quot;: null, &quot;fill&quot;: true, &quot;fillColor&quot;: &quot;blue&quot;, &quot;fillOpacity&quot;: 0.2, &quot;fillRule&quot;: &quot;evenodd&quot;, &quot;lineCap&quot;: &quot;round&quot;, &quot;lineJoin&quot;: &quot;round&quot;, &quot;noClip&quot;: false, &quot;opacity&quot;: 1.0, &quot;smoothFactor&quot;: 1.0, &quot;stroke&quot;: true, &quot;weight&quot;: 3}\n",
       "            ).addTo(map_39b897218458b5404fedc371652be92f);\n",
       "        \n",
       "    \n",
       "            var polygon_bccb8eb665c7e95f4b256e302d20695c = L.polygon(\n",
       "                [[17.696975481883914, 59.47321601085876], [17.69809138153668, 59.402113967656284], [17.83957402266859, 59.36991724350909], [17.980183826948867, 59.40875559166928], [17.979448801974716, 59.47986631163985], [17.83772294685719, 59.51213021461145], [17.696975481883914, 59.47321601085876]],\n",
       "                {&quot;bubblingMouseEvents&quot;: true, &quot;color&quot;: &quot;blue&quot;, &quot;dashArray&quot;: null, &quot;dashOffset&quot;: null, &quot;fill&quot;: true, &quot;fillColor&quot;: &quot;blue&quot;, &quot;fillOpacity&quot;: 0.2, &quot;fillRule&quot;: &quot;evenodd&quot;, &quot;lineCap&quot;: &quot;round&quot;, &quot;lineJoin&quot;: &quot;round&quot;, &quot;noClip&quot;: false, &quot;opacity&quot;: 1.0, &quot;smoothFactor&quot;: 1.0, &quot;stroke&quot;: true, &quot;weight&quot;: 3}\n",
       "            ).addTo(map_39b897218458b5404fedc371652be92f);\n",
       "        \n",
       "    \n",
       "            var polygon_fadb106e01edb6268b3b1cb6605c66ed = L.polygon(\n",
       "                [[17.557774813308836, 59.36297716847542], [17.559075647374584, 59.29171949443026], [17.700314171376707, 59.2595892662613], [17.84049582098562, 59.298650423491395], [17.83957402266859, 59.36991724350909], [17.69809138153668, 59.402113967656284], [17.557774813308836, 59.36297716847542]],\n",
       "                {&quot;bubblingMouseEvents&quot;: true, &quot;color&quot;: &quot;blue&quot;, &quot;dashArray&quot;: null, &quot;dashOffset&quot;: null, &quot;fill&quot;: true, &quot;fillColor&quot;: &quot;blue&quot;, &quot;fillOpacity&quot;: 0.2, &quot;fillRule&quot;: &quot;evenodd&quot;, &quot;lineCap&quot;: &quot;round&quot;, &quot;lineJoin&quot;: &quot;round&quot;, &quot;noClip&quot;: false, &quot;opacity&quot;: 1.0, &quot;smoothFactor&quot;: 1.0, &quot;stroke&quot;: true, &quot;weight&quot;: 3}\n",
       "            ).addTo(map_39b897218458b5404fedc371652be92f);\n",
       "        \n",
       "    \n",
       "            var polygon_7aa7787b7c990416b73fc1b7877a29cb = L.polygon(\n",
       "                [[17.83957402266859, 59.36991724350909], [17.84049582098562, 59.298650423491395], [17.9816479400274, 59.26621340817899], [18.12211841377155, 59.30497628173542], [18.121576241925748, 59.37625143738594], [17.980183826948867, 59.40875559166928], [17.83957402266859, 59.36991724350909]],\n",
       "                {&quot;bubblingMouseEvents&quot;: true, &quot;color&quot;: &quot;blue&quot;, &quot;dashArray&quot;: null, &quot;dashOffset&quot;: null, &quot;fill&quot;: true, &quot;fillColor&quot;: &quot;blue&quot;, &quot;fillOpacity&quot;: 0.2, &quot;fillRule&quot;: &quot;evenodd&quot;, &quot;lineCap&quot;: &quot;round&quot;, &quot;lineJoin&quot;: &quot;round&quot;, &quot;noClip&quot;: false, &quot;opacity&quot;: 1.0, &quot;smoothFactor&quot;: 1.0, &quot;stroke&quot;: true, &quot;weight&quot;: 3}\n",
       "            ).addTo(map_39b897218458b5404fedc371652be92f);\n",
       "        \n",
       "    \n",
       "            var polygon_e4382e651518446f021a173ae67b52f0 = L.polygon(\n",
       "                [[17.9816479400274, 59.26621340817899], [17.982377044094, 59.19478190457542], [18.123198386278894, 59.16210507299513], [18.263527886003896, 59.20079285614484], [18.263177152315045, 59.272232353578076], [18.12211841377155, 59.30497628173542], [17.9816479400274, 59.26621340817899]],\n",
       "                {&quot;bubblingMouseEvents&quot;: true, &quot;color&quot;: &quot;blue&quot;, &quot;dashArray&quot;: null, &quot;dashOffset&quot;: null, &quot;fill&quot;: true, &quot;fillColor&quot;: &quot;blue&quot;, &quot;fillOpacity&quot;: 0.2, &quot;fillRule&quot;: &quot;evenodd&quot;, &quot;lineCap&quot;: &quot;round&quot;, &quot;lineJoin&quot;: &quot;round&quot;, &quot;noClip&quot;: false, &quot;opacity&quot;: 1.0, &quot;smoothFactor&quot;: 1.0, &quot;stroke&quot;: true, &quot;weight&quot;: 3}\n",
       "            ).addTo(map_39b897218458b5404fedc371652be92f);\n",
       "        \n",
       "    \n",
       "            var polygon_a35458d495800a8d408e8630396ea64b = L.polygon(\n",
       "                [[18.121576241925748, 59.37625143738594], [18.12211841377155, 59.30497628173542], [18.263177152315045, 59.272232353578076], [18.403930022391123, 59.3106960225897], [18.40376801353861, 59.38197870178666], [18.262472843324943, 59.4147903966926], [18.121576241925748, 59.37625143738594]],\n",
       "                {&quot;bubblingMouseEvents&quot;: true, &quot;color&quot;: &quot;blue&quot;, &quot;dashArray&quot;: null, &quot;dashOffset&quot;: null, &quot;fill&quot;: true, &quot;fillColor&quot;: &quot;blue&quot;, &quot;fillOpacity&quot;: 0.2, &quot;fillRule&quot;: &quot;evenodd&quot;, &quot;lineCap&quot;: &quot;round&quot;, &quot;lineJoin&quot;: &quot;round&quot;, &quot;noClip&quot;: false, &quot;opacity&quot;: 1.0, &quot;smoothFactor&quot;: 1.0, &quot;stroke&quot;: true, &quot;weight&quot;: 3}\n",
       "            ).addTo(map_39b897218458b5404fedc371652be92f);\n",
       "        \n",
       "&lt;/script&gt;\n",
       "&lt;/html&gt;\" style=\"position:absolute;width:100%;height:100%;left:0;top:0;border:none !important;\" allowfullscreen webkitallowfullscreen mozallowfullscreen></iframe></div></div>"
      ],
      "text/plain": [
       "<folium.folium.Map at 0x1f53e65a800>"
      ]
     },
     "execution_count": 47,
     "metadata": {},
     "output_type": "execute_result"
    }
   ],
   "source": [
    "def generate_h3_hexagons(lat, lon, resolution):\n",
    "    hexagons = h3.k_ring(h3.geo_to_h3(lat, lon, resolution), 1)\n",
    "    return hexagons\n",
    "\n",
    "center = [float(lat), float(lon)]\n",
    "m = folium.Map(location=center, zoom_start=10)\n",
    "\n",
    "resolution = 5  # Adjust this to your desired resolution\n",
    "hexagons = generate_h3_hexagons(center[0], center[1], resolution)\n",
    "\n",
    "for hexagon in hexagons:\n",
    "    vertices = h3.h3_to_geo_boundary(hexagon, geo_json=True)\n",
    "    folium.Polygon(locations=vertices, color='blue', fill=True, fill_color='blue').add_to(m)\n",
    "\n",
    "m"
   ]
  },
  {
   "cell_type": "code",
   "execution_count": 34,
   "id": "33ce1d5f",
   "metadata": {},
   "outputs": [
    {
     "data": {
      "text/html": [
       "<div style=\"width:100%;\"><div style=\"position:relative;width:100%;height:0;padding-bottom:60%;\"><span style=\"color:#565656\">Make this Notebook Trusted to load map: File -> Trust Notebook</span><iframe srcdoc=\"&lt;!DOCTYPE html&gt;\n",
       "&lt;html&gt;\n",
       "&lt;head&gt;\n",
       "    \n",
       "    &lt;meta http-equiv=&quot;content-type&quot; content=&quot;text/html; charset=UTF-8&quot; /&gt;\n",
       "    \n",
       "        &lt;script&gt;\n",
       "            L_NO_TOUCH = false;\n",
       "            L_DISABLE_3D = false;\n",
       "        &lt;/script&gt;\n",
       "    \n",
       "    &lt;style&gt;html, body {width: 100%;height: 100%;margin: 0;padding: 0;}&lt;/style&gt;\n",
       "    &lt;style&gt;#map {position:absolute;top:0;bottom:0;right:0;left:0;}&lt;/style&gt;\n",
       "    &lt;script src=&quot;https://cdn.jsdelivr.net/npm/leaflet@1.9.3/dist/leaflet.js&quot;&gt;&lt;/script&gt;\n",
       "    &lt;script src=&quot;https://code.jquery.com/jquery-3.7.1.min.js&quot;&gt;&lt;/script&gt;\n",
       "    &lt;script src=&quot;https://cdn.jsdelivr.net/npm/bootstrap@5.2.2/dist/js/bootstrap.bundle.min.js&quot;&gt;&lt;/script&gt;\n",
       "    &lt;script src=&quot;https://cdnjs.cloudflare.com/ajax/libs/Leaflet.awesome-markers/2.0.2/leaflet.awesome-markers.js&quot;&gt;&lt;/script&gt;\n",
       "    &lt;link rel=&quot;stylesheet&quot; href=&quot;https://cdn.jsdelivr.net/npm/leaflet@1.9.3/dist/leaflet.css&quot;/&gt;\n",
       "    &lt;link rel=&quot;stylesheet&quot; href=&quot;https://cdn.jsdelivr.net/npm/bootstrap@5.2.2/dist/css/bootstrap.min.css&quot;/&gt;\n",
       "    &lt;link rel=&quot;stylesheet&quot; href=&quot;https://netdna.bootstrapcdn.com/bootstrap/3.0.0/css/bootstrap.min.css&quot;/&gt;\n",
       "    &lt;link rel=&quot;stylesheet&quot; href=&quot;https://cdn.jsdelivr.net/npm/@fortawesome/fontawesome-free@6.2.0/css/all.min.css&quot;/&gt;\n",
       "    &lt;link rel=&quot;stylesheet&quot; href=&quot;https://cdnjs.cloudflare.com/ajax/libs/Leaflet.awesome-markers/2.0.2/leaflet.awesome-markers.css&quot;/&gt;\n",
       "    &lt;link rel=&quot;stylesheet&quot; href=&quot;https://cdn.jsdelivr.net/gh/python-visualization/folium/folium/templates/leaflet.awesome.rotate.min.css&quot;/&gt;\n",
       "    \n",
       "            &lt;meta name=&quot;viewport&quot; content=&quot;width=device-width,\n",
       "                initial-scale=1.0, maximum-scale=1.0, user-scalable=no&quot; /&gt;\n",
       "            &lt;style&gt;\n",
       "                #map_fa87e26127a8ea4acebc9de7aa2c8ec3 {\n",
       "                    position: relative;\n",
       "                    width: 100.0%;\n",
       "                    height: 100.0%;\n",
       "                    left: 0.0%;\n",
       "                    top: 0.0%;\n",
       "                }\n",
       "                .leaflet-container { font-size: 1rem; }\n",
       "            &lt;/style&gt;\n",
       "        \n",
       "&lt;/head&gt;\n",
       "&lt;body&gt;\n",
       "    \n",
       "    \n",
       "            &lt;div class=&quot;folium-map&quot; id=&quot;map_fa87e26127a8ea4acebc9de7aa2c8ec3&quot; &gt;&lt;/div&gt;\n",
       "        \n",
       "&lt;/body&gt;\n",
       "&lt;script&gt;\n",
       "    \n",
       "    \n",
       "            var map_fa87e26127a8ea4acebc9de7aa2c8ec3 = L.map(\n",
       "                &quot;map_fa87e26127a8ea4acebc9de7aa2c8ec3&quot;,\n",
       "                {\n",
       "                    center: [1.5, 103.8],\n",
       "                    crs: L.CRS.EPSG3857,\n",
       "                    zoom: 12,\n",
       "                    zoomControl: true,\n",
       "                    preferCanvas: false,\n",
       "                }\n",
       "            );\n",
       "\n",
       "            \n",
       "\n",
       "        \n",
       "    \n",
       "            var tile_layer_2f9ac322928fd7ca3ebec043f2dff771 = L.tileLayer(\n",
       "                &quot;https://{s}.tile.openstreetmap.org/{z}/{x}/{y}.png&quot;,\n",
       "                {&quot;attribution&quot;: &quot;Data by \\u0026copy; \\u003ca target=\\&quot;_blank\\&quot; href=\\&quot;http://openstreetmap.org\\&quot;\\u003eOpenStreetMap\\u003c/a\\u003e, under \\u003ca target=\\&quot;_blank\\&quot; href=\\&quot;http://www.openstreetmap.org/copyright\\&quot;\\u003eODbL\\u003c/a\\u003e.&quot;, &quot;detectRetina&quot;: false, &quot;maxNativeZoom&quot;: 18, &quot;maxZoom&quot;: 18, &quot;minZoom&quot;: 0, &quot;noWrap&quot;: false, &quot;opacity&quot;: 1, &quot;subdomains&quot;: &quot;abc&quot;, &quot;tms&quot;: false}\n",
       "            );\n",
       "        \n",
       "    \n",
       "                tile_layer_2f9ac322928fd7ca3ebec043f2dff771.addTo(map_fa87e26127a8ea4acebc9de7aa2c8ec3);\n",
       "    \n",
       "            var polygon_cd421195aa183e8aa20df886d80ca223 = L.polygon(\n",
       "                [[1.497278882573182, 103.80895892767101], [1.5103472337165766, 103.80580018429556], [1.5139309811878758, 103.79281879698063], [1.5044452899391827, 103.78299657288092], [1.4913767218489455, 103.78615650726684], [1.4877940617625656, 103.79913747495814]],\n",
       "                {&quot;bubblingMouseEvents&quot;: true, &quot;color&quot;: &quot;blue&quot;, &quot;dashArray&quot;: null, &quot;dashOffset&quot;: null, &quot;fill&quot;: true, &quot;fillColor&quot;: &quot;blue&quot;, &quot;fillOpacity&quot;: 0.2, &quot;fillRule&quot;: &quot;evenodd&quot;, &quot;lineCap&quot;: &quot;round&quot;, &quot;lineJoin&quot;: &quot;round&quot;, &quot;noClip&quot;: false, &quot;opacity&quot;: 1.0, &quot;smoothFactor&quot;: 1.0, &quot;stroke&quot;: true, &quot;weight&quot;: 3}\n",
       "            ).addTo(map_fa87e26127a8ea4acebc9de7aa2c8ec3);\n",
       "        \n",
       "&lt;/script&gt;\n",
       "&lt;/html&gt;\" style=\"position:absolute;width:100%;height:100%;left:0;top:0;border:none !important;\" allowfullscreen webkitallowfullscreen mozallowfullscreen></iframe></div></div>"
      ],
      "text/plain": [
       "<folium.folium.Map at 0x1f539a8e8c0>"
      ]
     },
     "execution_count": 34,
     "metadata": {},
     "output_type": "execute_result"
    }
   ],
   "source": [
    "# Specify the latitude and longitude for the center of your area\n",
    "center_lat = 1.5\n",
    "center_lon = 103.8\n",
    "\n",
    "# Specify the resolution (higher resolution gives smaller hexagons)\n",
    "resolution = 7\n",
    "\n",
    "# Generate a hexagon at the specified location\n",
    "hexagon = h3.geo_to_h3(center_lat, center_lon, resolution)\n",
    "\n",
    "# Get the vertices of the hexagon\n",
    "vertices = h3.h3_to_geo_boundary(hexagon)\n",
    "\n",
    "# Create a folium map centered around the specified coordinates\n",
    "m = folium.Map(location=[center_lat, center_lon], zoom_start=12)\n",
    "\n",
    "# Add the hexagon as a polygon to the map\n",
    "folium.Polygon(locations=vertices, color=\"blue\", fill=True, fill_color=\"blue\").add_to(m)\n",
    "\n",
    "# Display the map in the Colab notebook\n",
    "m"
   ]
  },
  {
   "cell_type": "markdown",
   "id": "165331a6",
   "metadata": {},
   "source": []
  },
  {
   "cell_type": "markdown",
   "id": "2652cbd1",
   "metadata": {},
   "source": []
  },
  {
   "cell_type": "markdown",
   "id": "84f61267",
   "metadata": {},
   "source": [
    "## 1 Подготовка данных"
   ]
  },
  {
   "cell_type": "markdown",
   "id": "b5c58a13",
   "metadata": {},
   "source": [
    "### 1.1 Загрузка данных"
   ]
  },
  {
   "cell_type": "markdown",
   "id": "b83c8c38",
   "metadata": {},
   "source": []
  },
  {
   "cell_type": "code",
   "execution_count": 6,
   "id": "d04638df",
   "metadata": {},
   "outputs": [],
   "source": [
    "PATH = 'data/'"
   ]
  },
  {
   "cell_type": "markdown",
   "id": "25694d0e",
   "metadata": {},
   "source": []
  },
  {
   "cell_type": "code",
   "execution_count": 7,
   "id": "9e2144f3",
   "metadata": {},
   "outputs": [
    {
     "data": {
      "text/plain": [
       "['orders_se.txt',\n",
       " 'orders_se_test.txt',\n",
       " 'orders_se_train.txt',\n",
       " 'products_se.txt',\n",
       " 'vendors_se.txt']"
      ]
     },
     "execution_count": 7,
     "metadata": {},
     "output_type": "execute_result"
    }
   ],
   "source": [
    "os.listdir(PATH)"
   ]
  },
  {
   "cell_type": "markdown",
   "id": "4fefe7ed",
   "metadata": {},
   "source": []
  },
  {
   "cell_type": "code",
   "execution_count": 8,
   "id": "2451c849",
   "metadata": {},
   "outputs": [],
   "source": [
    "def get_data(path: str) -> pd.DataFrame:\n",
    "    data = pd.read_csv(path, index_col=0)\n",
    "    \n",
    "    display(data.head(3))\n",
    "    print('Data shape:', data.shape)\n",
    "    \n",
    "    return data"
   ]
  },
  {
   "cell_type": "markdown",
   "id": "00e1f547",
   "metadata": {},
   "source": []
  },
  {
   "cell_type": "code",
   "execution_count": 9,
   "id": "ff513f1f",
   "metadata": {},
   "outputs": [
    {
     "data": {
      "text/html": [
       "<div>\n",
       "<style scoped>\n",
       "    .dataframe tbody tr th:only-of-type {\n",
       "        vertical-align: middle;\n",
       "    }\n",
       "\n",
       "    .dataframe tbody tr th {\n",
       "        vertical-align: top;\n",
       "    }\n",
       "\n",
       "    .dataframe thead th {\n",
       "        text-align: right;\n",
       "    }\n",
       "</style>\n",
       "<table border=\"1\" class=\"dataframe\">\n",
       "  <thead>\n",
       "    <tr style=\"text-align: right;\">\n",
       "      <th></th>\n",
       "      <th>vendor_id</th>\n",
       "      <th>product_id</th>\n",
       "      <th>name</th>\n",
       "      <th>unit_price</th>\n",
       "    </tr>\n",
       "  </thead>\n",
       "  <tbody>\n",
       "    <tr>\n",
       "      <th>0</th>\n",
       "      <td>e21306e2</td>\n",
       "      <td>055e72373069</td>\n",
       "      <td>Small</td>\n",
       "      <td>0.496</td>\n",
       "    </tr>\n",
       "    <tr>\n",
       "      <th>1</th>\n",
       "      <td>7b111c3f</td>\n",
       "      <td>ec33db14a2c5</td>\n",
       "      <td>Alcachofas Empinzadas</td>\n",
       "      <td>0.304</td>\n",
       "    </tr>\n",
       "    <tr>\n",
       "      <th>2</th>\n",
       "      <td>4dc46e0f</td>\n",
       "      <td>fa04d9e5b964</td>\n",
       "      <td>Coca-Cola 2L</td>\n",
       "      <td>0.240</td>\n",
       "    </tr>\n",
       "  </tbody>\n",
       "</table>\n",
       "</div>"
      ],
      "text/plain": [
       "  vendor_id    product_id                   name  unit_price\n",
       "0  e21306e2  055e72373069                  Small       0.496\n",
       "1  7b111c3f  ec33db14a2c5  Alcachofas Empinzadas       0.304\n",
       "2  4dc46e0f  fa04d9e5b964           Coca-Cola 2L       0.240"
      ]
     },
     "metadata": {},
     "output_type": "display_data"
    },
    {
     "name": "stdout",
     "output_type": "stream",
     "text": [
      "Data shape: (111046, 4)\n"
     ]
    }
   ],
   "source": [
    "data_products = get_data(os.path.join(PATH, 'products_se.txt'))"
   ]
  },
  {
   "cell_type": "markdown",
   "id": "7d72d7e9",
   "metadata": {},
   "source": []
  },
  {
   "cell_type": "code",
   "execution_count": 10,
   "id": "dec47855",
   "metadata": {},
   "outputs": [
    {
     "data": {
      "text/html": [
       "<div>\n",
       "<style scoped>\n",
       "    .dataframe tbody tr th:only-of-type {\n",
       "        vertical-align: middle;\n",
       "    }\n",
       "\n",
       "    .dataframe tbody tr th {\n",
       "        vertical-align: top;\n",
       "    }\n",
       "\n",
       "    .dataframe thead th {\n",
       "        text-align: right;\n",
       "    }\n",
       "</style>\n",
       "<table border=\"1\" class=\"dataframe\">\n",
       "  <thead>\n",
       "    <tr style=\"text-align: right;\">\n",
       "      <th></th>\n",
       "      <th>vendor_id</th>\n",
       "      <th>chain_id</th>\n",
       "      <th>geohash</th>\n",
       "      <th>primary_cuisine</th>\n",
       "    </tr>\n",
       "  </thead>\n",
       "  <tbody>\n",
       "    <tr>\n",
       "      <th>0</th>\n",
       "      <td>a5028ec5</td>\n",
       "      <td>NaN</td>\n",
       "      <td>u6sc9</td>\n",
       "      <td>thai</td>\n",
       "    </tr>\n",
       "    <tr>\n",
       "      <th>1</th>\n",
       "      <td>fed855cd</td>\n",
       "      <td>NaN</td>\n",
       "      <td>u6sc7</td>\n",
       "      <td>thai</td>\n",
       "    </tr>\n",
       "    <tr>\n",
       "      <th>2</th>\n",
       "      <td>5f4ad3ab</td>\n",
       "      <td>NaN</td>\n",
       "      <td>u6sc8</td>\n",
       "      <td>sushi</td>\n",
       "    </tr>\n",
       "  </tbody>\n",
       "</table>\n",
       "</div>"
      ],
      "text/plain": [
       "  vendor_id chain_id geohash primary_cuisine\n",
       "0  a5028ec5      NaN   u6sc9            thai\n",
       "1  fed855cd      NaN   u6sc7            thai\n",
       "2  5f4ad3ab      NaN   u6sc8           sushi"
      ]
     },
     "metadata": {},
     "output_type": "display_data"
    },
    {
     "name": "stdout",
     "output_type": "stream",
     "text": [
      "Data shape: (1148, 4)\n"
     ]
    }
   ],
   "source": [
    "data_vendors = get_data(os.path.join(PATH, 'vendors_se.txt'))"
   ]
  },
  {
   "cell_type": "markdown",
   "id": "af2402e0",
   "metadata": {},
   "source": []
  },
  {
   "cell_type": "code",
   "execution_count": 11,
   "id": "3dcef70a",
   "metadata": {},
   "outputs": [
    {
     "data": {
      "text/html": [
       "<div>\n",
       "<style scoped>\n",
       "    .dataframe tbody tr th:only-of-type {\n",
       "        vertical-align: middle;\n",
       "    }\n",
       "\n",
       "    .dataframe tbody tr th {\n",
       "        vertical-align: top;\n",
       "    }\n",
       "\n",
       "    .dataframe thead th {\n",
       "        text-align: right;\n",
       "    }\n",
       "</style>\n",
       "<table border=\"1\" class=\"dataframe\">\n",
       "  <thead>\n",
       "    <tr style=\"text-align: right;\">\n",
       "      <th></th>\n",
       "      <th>customer_id</th>\n",
       "      <th>geohash</th>\n",
       "      <th>order_id</th>\n",
       "      <th>vendor_id</th>\n",
       "      <th>product_id</th>\n",
       "      <th>day_of_week</th>\n",
       "      <th>order_time</th>\n",
       "      <th>order_day</th>\n",
       "    </tr>\n",
       "  </thead>\n",
       "  <tbody>\n",
       "    <tr>\n",
       "      <th>0</th>\n",
       "      <td>90a4e98622</td>\n",
       "      <td>u6sc4</td>\n",
       "      <td>0</td>\n",
       "      <td>e1f3e4a4</td>\n",
       "      <td>9971ae2cd1ba</td>\n",
       "      <td>3</td>\n",
       "      <td>16:00:16</td>\n",
       "      <td>11 days</td>\n",
       "    </tr>\n",
       "    <tr>\n",
       "      <th>1</th>\n",
       "      <td>90a4e98622</td>\n",
       "      <td>u6sc4</td>\n",
       "      <td>0</td>\n",
       "      <td>e1f3e4a4</td>\n",
       "      <td>00734c4b351f</td>\n",
       "      <td>3</td>\n",
       "      <td>16:00:16</td>\n",
       "      <td>11 days</td>\n",
       "    </tr>\n",
       "    <tr>\n",
       "      <th>2</th>\n",
       "      <td>90a4e98622</td>\n",
       "      <td>u6sc4</td>\n",
       "      <td>1</td>\n",
       "      <td>5d1b1300</td>\n",
       "      <td>9a2b00f39640</td>\n",
       "      <td>1</td>\n",
       "      <td>16:34:04</td>\n",
       "      <td>51 days</td>\n",
       "    </tr>\n",
       "  </tbody>\n",
       "</table>\n",
       "</div>"
      ],
      "text/plain": [
       "  customer_id geohash  order_id vendor_id    product_id  day_of_week  \\\n",
       "0  90a4e98622   u6sc4         0  e1f3e4a4  9971ae2cd1ba            3   \n",
       "1  90a4e98622   u6sc4         0  e1f3e4a4  00734c4b351f            3   \n",
       "2  90a4e98622   u6sc4         1  5d1b1300  9a2b00f39640            1   \n",
       "\n",
       "  order_time order_day  \n",
       "0   16:00:16   11 days  \n",
       "1   16:00:16   11 days  \n",
       "2   16:34:04   51 days  "
      ]
     },
     "metadata": {},
     "output_type": "display_data"
    },
    {
     "name": "stdout",
     "output_type": "stream",
     "text": [
      "Data shape: (756738, 8)\n"
     ]
    }
   ],
   "source": [
    "data_orders = get_data(os.path.join(PATH, 'orders_se.txt'))"
   ]
  },
  {
   "cell_type": "markdown",
   "id": "f3b3b06e",
   "metadata": {},
   "source": []
  },
  {
   "cell_type": "code",
   "execution_count": 12,
   "id": "11aac0b5",
   "metadata": {},
   "outputs": [
    {
     "data": {
      "text/html": [
       "<div>\n",
       "<style scoped>\n",
       "    .dataframe tbody tr th:only-of-type {\n",
       "        vertical-align: middle;\n",
       "    }\n",
       "\n",
       "    .dataframe tbody tr th {\n",
       "        vertical-align: top;\n",
       "    }\n",
       "\n",
       "    .dataframe thead th {\n",
       "        text-align: right;\n",
       "    }\n",
       "</style>\n",
       "<table border=\"1\" class=\"dataframe\">\n",
       "  <thead>\n",
       "    <tr style=\"text-align: right;\">\n",
       "      <th></th>\n",
       "      <th>customer_id</th>\n",
       "      <th>geohash</th>\n",
       "      <th>order_id</th>\n",
       "      <th>vendor_id</th>\n",
       "      <th>product_id</th>\n",
       "      <th>day_of_week</th>\n",
       "      <th>order_time</th>\n",
       "      <th>order_day</th>\n",
       "    </tr>\n",
       "  </thead>\n",
       "  <tbody>\n",
       "    <tr>\n",
       "      <th>0</th>\n",
       "      <td>90a4e98622</td>\n",
       "      <td>u6sc4</td>\n",
       "      <td>0</td>\n",
       "      <td>e1f3e4a4</td>\n",
       "      <td>9971ae2cd1ba</td>\n",
       "      <td>3</td>\n",
       "      <td>16:00:16</td>\n",
       "      <td>11 days</td>\n",
       "    </tr>\n",
       "    <tr>\n",
       "      <th>1</th>\n",
       "      <td>90a4e98622</td>\n",
       "      <td>u6sc4</td>\n",
       "      <td>0</td>\n",
       "      <td>e1f3e4a4</td>\n",
       "      <td>00734c4b351f</td>\n",
       "      <td>3</td>\n",
       "      <td>16:00:16</td>\n",
       "      <td>11 days</td>\n",
       "    </tr>\n",
       "    <tr>\n",
       "      <th>2</th>\n",
       "      <td>90a4e98622</td>\n",
       "      <td>u6sc4</td>\n",
       "      <td>1</td>\n",
       "      <td>5d1b1300</td>\n",
       "      <td>9a2b00f39640</td>\n",
       "      <td>1</td>\n",
       "      <td>16:34:04</td>\n",
       "      <td>51 days</td>\n",
       "    </tr>\n",
       "  </tbody>\n",
       "</table>\n",
       "</div>"
      ],
      "text/plain": [
       "  customer_id geohash  order_id vendor_id    product_id  day_of_week  \\\n",
       "0  90a4e98622   u6sc4         0  e1f3e4a4  9971ae2cd1ba            3   \n",
       "1  90a4e98622   u6sc4         0  e1f3e4a4  00734c4b351f            3   \n",
       "2  90a4e98622   u6sc4         1  5d1b1300  9a2b00f39640            1   \n",
       "\n",
       "  order_time order_day  \n",
       "0   16:00:16   11 days  \n",
       "1   16:00:16   11 days  \n",
       "2   16:34:04   51 days  "
      ]
     },
     "metadata": {},
     "output_type": "display_data"
    },
    {
     "name": "stdout",
     "output_type": "stream",
     "text": [
      "Data shape: (617196, 8)\n"
     ]
    }
   ],
   "source": [
    "data_orders_train = get_data(os.path.join(PATH, 'orders_se_train.txt'))"
   ]
  },
  {
   "cell_type": "markdown",
   "id": "878554f0",
   "metadata": {},
   "source": []
  },
  {
   "cell_type": "code",
   "execution_count": 13,
   "id": "67514d16",
   "metadata": {},
   "outputs": [
    {
     "data": {
      "text/html": [
       "<div>\n",
       "<style scoped>\n",
       "    .dataframe tbody tr th:only-of-type {\n",
       "        vertical-align: middle;\n",
       "    }\n",
       "\n",
       "    .dataframe tbody tr th {\n",
       "        vertical-align: top;\n",
       "    }\n",
       "\n",
       "    .dataframe thead th {\n",
       "        text-align: right;\n",
       "    }\n",
       "</style>\n",
       "<table border=\"1\" class=\"dataframe\">\n",
       "  <thead>\n",
       "    <tr style=\"text-align: right;\">\n",
       "      <th></th>\n",
       "      <th>customer_id</th>\n",
       "      <th>geohash</th>\n",
       "      <th>order_id</th>\n",
       "      <th>vendor_id</th>\n",
       "      <th>product_id</th>\n",
       "      <th>day_of_week</th>\n",
       "      <th>order_time</th>\n",
       "      <th>order_day</th>\n",
       "    </tr>\n",
       "  </thead>\n",
       "  <tbody>\n",
       "    <tr>\n",
       "      <th>3</th>\n",
       "      <td>90a4e98622</td>\n",
       "      <td>u6sc4</td>\n",
       "      <td>2</td>\n",
       "      <td>5d1b1300</td>\n",
       "      <td>9a2b00f39640</td>\n",
       "      <td>6</td>\n",
       "      <td>14:39:12</td>\n",
       "      <td>84 days</td>\n",
       "    </tr>\n",
       "    <tr>\n",
       "      <th>17</th>\n",
       "      <td>1c2b4598db</td>\n",
       "      <td>u6sc9</td>\n",
       "      <td>11</td>\n",
       "      <td>262f6435</td>\n",
       "      <td>ae0b5cbf8dd1</td>\n",
       "      <td>6</td>\n",
       "      <td>17:10:04</td>\n",
       "      <td>84 days</td>\n",
       "    </tr>\n",
       "    <tr>\n",
       "      <th>18</th>\n",
       "      <td>1c2b4598db</td>\n",
       "      <td>u6sc9</td>\n",
       "      <td>11</td>\n",
       "      <td>262f6435</td>\n",
       "      <td>674d25744130</td>\n",
       "      <td>6</td>\n",
       "      <td>17:10:04</td>\n",
       "      <td>84 days</td>\n",
       "    </tr>\n",
       "  </tbody>\n",
       "</table>\n",
       "</div>"
      ],
      "text/plain": [
       "   customer_id geohash  order_id vendor_id    product_id  day_of_week  \\\n",
       "3   90a4e98622   u6sc4         2  5d1b1300  9a2b00f39640            6   \n",
       "17  1c2b4598db   u6sc9        11  262f6435  ae0b5cbf8dd1            6   \n",
       "18  1c2b4598db   u6sc9        11  262f6435  674d25744130            6   \n",
       "\n",
       "   order_time order_day  \n",
       "3    14:39:12   84 days  \n",
       "17   17:10:04   84 days  \n",
       "18   17:10:04   84 days  "
      ]
     },
     "metadata": {},
     "output_type": "display_data"
    },
    {
     "name": "stdout",
     "output_type": "stream",
     "text": [
      "Data shape: (139542, 8)\n"
     ]
    }
   ],
   "source": [
    "data_orders_test = get_data(os.path.join(PATH, 'orders_se_test.txt'))"
   ]
  },
  {
   "cell_type": "markdown",
   "id": "05bb6c23",
   "metadata": {},
   "source": []
  },
  {
   "cell_type": "code",
   "execution_count": 14,
   "id": "e72ca669",
   "metadata": {},
   "outputs": [
    {
     "data": {
      "text/plain": [
       "True"
      ]
     },
     "execution_count": 14,
     "metadata": {},
     "output_type": "execute_result"
    }
   ],
   "source": [
    "data_orders_train.shape[0] + data_orders_test.shape[0] == data_orders.shape[0]"
   ]
  },
  {
   "cell_type": "markdown",
   "id": "7e8ebfd8",
   "metadata": {},
   "source": []
  },
  {
   "cell_type": "code",
   "execution_count": 15,
   "id": "3e46c431",
   "metadata": {},
   "outputs": [
    {
     "data": {
      "text/plain": [
       "True"
      ]
     },
     "execution_count": 15,
     "metadata": {},
     "output_type": "execute_result"
    }
   ],
   "source": [
    "len(set(list(data_orders_train.index) + list(data_orders_test.index))) == data_orders.shape[0]"
   ]
  },
  {
   "cell_type": "code",
   "execution_count": null,
   "id": "3d101265",
   "metadata": {},
   "outputs": [],
   "source": []
  },
  {
   "cell_type": "code",
   "execution_count": null,
   "id": "62c1364f",
   "metadata": {},
   "outputs": [],
   "source": []
  },
  {
   "cell_type": "code",
   "execution_count": null,
   "id": "4f5570b4",
   "metadata": {},
   "outputs": [],
   "source": []
  },
  {
   "cell_type": "markdown",
   "id": "0c68c93c",
   "metadata": {},
   "source": [
    "### 1.2 Объединение данных"
   ]
  },
  {
   "cell_type": "markdown",
   "id": "db5c68e6",
   "metadata": {},
   "source": []
  },
  {
   "cell_type": "code",
   "execution_count": 16,
   "id": "e1c8113d",
   "metadata": {},
   "outputs": [
    {
     "data": {
      "text/plain": [
       "Index(['vendor_id', 'chain_id', 'geohash_vendor', 'primary_cuisine'], dtype='object')"
      ]
     },
     "execution_count": 16,
     "metadata": {},
     "output_type": "execute_result"
    }
   ],
   "source": [
    "data_vendors.columns = [col if col not in ['geohash'] else f'{col}_vendor' for col in data_vendors.columns]\n",
    "data_vendors.columns"
   ]
  },
  {
   "cell_type": "markdown",
   "id": "b41fe656",
   "metadata": {},
   "source": []
  },
  {
   "cell_type": "code",
   "execution_count": 17,
   "id": "fb0eb36c",
   "metadata": {},
   "outputs": [
    {
     "data": {
      "text/html": [
       "<div>\n",
       "<style scoped>\n",
       "    .dataframe tbody tr th:only-of-type {\n",
       "        vertical-align: middle;\n",
       "    }\n",
       "\n",
       "    .dataframe tbody tr th {\n",
       "        vertical-align: top;\n",
       "    }\n",
       "\n",
       "    .dataframe thead th {\n",
       "        text-align: right;\n",
       "    }\n",
       "</style>\n",
       "<table border=\"1\" class=\"dataframe\">\n",
       "  <thead>\n",
       "    <tr style=\"text-align: right;\">\n",
       "      <th></th>\n",
       "      <th>product_id</th>\n",
       "      <th>name</th>\n",
       "      <th>unit_price</th>\n",
       "      <th>chain_id</th>\n",
       "      <th>geohash_vendor</th>\n",
       "      <th>primary_cuisine</th>\n",
       "    </tr>\n",
       "  </thead>\n",
       "  <tbody>\n",
       "    <tr>\n",
       "      <th>0</th>\n",
       "      <td>055e72373069</td>\n",
       "      <td>Small</td>\n",
       "      <td>0.496</td>\n",
       "      <td>NaN</td>\n",
       "      <td>u6scd</td>\n",
       "      <td>pizza</td>\n",
       "    </tr>\n",
       "    <tr>\n",
       "      <th>1</th>\n",
       "      <td>08606ad2b6e0</td>\n",
       "      <td>Coca-Cola Zero 33 cl</td>\n",
       "      <td>0.076</td>\n",
       "      <td>NaN</td>\n",
       "      <td>u6scd</td>\n",
       "      <td>pizza</td>\n",
       "    </tr>\n",
       "    <tr>\n",
       "      <th>2</th>\n",
       "      <td>bcd1a2e2c499</td>\n",
       "      <td>Kvällsmys 2</td>\n",
       "      <td>1.000</td>\n",
       "      <td>NaN</td>\n",
       "      <td>u6scd</td>\n",
       "      <td>pizza</td>\n",
       "    </tr>\n",
       "  </tbody>\n",
       "</table>\n",
       "</div>"
      ],
      "text/plain": [
       "     product_id                  name  unit_price chain_id geohash_vendor  \\\n",
       "0  055e72373069                 Small       0.496      NaN          u6scd   \n",
       "1  08606ad2b6e0  Coca-Cola Zero 33 cl       0.076      NaN          u6scd   \n",
       "2  bcd1a2e2c499           Kvällsmys 2       1.000      NaN          u6scd   \n",
       "\n",
       "  primary_cuisine  \n",
       "0           pizza  \n",
       "1           pizza  \n",
       "2           pizza  "
      ]
     },
     "execution_count": 17,
     "metadata": {},
     "output_type": "execute_result"
    }
   ],
   "source": [
    "data_products_vendors = data_products.merge(data_vendors, on='vendor_id') \\\n",
    "                                     .drop('vendor_id', axis=1)\n",
    "data_products_vendors.head(3)"
   ]
  },
  {
   "cell_type": "markdown",
   "id": "a941c0a9",
   "metadata": {},
   "source": []
  },
  {
   "cell_type": "code",
   "execution_count": 18,
   "id": "a0b1d35b",
   "metadata": {},
   "outputs": [],
   "source": [
    "def merge_data_with_products_and_vendors(df: pd.DataFrame, \n",
    "                                         df_to_merge: pd.DataFrame,\n",
    "                                         on_col: str) -> pd.DataFrame:\n",
    "    \n",
    "    result = df.merge(df_to_merge, on=on_col)\n",
    "    \n",
    "    display(result.head(3))\n",
    "    print('Data shape:', result.shape)\n",
    "    \n",
    "    return result"
   ]
  },
  {
   "cell_type": "markdown",
   "id": "0356cfab",
   "metadata": {},
   "source": []
  },
  {
   "cell_type": "code",
   "execution_count": 19,
   "id": "598e6623",
   "metadata": {},
   "outputs": [
    {
     "data": {
      "text/html": [
       "<div>\n",
       "<style scoped>\n",
       "    .dataframe tbody tr th:only-of-type {\n",
       "        vertical-align: middle;\n",
       "    }\n",
       "\n",
       "    .dataframe tbody tr th {\n",
       "        vertical-align: top;\n",
       "    }\n",
       "\n",
       "    .dataframe thead th {\n",
       "        text-align: right;\n",
       "    }\n",
       "</style>\n",
       "<table border=\"1\" class=\"dataframe\">\n",
       "  <thead>\n",
       "    <tr style=\"text-align: right;\">\n",
       "      <th></th>\n",
       "      <th>customer_id</th>\n",
       "      <th>geohash</th>\n",
       "      <th>order_id</th>\n",
       "      <th>vendor_id</th>\n",
       "      <th>product_id</th>\n",
       "      <th>day_of_week</th>\n",
       "      <th>order_time</th>\n",
       "      <th>order_day</th>\n",
       "      <th>name</th>\n",
       "      <th>unit_price</th>\n",
       "      <th>chain_id</th>\n",
       "      <th>geohash_vendor</th>\n",
       "      <th>primary_cuisine</th>\n",
       "    </tr>\n",
       "  </thead>\n",
       "  <tbody>\n",
       "    <tr>\n",
       "      <th>0</th>\n",
       "      <td>90a4e98622</td>\n",
       "      <td>u6sc4</td>\n",
       "      <td>0</td>\n",
       "      <td>e1f3e4a4</td>\n",
       "      <td>9971ae2cd1ba</td>\n",
       "      <td>3</td>\n",
       "      <td>16:00:16</td>\n",
       "      <td>11 days</td>\n",
       "      <td>Coca-Cola original taste 33 cl</td>\n",
       "      <td>0.152</td>\n",
       "      <td>3ed908e5</td>\n",
       "      <td>u6sc5</td>\n",
       "      <td>italienskt</td>\n",
       "    </tr>\n",
       "    <tr>\n",
       "      <th>1</th>\n",
       "      <td>3f76a09dc3</td>\n",
       "      <td>u6scj</td>\n",
       "      <td>3648</td>\n",
       "      <td>e1f3e4a4</td>\n",
       "      <td>9971ae2cd1ba</td>\n",
       "      <td>0</td>\n",
       "      <td>15:21:39</td>\n",
       "      <td>57 days</td>\n",
       "      <td>Coca-Cola original taste 33 cl</td>\n",
       "      <td>0.152</td>\n",
       "      <td>3ed908e5</td>\n",
       "      <td>u6sc5</td>\n",
       "      <td>italienskt</td>\n",
       "    </tr>\n",
       "    <tr>\n",
       "      <th>2</th>\n",
       "      <td>0d6785f3d2</td>\n",
       "      <td>u6sbv</td>\n",
       "      <td>6300</td>\n",
       "      <td>e1f3e4a4</td>\n",
       "      <td>9971ae2cd1ba</td>\n",
       "      <td>2</td>\n",
       "      <td>16:21:32</td>\n",
       "      <td>52 days</td>\n",
       "      <td>Coca-Cola original taste 33 cl</td>\n",
       "      <td>0.152</td>\n",
       "      <td>3ed908e5</td>\n",
       "      <td>u6sc5</td>\n",
       "      <td>italienskt</td>\n",
       "    </tr>\n",
       "  </tbody>\n",
       "</table>\n",
       "</div>"
      ],
      "text/plain": [
       "  customer_id geohash  order_id vendor_id    product_id  day_of_week  \\\n",
       "0  90a4e98622   u6sc4         0  e1f3e4a4  9971ae2cd1ba            3   \n",
       "1  3f76a09dc3   u6scj      3648  e1f3e4a4  9971ae2cd1ba            0   \n",
       "2  0d6785f3d2   u6sbv      6300  e1f3e4a4  9971ae2cd1ba            2   \n",
       "\n",
       "  order_time order_day                            name  unit_price  chain_id  \\\n",
       "0   16:00:16   11 days  Coca-Cola original taste 33 cl       0.152  3ed908e5   \n",
       "1   15:21:39   57 days  Coca-Cola original taste 33 cl       0.152  3ed908e5   \n",
       "2   16:21:32   52 days  Coca-Cola original taste 33 cl       0.152  3ed908e5   \n",
       "\n",
       "  geohash_vendor primary_cuisine  \n",
       "0          u6sc5      italienskt  \n",
       "1          u6sc5      italienskt  \n",
       "2          u6sc5      italienskt  "
      ]
     },
     "metadata": {},
     "output_type": "display_data"
    },
    {
     "name": "stdout",
     "output_type": "stream",
     "text": [
      "Data shape: (617196, 13)\n"
     ]
    }
   ],
   "source": [
    "data_train = merge_data_with_products_and_vendors(\n",
    "    data_orders_train, data_products_vendors, 'product_id'\n",
    ")"
   ]
  },
  {
   "cell_type": "markdown",
   "id": "60826bd8",
   "metadata": {},
   "source": []
  },
  {
   "cell_type": "code",
   "execution_count": 20,
   "id": "cb7d3eaa",
   "metadata": {},
   "outputs": [
    {
     "data": {
      "text/html": [
       "<div>\n",
       "<style scoped>\n",
       "    .dataframe tbody tr th:only-of-type {\n",
       "        vertical-align: middle;\n",
       "    }\n",
       "\n",
       "    .dataframe tbody tr th {\n",
       "        vertical-align: top;\n",
       "    }\n",
       "\n",
       "    .dataframe thead th {\n",
       "        text-align: right;\n",
       "    }\n",
       "</style>\n",
       "<table border=\"1\" class=\"dataframe\">\n",
       "  <thead>\n",
       "    <tr style=\"text-align: right;\">\n",
       "      <th></th>\n",
       "      <th>customer_id</th>\n",
       "      <th>geohash</th>\n",
       "      <th>order_id</th>\n",
       "      <th>vendor_id</th>\n",
       "      <th>product_id</th>\n",
       "      <th>day_of_week</th>\n",
       "      <th>order_time</th>\n",
       "      <th>order_day</th>\n",
       "      <th>name</th>\n",
       "      <th>unit_price</th>\n",
       "      <th>chain_id</th>\n",
       "      <th>geohash_vendor</th>\n",
       "      <th>primary_cuisine</th>\n",
       "    </tr>\n",
       "  </thead>\n",
       "  <tbody>\n",
       "    <tr>\n",
       "      <th>0</th>\n",
       "      <td>90a4e98622</td>\n",
       "      <td>u6sc4</td>\n",
       "      <td>2</td>\n",
       "      <td>5d1b1300</td>\n",
       "      <td>9a2b00f39640</td>\n",
       "      <td>6</td>\n",
       "      <td>14:39:12</td>\n",
       "      <td>84 days</td>\n",
       "      <td>Pad Thai</td>\n",
       "      <td>0.64</td>\n",
       "      <td>f782a3fc</td>\n",
       "      <td>u6sc6</td>\n",
       "      <td>asiatiskt</td>\n",
       "    </tr>\n",
       "    <tr>\n",
       "      <th>1</th>\n",
       "      <td>ee38cbae98</td>\n",
       "      <td>u6sc2</td>\n",
       "      <td>4060</td>\n",
       "      <td>5d1b1300</td>\n",
       "      <td>9a2b00f39640</td>\n",
       "      <td>5</td>\n",
       "      <td>17:54:39</td>\n",
       "      <td>83 days</td>\n",
       "      <td>Pad Thai</td>\n",
       "      <td>0.64</td>\n",
       "      <td>f782a3fc</td>\n",
       "      <td>u6sc6</td>\n",
       "      <td>asiatiskt</td>\n",
       "    </tr>\n",
       "    <tr>\n",
       "      <th>2</th>\n",
       "      <td>2ece94e7e9</td>\n",
       "      <td>u6sc3</td>\n",
       "      <td>4157</td>\n",
       "      <td>5d1b1300</td>\n",
       "      <td>9a2b00f39640</td>\n",
       "      <td>2</td>\n",
       "      <td>17:20:34</td>\n",
       "      <td>80 days</td>\n",
       "      <td>Pad Thai</td>\n",
       "      <td>0.64</td>\n",
       "      <td>f782a3fc</td>\n",
       "      <td>u6sc6</td>\n",
       "      <td>asiatiskt</td>\n",
       "    </tr>\n",
       "  </tbody>\n",
       "</table>\n",
       "</div>"
      ],
      "text/plain": [
       "  customer_id geohash  order_id vendor_id    product_id  day_of_week  \\\n",
       "0  90a4e98622   u6sc4         2  5d1b1300  9a2b00f39640            6   \n",
       "1  ee38cbae98   u6sc2      4060  5d1b1300  9a2b00f39640            5   \n",
       "2  2ece94e7e9   u6sc3      4157  5d1b1300  9a2b00f39640            2   \n",
       "\n",
       "  order_time order_day      name  unit_price  chain_id geohash_vendor  \\\n",
       "0   14:39:12   84 days  Pad Thai        0.64  f782a3fc          u6sc6   \n",
       "1   17:54:39   83 days  Pad Thai        0.64  f782a3fc          u6sc6   \n",
       "2   17:20:34   80 days  Pad Thai        0.64  f782a3fc          u6sc6   \n",
       "\n",
       "  primary_cuisine  \n",
       "0       asiatiskt  \n",
       "1       asiatiskt  \n",
       "2       asiatiskt  "
      ]
     },
     "metadata": {},
     "output_type": "display_data"
    },
    {
     "name": "stdout",
     "output_type": "stream",
     "text": [
      "Data shape: (139542, 13)\n"
     ]
    }
   ],
   "source": [
    "data_test = merge_data_with_products_and_vendors(\n",
    "    data_orders_test, data_products_vendors, 'product_id'\n",
    ")"
   ]
  },
  {
   "cell_type": "markdown",
   "id": "b11db024",
   "metadata": {},
   "source": []
  },
  {
   "cell_type": "code",
   "execution_count": null,
   "id": "8ee2c77b",
   "metadata": {},
   "outputs": [],
   "source": []
  },
  {
   "cell_type": "markdown",
   "id": "0b975e73",
   "metadata": {},
   "source": [
    "## 2 Общий анализ данных"
   ]
  },
  {
   "cell_type": "markdown",
   "id": "b7106a14",
   "metadata": {},
   "source": []
  },
  {
   "cell_type": "code",
   "execution_count": 21,
   "id": "5980ba4b",
   "metadata": {},
   "outputs": [
    {
     "name": "stdout",
     "output_type": "stream",
     "text": [
      "<class 'pandas.core.frame.DataFrame'>\n",
      "RangeIndex: 617196 entries, 0 to 617195\n",
      "Data columns (total 13 columns):\n",
      " #   Column           Non-Null Count   Dtype  \n",
      "---  ------           --------------   -----  \n",
      " 0   customer_id      617196 non-null  object \n",
      " 1   geohash          617196 non-null  object \n",
      " 2   order_id         617196 non-null  int64  \n",
      " 3   vendor_id        617196 non-null  object \n",
      " 4   product_id       617196 non-null  object \n",
      " 5   day_of_week      617196 non-null  int64  \n",
      " 6   order_time       617196 non-null  object \n",
      " 7   order_day        617196 non-null  object \n",
      " 8   name             617196 non-null  object \n",
      " 9   unit_price       617196 non-null  float64\n",
      " 10  chain_id         295833 non-null  object \n",
      " 11  geohash_vendor   617196 non-null  object \n",
      " 12  primary_cuisine  617196 non-null  object \n",
      "dtypes: float64(1), int64(2), object(10)\n",
      "memory usage: 61.2+ MB\n"
     ]
    }
   ],
   "source": [
    "data_train.info()"
   ]
  },
  {
   "cell_type": "markdown",
   "id": "fcfb0a29",
   "metadata": {},
   "source": []
  },
  {
   "cell_type": "code",
   "execution_count": 28,
   "id": "8aaf71f4",
   "metadata": {},
   "outputs": [
    {
     "data": {
      "text/html": [
       "<div>\n",
       "<style scoped>\n",
       "    .dataframe tbody tr th:only-of-type {\n",
       "        vertical-align: middle;\n",
       "    }\n",
       "\n",
       "    .dataframe tbody tr th {\n",
       "        vertical-align: top;\n",
       "    }\n",
       "\n",
       "    .dataframe thead th {\n",
       "        text-align: right;\n",
       "    }\n",
       "</style>\n",
       "<table border=\"1\" class=\"dataframe\">\n",
       "  <thead>\n",
       "    <tr style=\"text-align: right;\">\n",
       "      <th></th>\n",
       "      <th>count</th>\n",
       "      <th>mean</th>\n",
       "      <th>std</th>\n",
       "      <th>min</th>\n",
       "      <th>25%</th>\n",
       "      <th>50%</th>\n",
       "      <th>75%</th>\n",
       "      <th>max</th>\n",
       "    </tr>\n",
       "  </thead>\n",
       "  <tbody>\n",
       "    <tr>\n",
       "      <th>order_id</th>\n",
       "      <td>617196.0</td>\n",
       "      <td>199998.939128</td>\n",
       "      <td>115466.216446</td>\n",
       "      <td>0.0</td>\n",
       "      <td>99876.00</td>\n",
       "      <td>199947.50</td>\n",
       "      <td>299943.750</td>\n",
       "      <td>399999.0</td>\n",
       "    </tr>\n",
       "    <tr>\n",
       "      <th>day_of_week</th>\n",
       "      <td>617196.0</td>\n",
       "      <td>3.318369</td>\n",
       "      <td>1.954286</td>\n",
       "      <td>0.0</td>\n",
       "      <td>2.00</td>\n",
       "      <td>4.00</td>\n",
       "      <td>5.000</td>\n",
       "      <td>6.0</td>\n",
       "    </tr>\n",
       "    <tr>\n",
       "      <th>unit_price</th>\n",
       "      <td>617196.0</td>\n",
       "      <td>0.422040</td>\n",
       "      <td>0.252432</td>\n",
       "      <td>0.0</td>\n",
       "      <td>0.16</td>\n",
       "      <td>0.44</td>\n",
       "      <td>0.596</td>\n",
       "      <td>1.0</td>\n",
       "    </tr>\n",
       "  </tbody>\n",
       "</table>\n",
       "</div>"
      ],
      "text/plain": [
       "                count           mean            std  min       25%        50%  \\\n",
       "order_id     617196.0  199998.939128  115466.216446  0.0  99876.00  199947.50   \n",
       "day_of_week  617196.0       3.318369       1.954286  0.0      2.00       4.00   \n",
       "unit_price   617196.0       0.422040       0.252432  0.0      0.16       0.44   \n",
       "\n",
       "                    75%       max  \n",
       "order_id     299943.750  399999.0  \n",
       "day_of_week       5.000       6.0  \n",
       "unit_price        0.596       1.0  "
      ]
     },
     "execution_count": 28,
     "metadata": {},
     "output_type": "execute_result"
    }
   ],
   "source": [
    "data_train.describe().T"
   ]
  },
  {
   "cell_type": "markdown",
   "id": "7ecf50c9",
   "metadata": {},
   "source": []
  },
  {
   "cell_type": "code",
   "execution_count": 22,
   "id": "6bf667d8",
   "metadata": {},
   "outputs": [
    {
     "data": {
      "text/plain": [
       "customer_id             0\n",
       "geohash                 0\n",
       "order_id                0\n",
       "vendor_id               0\n",
       "product_id              0\n",
       "day_of_week             0\n",
       "order_time              0\n",
       "order_day               0\n",
       "name                    0\n",
       "unit_price              0\n",
       "chain_id           321363\n",
       "geohash_vendor          0\n",
       "primary_cuisine         0\n",
       "dtype: int64"
      ]
     },
     "execution_count": 22,
     "metadata": {},
     "output_type": "execute_result"
    }
   ],
   "source": [
    "data_train.isna().sum()"
   ]
  },
  {
   "cell_type": "markdown",
   "id": "e481cdd7",
   "metadata": {},
   "source": []
  },
  {
   "cell_type": "code",
   "execution_count": 23,
   "id": "46921285",
   "metadata": {},
   "outputs": [
    {
     "name": "stdout",
     "output_type": "stream",
     "text": [
      "Total duplicates: 12610\n"
     ]
    }
   ],
   "source": [
    "print('Total duplicates:', data_train.duplicated().sum())"
   ]
  },
  {
   "cell_type": "markdown",
   "id": "a329995b",
   "metadata": {},
   "source": []
  },
  {
   "cell_type": "code",
   "execution_count": 29,
   "id": "1a3dd4c4",
   "metadata": {},
   "outputs": [
    {
     "data": {
      "text/plain": [
       "customer_id\n",
       "968dea7d53    19\n",
       "8e11194409    15\n",
       "bd0fbe1e28    15\n",
       "a5774f4a01    14\n",
       "8e8e6613d9    13\n",
       "              ..\n",
       "5e2b3a839c     1\n",
       "af2b216ff8     1\n",
       "f219dd8ed7     1\n",
       "0ae188c34c     1\n",
       "2b9b43ad47     1\n",
       "Name: count, Length: 9116, dtype: int64"
      ]
     },
     "execution_count": 29,
     "metadata": {},
     "output_type": "execute_result"
    }
   ],
   "source": [
    "data_train.iloc[data_train.duplicated()[data_train.duplicated() == True].index]['customer_id'].value_counts()"
   ]
  },
  {
   "cell_type": "code",
   "execution_count": null,
   "id": "b923d410",
   "metadata": {},
   "outputs": [],
   "source": []
  },
  {
   "cell_type": "code",
   "execution_count": null,
   "id": "ba67790d",
   "metadata": {},
   "outputs": [],
   "source": []
  },
  {
   "cell_type": "code",
   "execution_count": null,
   "id": "a119803b",
   "metadata": {},
   "outputs": [],
   "source": []
  },
  {
   "cell_type": "code",
   "execution_count": null,
   "id": "eaf8ee0c",
   "metadata": {},
   "outputs": [],
   "source": []
  },
  {
   "cell_type": "code",
   "execution_count": 25,
   "id": "949bb4f2",
   "metadata": {},
   "outputs": [
    {
     "name": "stdout",
     "output_type": "stream",
     "text": [
      "['Small' 'Alcachofas Empinzadas' 'Coca-Cola 2L' ...\n",
      " 'Jätterulle med tjockkorv' 'Bruschetta Gratinata' 'Simpsons Pizza']\n"
     ]
    }
   ],
   "source": [
    "print(data_products['name'].unique())"
   ]
  },
  {
   "cell_type": "code",
   "execution_count": null,
   "id": "b127aa59",
   "metadata": {},
   "outputs": [],
   "source": []
  },
  {
   "cell_type": "markdown",
   "id": "fd4fa141",
   "metadata": {},
   "source": [
    "## 3 Предобработка данных"
   ]
  },
  {
   "cell_type": "code",
   "execution_count": null,
   "id": "b34d02a4",
   "metadata": {},
   "outputs": [],
   "source": []
  },
  {
   "cell_type": "code",
   "execution_count": null,
   "id": "8c129981",
   "metadata": {},
   "outputs": [],
   "source": []
  },
  {
   "cell_type": "code",
   "execution_count": null,
   "id": "b916b0c5",
   "metadata": {},
   "outputs": [],
   "source": []
  },
  {
   "cell_type": "code",
   "execution_count": null,
   "id": "347cfdce",
   "metadata": {},
   "outputs": [],
   "source": []
  },
  {
   "cell_type": "code",
   "execution_count": null,
   "id": "985a879c",
   "metadata": {},
   "outputs": [],
   "source": []
  },
  {
   "cell_type": "markdown",
   "id": "2bf5f179",
   "metadata": {},
   "source": [
    "## 4 Исследовательский анализ данных"
   ]
  },
  {
   "cell_type": "code",
   "execution_count": null,
   "id": "6880bacb",
   "metadata": {},
   "outputs": [],
   "source": []
  },
  {
   "cell_type": "code",
   "execution_count": null,
   "id": "658d0877",
   "metadata": {},
   "outputs": [],
   "source": []
  },
  {
   "cell_type": "code",
   "execution_count": null,
   "id": "50cdb1e9",
   "metadata": {},
   "outputs": [],
   "source": []
  },
  {
   "cell_type": "markdown",
   "id": "7c73e019",
   "metadata": {},
   "source": []
  }
 ],
 "metadata": {
  "kernelspec": {
   "display_name": "Python 3 (ipykernel)",
   "language": "python",
   "name": "python3"
  },
  "language_info": {
   "codemirror_mode": {
    "name": "ipython",
    "version": 3
   },
   "file_extension": ".py",
   "mimetype": "text/x-python",
   "name": "python",
   "nbconvert_exporter": "python",
   "pygments_lexer": "ipython3",
   "version": "3.10.11"
  }
 },
 "nbformat": 4,
 "nbformat_minor": 5
}
