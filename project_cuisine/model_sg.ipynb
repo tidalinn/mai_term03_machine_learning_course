{
 "cells": [
  {
   "cell_type": "markdown",
   "id": "3c3bab0b",
   "metadata": {},
   "source": [
    "# Содержание"
   ]
  },
  {
   "cell_type": "markdown",
   "id": "09168b6f",
   "metadata": {},
   "source": [
    "* [1 Подготовка данных](#1-Подготовка-данных)\n",
    "    - [1.1 Загрузка данных](#1.1-Загрузка-данных)\n",
    "    - [1.2 Обработка целевого признака](#1.2-Обработка-целевого-признака)\n",
    "    - [1.3 Разделение на выборки](#1.3-Разделение-на-выборки)\n",
    "    - [1.4 Кодирование данных](#1.4-Кодирование-данных)\n",
    "* [2 Обучение модели](#2-Обучение-модели)\n",
    "    - [2.1 Baseline](#2.1-Baseline)\n",
    "    - [2.2 FCNN](#2.2-FCNN)\n",
    "    - [2.3 Выбор модели](#2.3-Выбор-модели)\n",
    "* [3 Тестирование модели](#3-Тестирование-модели)\n",
    "* [4 Экспорт модели](#4-Экспорт-модели)\n",
    "* [5 Общий вывод](#5-Общий-вывод)"
   ]
  },
  {
   "cell_type": "markdown",
   "id": "4ae16285",
   "metadata": {},
   "source": [
    "# Этап 2. Подбор модели"
   ]
  },
  {
   "cell_type": "markdown",
   "id": "6fbe8178",
   "metadata": {},
   "source": [
    "**Проект:** Разработка системы распознавания кухни по продукту с рекомендацией района, его предоставляющего.\n",
    "\n",
    "**Задача:** Подбор модели классификации.\n",
    "\n",
    "**Источник данных:** `/data/data_sg/data_train` и `/data/data_sg/data_test`.\n",
    "\n",
    "**Характер данных:** сведения о заказах в Сингапуре ([Delivery Hero Recommendation Dataset](https://drive.google.com/file/d/12N6iHczXIVX4E_KM15jxeJ_7WQ2urHFq/view)).\n",
    "\n",
    "**Цель:** Подбор модели в рамках создания рекомендательной системы."
   ]
  },
  {
   "cell_type": "markdown",
   "id": "240baf17",
   "metadata": {},
   "source": [
    ">* *Целевой признак* - кухня, на которой специализируется продавец (`primary_cuisine`).\n",
    "\n",
    "по которому можно указать точку на карте\n",
    "\n",
    "(загрузил фотку / написал \"курица\" - выдать ближайшие рестораны) как ранжирование, рекомендательная система"
   ]
  },
  {
   "cell_type": "markdown",
   "id": "02280085",
   "metadata": {},
   "source": [
    "Определение | Описание\n",
    "-|-\n",
    "**Образ результата** | Рекомендательная система на основе прогнозирования кухни\n",
    "**Тип задачи** | NLP + Рекомендательная система\n",
    "**Входные данные** | Строка с названием желаемого блюда\n",
    "**Выходные данные** | Вид кухни (**`primary_cuisine`**)\n",
    "**Итоговый вывод** | Рекомендация ресторанов, предоставляющих блюдо и<br>специализирующихся на соответствующей блюду кухне"
   ]
  },
  {
   "cell_type": "markdown",
   "id": "c1bf3ba0",
   "metadata": {},
   "source": [
    ">* С учётом планируемого результата разработки системы рекомендации путь пользователя будет выглядеть следующим образом:\n",
    ">    1. Пользователь вводит название блюда.\n",
    ">    2. Предсказательная модель:\n",
    ">        * Определяет кухню, к которой относится введённое название. В случае несовпадения выводится фраза `Cannot recognize the cuisine`.\n",
    ">        * С учётом определённой кухни, текущих часа и времени суток, а также расположения пользователя и его отдалённость от продавца рекомендует пользователю ТОП-5 точек, предлагающих это блюдо.\n",
    ">* Таким образом, в качестве признаков будут взяты столбцы: `distance_to_vendor`, `geohash`, `geohash_vendor`, `time_of_day`, `hour`, `name`.\n",
    ">* В качестве завершающего этапа подготовки данных необходимо произвести векторизацию текстов."
   ]
  },
  {
   "cell_type": "markdown",
   "id": "38842a9d",
   "metadata": {},
   "source": []
  },
  {
   "cell_type": "markdown",
   "id": "98384454",
   "metadata": {},
   "source": []
  },
  {
   "cell_type": "markdown",
   "id": "c8cda28f",
   "metadata": {},
   "source": []
  },
  {
   "cell_type": "markdown",
   "id": "0eb6d3dc",
   "metadata": {},
   "source": [
    "две задачи: многоклассовая классификация и рекомендательная система"
   ]
  },
  {
   "cell_type": "markdown",
   "id": "3ec94d3a",
   "metadata": {},
   "source": [
    "---"
   ]
  },
  {
   "cell_type": "markdown",
   "id": "44b050a7",
   "metadata": {},
   "source": [
    "## 1 Подготовка данных"
   ]
  },
  {
   "cell_type": "markdown",
   "id": "0878a582",
   "metadata": {},
   "source": [
    "### 1.1 Загрузка данных"
   ]
  },
  {
   "cell_type": "markdown",
   "id": "f5ddd36f",
   "metadata": {},
   "source": [
    "Установка библиотек:"
   ]
  },
  {
   "cell_type": "code",
   "execution_count": 1,
   "id": "e27f8cfa",
   "metadata": {},
   "outputs": [],
   "source": [
    "%%capture no-display\n",
    "!pip install scikit-multilearn pickle"
   ]
  },
  {
   "cell_type": "markdown",
   "id": "b96cdd7c",
   "metadata": {},
   "source": [
    "Импорт библиотек:"
   ]
  },
  {
   "cell_type": "code",
   "execution_count": 2,
   "id": "efde627a",
   "metadata": {},
   "outputs": [],
   "source": [
    "import pandas as pd\n",
    "import numpy as np\n",
    "\n",
    "import os\n",
    "import pickle\n",
    "\n",
    "from typing import Tuple\n",
    "import matplotlib.pyplot as plt\n",
    "\n",
    "import tensorflow as tf\n",
    "from tensorflow.keras import Model, Sequential, layers, optimizers\n",
    "from tensorflow.keras.models import load_model\n",
    "\n",
    "from sklearn.model_selection import train_test_split\n",
    "from sklearn.preprocessing import MultiLabelBinarizer\n",
    "from sklearn.feature_extraction.text import TfidfVectorizer\n",
    "from sklearn.pipeline import Pipeline\n",
    "\n",
    "from sklearn.multiclass import OneVsRestClassifier\n",
    "from sklearn.linear_model import LogisticRegression\n",
    "\n",
    "from sklearn.metrics import accuracy_score"
   ]
  },
  {
   "cell_type": "markdown",
   "id": "244d8b7f",
   "metadata": {},
   "source": [
    "Игнорирование предупреждений:"
   ]
  },
  {
   "cell_type": "code",
   "execution_count": 3,
   "id": "79107d60",
   "metadata": {},
   "outputs": [],
   "source": [
    "import warnings\n",
    "\n",
    "warnings.filterwarnings('ignore')"
   ]
  },
  {
   "cell_type": "markdown",
   "id": "e0c36aaf",
   "metadata": {},
   "source": [
    "Фисксирование случайных величин:"
   ]
  },
  {
   "cell_type": "code",
   "execution_count": 4,
   "id": "cedcb3c1",
   "metadata": {},
   "outputs": [],
   "source": [
    "SEED = 42\n",
    "\n",
    "tf.random.set_seed(SEED)"
   ]
  },
  {
   "cell_type": "markdown",
   "id": "957183ff",
   "metadata": {},
   "source": [
    "Задание пути до папки с данными:"
   ]
  },
  {
   "cell_type": "code",
   "execution_count": 5,
   "id": "917d98e9",
   "metadata": {},
   "outputs": [],
   "source": [
    "PATH = 'data/data_sg/preprocessed_data/'"
   ]
  },
  {
   "cell_type": "markdown",
   "id": "99866382",
   "metadata": {},
   "source": [
    "Выведение на экран содержимого папки с данными:"
   ]
  },
  {
   "cell_type": "code",
   "execution_count": 6,
   "id": "cd6105be",
   "metadata": {},
   "outputs": [
    {
     "data": {
      "text/plain": [
       "['data_test.csv',\n",
       " 'data_test_cuisine.csv',\n",
       " 'data_train.csv',\n",
       " 'data_train_cuisine.csv']"
      ]
     },
     "execution_count": 6,
     "metadata": {},
     "output_type": "execute_result"
    }
   ],
   "source": [
    "os.listdir(PATH)"
   ]
  },
  {
   "cell_type": "markdown",
   "id": "ea03f52c",
   "metadata": {},
   "source": [
    "Загрузка данных:"
   ]
  },
  {
   "cell_type": "code",
   "execution_count": 7,
   "id": "8d7cf9fa",
   "metadata": {},
   "outputs": [],
   "source": [
    "join_path = lambda x: os.path.join(PATH, x)\n",
    "\n",
    "data_train = pd.read_csv(join_path('data_train_cuisine.csv'), index_col=0)\n",
    "data_test = pd.read_csv(join_path('data_test_cuisine.csv'), index_col=0)"
   ]
  },
  {
   "cell_type": "markdown",
   "id": "4d7a6afb",
   "metadata": {},
   "source": [
    "Выведение на экран первых строк набора данных:"
   ]
  },
  {
   "cell_type": "code",
   "execution_count": 8,
   "id": "bd6c87cc",
   "metadata": {},
   "outputs": [
    {
     "data": {
      "text/html": [
       "<div>\n",
       "<style scoped>\n",
       "    .dataframe tbody tr th:only-of-type {\n",
       "        vertical-align: middle;\n",
       "    }\n",
       "\n",
       "    .dataframe tbody tr th {\n",
       "        vertical-align: top;\n",
       "    }\n",
       "\n",
       "    .dataframe thead th {\n",
       "        text-align: right;\n",
       "    }\n",
       "</style>\n",
       "<table border=\"1\" class=\"dataframe\">\n",
       "  <thead>\n",
       "    <tr style=\"text-align: right;\">\n",
       "      <th></th>\n",
       "      <th>name</th>\n",
       "      <th>multilabels</th>\n",
       "    </tr>\n",
       "  </thead>\n",
       "  <tbody>\n",
       "    <tr>\n",
       "      <th>0</th>\n",
       "      <td>chicken cutlet with rice</td>\n",
       "      <td>western, singaporean, chicken, chinese, fried ...</td>\n",
       "    </tr>\n",
       "    <tr>\n",
       "      <th>1</th>\n",
       "      <td>chicken chop</td>\n",
       "      <td>western, chicken, indian, fried chicken, chine...</td>\n",
       "    </tr>\n",
       "    <tr>\n",
       "      <th>2</th>\n",
       "      <td>chicken wings with rice</td>\n",
       "      <td>western, chicken, asian</td>\n",
       "    </tr>\n",
       "  </tbody>\n",
       "</table>\n",
       "</div>"
      ],
      "text/plain": [
       "                       name                                        multilabels\n",
       "0  chicken cutlet with rice  western, singaporean, chicken, chinese, fried ...\n",
       "1              chicken chop  western, chicken, indian, fried chicken, chine...\n",
       "2   chicken wings with rice                            western, chicken, asian"
      ]
     },
     "execution_count": 8,
     "metadata": {},
     "output_type": "execute_result"
    }
   ],
   "source": [
    "data_train.head(3)"
   ]
  },
  {
   "cell_type": "markdown",
   "id": "681b4c08",
   "metadata": {},
   "source": [
    "---"
   ]
  },
  {
   "cell_type": "markdown",
   "id": "bd63a862",
   "metadata": {},
   "source": [
    "### 1.2 Обработка целевого признака"
   ]
  },
  {
   "cell_type": "markdown",
   "id": "a7e9c147",
   "metadata": {},
   "source": [
    "Выведение на экран общего количества уникальных классов:"
   ]
  },
  {
   "cell_type": "code",
   "execution_count": 9,
   "id": "6bec7e8a",
   "metadata": {},
   "outputs": [
    {
     "name": "stdout",
     "output_type": "stream",
     "text": [
      "Total labels: 78\n"
     ]
    }
   ],
   "source": [
    "print('Total labels:', len(set(', '.join(data_train['multilabels']).split(', '))))"
   ]
  },
  {
   "cell_type": "markdown",
   "id": "bcc28bed",
   "metadata": {},
   "source": [
    "Преобразование строк с классами в списки:"
   ]
  },
  {
   "cell_type": "code",
   "execution_count": 10,
   "id": "405e57eb",
   "metadata": {},
   "outputs": [],
   "source": [
    "split_labels = lambda x: x['multilabels'].str.split(', ')\n",
    "\n",
    "data_train['multilabels'] = split_labels(data_train)\n",
    "data_test['multilabels'] = split_labels(data_test)"
   ]
  },
  {
   "cell_type": "markdown",
   "id": "cfe5bb8c",
   "metadata": {},
   "source": [
    "Выведение на экран первых строк набора данных для проверки применённых изменений:"
   ]
  },
  {
   "cell_type": "code",
   "execution_count": 11,
   "id": "f940a1b3",
   "metadata": {},
   "outputs": [
    {
     "data": {
      "text/html": [
       "<div>\n",
       "<style scoped>\n",
       "    .dataframe tbody tr th:only-of-type {\n",
       "        vertical-align: middle;\n",
       "    }\n",
       "\n",
       "    .dataframe tbody tr th {\n",
       "        vertical-align: top;\n",
       "    }\n",
       "\n",
       "    .dataframe thead th {\n",
       "        text-align: right;\n",
       "    }\n",
       "</style>\n",
       "<table border=\"1\" class=\"dataframe\">\n",
       "  <thead>\n",
       "    <tr style=\"text-align: right;\">\n",
       "      <th></th>\n",
       "      <th>name</th>\n",
       "      <th>multilabels</th>\n",
       "    </tr>\n",
       "  </thead>\n",
       "  <tbody>\n",
       "    <tr>\n",
       "      <th>0</th>\n",
       "      <td>chicken cutlet with rice</td>\n",
       "      <td>[western, singaporean, chicken, chinese, fried...</td>\n",
       "    </tr>\n",
       "    <tr>\n",
       "      <th>1</th>\n",
       "      <td>chicken chop</td>\n",
       "      <td>[western, chicken, indian, fried chicken, chin...</td>\n",
       "    </tr>\n",
       "    <tr>\n",
       "      <th>2</th>\n",
       "      <td>chicken wings with rice</td>\n",
       "      <td>[western, chicken, asian]</td>\n",
       "    </tr>\n",
       "  </tbody>\n",
       "</table>\n",
       "</div>"
      ],
      "text/plain": [
       "                       name                                        multilabels\n",
       "0  chicken cutlet with rice  [western, singaporean, chicken, chinese, fried...\n",
       "1              chicken chop  [western, chicken, indian, fried chicken, chin...\n",
       "2   chicken wings with rice                          [western, chicken, asian]"
      ]
     },
     "execution_count": 11,
     "metadata": {},
     "output_type": "execute_result"
    }
   ],
   "source": [
    "data_train.head(3)"
   ]
  },
  {
   "cell_type": "markdown",
   "id": "3a087067",
   "metadata": {},
   "source": [
    "Объявление объекта кодирования:"
   ]
  },
  {
   "cell_type": "code",
   "execution_count": 12,
   "id": "74879555",
   "metadata": {},
   "outputs": [],
   "source": [
    "multilabel = MultiLabelBinarizer()"
   ]
  },
  {
   "cell_type": "markdown",
   "id": "e29a76d3",
   "metadata": {},
   "source": [
    "Обучение объекта кодирования:"
   ]
  },
  {
   "cell_type": "code",
   "execution_count": 13,
   "id": "23b2e1f0",
   "metadata": {},
   "outputs": [
    {
     "data": {
      "text/html": [
       "<style>#sk-container-id-1 {color: black;background-color: white;}#sk-container-id-1 pre{padding: 0;}#sk-container-id-1 div.sk-toggleable {background-color: white;}#sk-container-id-1 label.sk-toggleable__label {cursor: pointer;display: block;width: 100%;margin-bottom: 0;padding: 0.3em;box-sizing: border-box;text-align: center;}#sk-container-id-1 label.sk-toggleable__label-arrow:before {content: \"▸\";float: left;margin-right: 0.25em;color: #696969;}#sk-container-id-1 label.sk-toggleable__label-arrow:hover:before {color: black;}#sk-container-id-1 div.sk-estimator:hover label.sk-toggleable__label-arrow:before {color: black;}#sk-container-id-1 div.sk-toggleable__content {max-height: 0;max-width: 0;overflow: hidden;text-align: left;background-color: #f0f8ff;}#sk-container-id-1 div.sk-toggleable__content pre {margin: 0.2em;color: black;border-radius: 0.25em;background-color: #f0f8ff;}#sk-container-id-1 input.sk-toggleable__control:checked~div.sk-toggleable__content {max-height: 200px;max-width: 100%;overflow: auto;}#sk-container-id-1 input.sk-toggleable__control:checked~label.sk-toggleable__label-arrow:before {content: \"▾\";}#sk-container-id-1 div.sk-estimator input.sk-toggleable__control:checked~label.sk-toggleable__label {background-color: #d4ebff;}#sk-container-id-1 div.sk-label input.sk-toggleable__control:checked~label.sk-toggleable__label {background-color: #d4ebff;}#sk-container-id-1 input.sk-hidden--visually {border: 0;clip: rect(1px 1px 1px 1px);clip: rect(1px, 1px, 1px, 1px);height: 1px;margin: -1px;overflow: hidden;padding: 0;position: absolute;width: 1px;}#sk-container-id-1 div.sk-estimator {font-family: monospace;background-color: #f0f8ff;border: 1px dotted black;border-radius: 0.25em;box-sizing: border-box;margin-bottom: 0.5em;}#sk-container-id-1 div.sk-estimator:hover {background-color: #d4ebff;}#sk-container-id-1 div.sk-parallel-item::after {content: \"\";width: 100%;border-bottom: 1px solid gray;flex-grow: 1;}#sk-container-id-1 div.sk-label:hover label.sk-toggleable__label {background-color: #d4ebff;}#sk-container-id-1 div.sk-serial::before {content: \"\";position: absolute;border-left: 1px solid gray;box-sizing: border-box;top: 0;bottom: 0;left: 50%;z-index: 0;}#sk-container-id-1 div.sk-serial {display: flex;flex-direction: column;align-items: center;background-color: white;padding-right: 0.2em;padding-left: 0.2em;position: relative;}#sk-container-id-1 div.sk-item {position: relative;z-index: 1;}#sk-container-id-1 div.sk-parallel {display: flex;align-items: stretch;justify-content: center;background-color: white;position: relative;}#sk-container-id-1 div.sk-item::before, #sk-container-id-1 div.sk-parallel-item::before {content: \"\";position: absolute;border-left: 1px solid gray;box-sizing: border-box;top: 0;bottom: 0;left: 50%;z-index: -1;}#sk-container-id-1 div.sk-parallel-item {display: flex;flex-direction: column;z-index: 1;position: relative;background-color: white;}#sk-container-id-1 div.sk-parallel-item:first-child::after {align-self: flex-end;width: 50%;}#sk-container-id-1 div.sk-parallel-item:last-child::after {align-self: flex-start;width: 50%;}#sk-container-id-1 div.sk-parallel-item:only-child::after {width: 0;}#sk-container-id-1 div.sk-dashed-wrapped {border: 1px dashed gray;margin: 0 0.4em 0.5em 0.4em;box-sizing: border-box;padding-bottom: 0.4em;background-color: white;}#sk-container-id-1 div.sk-label label {font-family: monospace;font-weight: bold;display: inline-block;line-height: 1.2em;}#sk-container-id-1 div.sk-label-container {text-align: center;}#sk-container-id-1 div.sk-container {/* jupyter's `normalize.less` sets `[hidden] { display: none; }` but bootstrap.min.css set `[hidden] { display: none !important; }` so we also need the `!important` here to be able to override the default hidden behavior on the sphinx rendered scikit-learn.org. See: https://github.com/scikit-learn/scikit-learn/issues/21755 */display: inline-block !important;position: relative;}#sk-container-id-1 div.sk-text-repr-fallback {display: none;}</style><div id=\"sk-container-id-1\" class=\"sk-top-container\"><div class=\"sk-text-repr-fallback\"><pre>MultiLabelBinarizer()</pre><b>In a Jupyter environment, please rerun this cell to show the HTML representation or trust the notebook. <br />On GitHub, the HTML representation is unable to render, please try loading this page with nbviewer.org.</b></div><div class=\"sk-container\" hidden><div class=\"sk-item\"><div class=\"sk-estimator sk-toggleable\"><input class=\"sk-toggleable__control sk-hidden--visually\" id=\"sk-estimator-id-1\" type=\"checkbox\" checked><label for=\"sk-estimator-id-1\" class=\"sk-toggleable__label sk-toggleable__label-arrow\">MultiLabelBinarizer</label><div class=\"sk-toggleable__content\"><pre>MultiLabelBinarizer()</pre></div></div></div></div></div>"
      ],
      "text/plain": [
       "MultiLabelBinarizer()"
      ]
     },
     "execution_count": 13,
     "metadata": {},
     "output_type": "execute_result"
    }
   ],
   "source": [
    "multilabel.fit(data_train['multilabels'])"
   ]
  },
  {
   "cell_type": "markdown",
   "id": "e3b4fda4",
   "metadata": {},
   "source": [
    "Кодирование классов целевого признака:"
   ]
  },
  {
   "cell_type": "code",
   "execution_count": 14,
   "id": "737e745e",
   "metadata": {},
   "outputs": [],
   "source": [
    "join_multilabel = lambda x: x.join(\n",
    "    pd.DataFrame(\n",
    "        multilabel.transform(x['multilabels']), \n",
    "        columns=multilabel.classes_\n",
    "    )\n",
    ")\n",
    "\n",
    "data_train = join_multilabel(data_train)\n",
    "data_test = join_multilabel(data_test)"
   ]
  },
  {
   "cell_type": "markdown",
   "id": "23edff29",
   "metadata": {},
   "source": [
    "Выведение на экран первых строк набора данных для проверки применённых изменений:"
   ]
  },
  {
   "cell_type": "code",
   "execution_count": 15,
   "id": "e5784369",
   "metadata": {},
   "outputs": [
    {
     "data": {
      "text/html": [
       "<div>\n",
       "<style scoped>\n",
       "    .dataframe tbody tr th:only-of-type {\n",
       "        vertical-align: middle;\n",
       "    }\n",
       "\n",
       "    .dataframe tbody tr th {\n",
       "        vertical-align: top;\n",
       "    }\n",
       "\n",
       "    .dataframe thead th {\n",
       "        text-align: right;\n",
       "    }\n",
       "</style>\n",
       "<table border=\"1\" class=\"dataframe\">\n",
       "  <thead>\n",
       "    <tr style=\"text-align: right;\">\n",
       "      <th></th>\n",
       "      <th>name</th>\n",
       "      <th>multilabels</th>\n",
       "      <th>acai bowl</th>\n",
       "      <th>american</th>\n",
       "      <th>asian</th>\n",
       "      <th>ayam penyet</th>\n",
       "      <th>bak kut teh</th>\n",
       "      <th>bakery</th>\n",
       "      <th>ban mian</th>\n",
       "      <th>beverages</th>\n",
       "      <th>...</th>\n",
       "      <th>spanish</th>\n",
       "      <th>sushi</th>\n",
       "      <th>tea</th>\n",
       "      <th>thai</th>\n",
       "      <th>turkish</th>\n",
       "      <th>vegetarian</th>\n",
       "      <th>vietnamese</th>\n",
       "      <th>western</th>\n",
       "      <th>wraps</th>\n",
       "      <th>yong tau foo</th>\n",
       "    </tr>\n",
       "  </thead>\n",
       "  <tbody>\n",
       "    <tr>\n",
       "      <th>0</th>\n",
       "      <td>chicken cutlet with rice</td>\n",
       "      <td>[western, singaporean, chicken, chinese, fried...</td>\n",
       "      <td>0</td>\n",
       "      <td>0</td>\n",
       "      <td>0</td>\n",
       "      <td>0</td>\n",
       "      <td>0</td>\n",
       "      <td>0</td>\n",
       "      <td>0</td>\n",
       "      <td>0</td>\n",
       "      <td>...</td>\n",
       "      <td>0</td>\n",
       "      <td>0</td>\n",
       "      <td>0</td>\n",
       "      <td>0</td>\n",
       "      <td>0</td>\n",
       "      <td>0</td>\n",
       "      <td>0</td>\n",
       "      <td>1</td>\n",
       "      <td>0</td>\n",
       "      <td>0</td>\n",
       "    </tr>\n",
       "  </tbody>\n",
       "</table>\n",
       "<p>1 rows × 80 columns</p>\n",
       "</div>"
      ],
      "text/plain": [
       "                       name  \\\n",
       "0  chicken cutlet with rice   \n",
       "\n",
       "                                         multilabels  acai bowl  american  \\\n",
       "0  [western, singaporean, chicken, chinese, fried...          0         0   \n",
       "\n",
       "   asian  ayam penyet  bak kut teh  bakery  ban mian  beverages  ...  spanish  \\\n",
       "0      0            0            0       0         0          0  ...        0   \n",
       "\n",
       "   sushi  tea  thai  turkish  vegetarian  vietnamese  western  wraps  \\\n",
       "0      0    0     0        0           0           0        1      0   \n",
       "\n",
       "   yong tau foo  \n",
       "0             0  \n",
       "\n",
       "[1 rows x 80 columns]"
      ]
     },
     "execution_count": 15,
     "metadata": {},
     "output_type": "execute_result"
    }
   ],
   "source": [
    "data_train.head(1)"
   ]
  },
  {
   "cell_type": "markdown",
   "id": "3ffb3946",
   "metadata": {},
   "source": [
    "---"
   ]
  },
  {
   "cell_type": "markdown",
   "id": "6b36d277",
   "metadata": {},
   "source": [
    "### 1.3 Разделение на выборки"
   ]
  },
  {
   "cell_type": "markdown",
   "id": "9e0a0cd2",
   "metadata": {},
   "source": [
    "Перемешивание обучающего набора данных:"
   ]
  },
  {
   "cell_type": "code",
   "execution_count": 16,
   "id": "6ce1fb2f",
   "metadata": {},
   "outputs": [],
   "source": [
    "data_train_shuffle = data_train.sample(frac=1, random_state=SEED)"
   ]
  },
  {
   "cell_type": "markdown",
   "id": "74cb2a54",
   "metadata": {},
   "source": [
    "Разделение наборов данных на обучающие признаки и целевые признаки:"
   ]
  },
  {
   "cell_type": "code",
   "execution_count": 17,
   "id": "1fec845a",
   "metadata": {},
   "outputs": [],
   "source": [
    "get_y = lambda x: np.array(x[x.columns[2:]]) \n",
    "\n",
    "X_train = data_train['name'].to_numpy()\n",
    "y_train = get_y(data_train)\n",
    "\n",
    "X_test = data_test['name'].to_numpy()\n",
    "y_test = get_y(data_test)"
   ]
  },
  {
   "cell_type": "markdown",
   "id": "05bbb2b7",
   "metadata": {},
   "source": [
    "Разделение обучающей выборки на обучающую и валидационную:"
   ]
  },
  {
   "cell_type": "code",
   "execution_count": 18,
   "id": "9f2105ff",
   "metadata": {},
   "outputs": [],
   "source": [
    "X_train, X_val, y_train, y_val = train_test_split(X_train, y_train, test_size=0.1, random_state=SEED)"
   ]
  },
  {
   "cell_type": "markdown",
   "id": "36090713",
   "metadata": {},
   "source": [
    "Выведение на экран размеров выборок:"
   ]
  },
  {
   "cell_type": "code",
   "execution_count": 19,
   "id": "b24b92ad",
   "metadata": {},
   "outputs": [
    {
     "name": "stdout",
     "output_type": "stream",
     "text": [
      "X_train shape: (60965,)\n",
      "X_val shape: (6774,)\n",
      "X_test shape: (43625,)\n"
     ]
    }
   ],
   "source": [
    "print('X_train shape:', X_train.shape)\n",
    "print('X_val shape:', X_val.shape)\n",
    "print('X_test shape:', X_test.shape)"
   ]
  },
  {
   "cell_type": "markdown",
   "id": "f360fc17",
   "metadata": {},
   "source": [
    "---"
   ]
  },
  {
   "cell_type": "markdown",
   "id": "c0b6c277",
   "metadata": {},
   "source": [
    "### 1.4 Кодирование данных"
   ]
  },
  {
   "cell_type": "markdown",
   "id": "683ca409",
   "metadata": {},
   "source": [
    "Задание функции, трансформирующей многоклассовую последовательность в слова:"
   ]
  },
  {
   "cell_type": "code",
   "execution_count": 20,
   "id": "092dc850",
   "metadata": {},
   "outputs": [],
   "source": [
    "def transform_label(label, vocab):\n",
    "    '''\n",
    "    '''\n",
    "    \n",
    "    return vocab.inverse_transform(np.array([label]))"
   ]
  },
  {
   "cell_type": "markdown",
   "id": "9c54596a",
   "metadata": {},
   "source": [
    "---"
   ]
  },
  {
   "cell_type": "markdown",
   "id": "5219da7f",
   "metadata": {},
   "source": [
    "Выведение на экран образца объекта с кодированием и раскодированием его целевого признака:"
   ]
  },
  {
   "cell_type": "code",
   "execution_count": 21,
   "id": "c17aa116",
   "metadata": {},
   "outputs": [
    {
     "name": "stdout",
     "output_type": "stream",
     "text": [
      "meal: panlasang pinoy \n",
      "\n",
      "cuisine label:\n",
      " [0 0 0 0 0 0 0 0 0 0 0 0 0 0 0 0 0 0 0 0 0 1 0 0 0 0 0 0 0 0 0 0 0 0 0 0 0\n",
      " 0 0 0 0 0 0 0 0 0 0 0 0 0 0 0 0 0 0 0 0 0 0 0 0 0 0 0 0 0 0 0 0 0 0 0 0 0\n",
      " 0 0 0 0] \n",
      "\n",
      "cuisine: [('filipino',)]\n"
     ]
    }
   ],
   "source": [
    "print(\n",
    "    'meal:', X_train[0], \n",
    "    '\\n\\ncuisine label:\\n', y_train[0], \n",
    "    '\\n\\ncuisine:', transform_label(y_train[0], multilabel)\n",
    ")"
   ]
  },
  {
   "cell_type": "markdown",
   "id": "52678fec",
   "metadata": {},
   "source": [
    "---"
   ]
  },
  {
   "cell_type": "markdown",
   "id": "e82dc3b0",
   "metadata": {},
   "source": [
    "**TfidfVectorizer**"
   ]
  },
  {
   "cell_type": "markdown",
   "id": "d739602c",
   "metadata": {},
   "source": [
    "Выведение на экран числовых характеристик обучающей выборки:"
   ]
  },
  {
   "cell_type": "code",
   "execution_count": 22,
   "id": "73dd760c",
   "metadata": {},
   "outputs": [
    {
     "data": {
      "text/plain": [
       "count    60965.0\n",
       "mean        21.6\n",
       "std          8.4\n",
       "min          3.0\n",
       "25%         15.0\n",
       "50%         21.0\n",
       "75%         27.0\n",
       "max         60.0\n",
       "dtype: float64"
      ]
     },
     "execution_count": 22,
     "metadata": {},
     "output_type": "execute_result"
    }
   ],
   "source": [
    "round(pd.Series(X_train).str.len().describe(), 1)"
   ]
  },
  {
   "cell_type": "markdown",
   "id": "04c0a7de",
   "metadata": {},
   "source": [
    "Задание констант:"
   ]
  },
  {
   "cell_type": "code",
   "execution_count": 23,
   "id": "863f82ed",
   "metadata": {},
   "outputs": [
    {
     "name": "stdout",
     "output_type": "stream",
     "text": [
      "Total labels: 78\n",
      "\n",
      "Maximum vocabulatory length: 10385\n",
      "Maximum output length: 22\n"
     ]
    }
   ],
   "source": [
    "n_labels = len(multilabel.classes_)\n",
    "\n",
    "max_vocab_len = len(set(' '.join(list(X_train)).split()))\n",
    "max_out_len = round(pd.Series(X_train).str.len().sum() / X_train.shape[0])\n",
    "\n",
    "print('Total labels:', n_labels)\n",
    "print('\\nMaximum vocabulatory length:', max_vocab_len)\n",
    "print('Maximum output length:', max_out_len)"
   ]
  },
  {
   "cell_type": "markdown",
   "id": "de594747",
   "metadata": {},
   "source": [
    "Задание объекта векторизации:"
   ]
  },
  {
   "cell_type": "code",
   "execution_count": 24,
   "id": "2abcdee4",
   "metadata": {},
   "outputs": [],
   "source": [
    "vectorizer_tfidf = TfidfVectorizer(\n",
    "    max_features=max_vocab_len,\n",
    "    analyzer='word',\n",
    "    ngram_range=(1, 2),\n",
    "    stop_words='english'\n",
    ")"
   ]
  },
  {
   "cell_type": "markdown",
   "id": "bb738e64",
   "metadata": {},
   "source": [
    "---"
   ]
  },
  {
   "cell_type": "markdown",
   "id": "69f0bc77",
   "metadata": {},
   "source": [
    "**layers.TextVectorization**"
   ]
  },
  {
   "cell_type": "markdown",
   "id": "d45ff990",
   "metadata": {},
   "source": [
    "Задание слоя векторизации:"
   ]
  },
  {
   "cell_type": "code",
   "execution_count": 25,
   "id": "ffb6e25c",
   "metadata": {},
   "outputs": [],
   "source": [
    "vectorizer_text_tfidf = layers.TextVectorization(\n",
    "    max_tokens=max_vocab_len, \n",
    "    ngrams=2, \n",
    "    output_mode='tf_idf'\n",
    ")"
   ]
  },
  {
   "cell_type": "markdown",
   "id": "39a22011",
   "metadata": {},
   "source": [
    "Обучение объекта векторизации:"
   ]
  },
  {
   "cell_type": "code",
   "execution_count": 26,
   "id": "5d06891f",
   "metadata": {},
   "outputs": [],
   "source": [
    "with tf.device('/CPU:0'):\n",
    "    vectorizer_text_tfidf.adapt(X_train)"
   ]
  },
  {
   "cell_type": "markdown",
   "id": "162f678e",
   "metadata": {},
   "source": [
    "Трансформация выборок:"
   ]
  },
  {
   "cell_type": "code",
   "execution_count": 27,
   "id": "414de97c",
   "metadata": {},
   "outputs": [],
   "source": [
    "with tf.device('/CPU:0'):\n",
    "    X_train_vect = vectorizer_text_tfidf(X_train)\n",
    "    X_val_vect = vectorizer_text_tfidf(X_val)\n",
    "    X_test_vect = vectorizer_text_tfidf(X_test)"
   ]
  },
  {
   "cell_type": "markdown",
   "id": "dc21a046",
   "metadata": {},
   "source": [
    "---"
   ]
  },
  {
   "cell_type": "markdown",
   "id": "7ebdd323",
   "metadata": {},
   "source": [
    "## 2 Обучение модели"
   ]
  },
  {
   "cell_type": "markdown",
   "id": "40a305f4",
   "metadata": {},
   "source": [
    "Задание функции, сохраняющей переданные результаты вычисления метрик:"
   ]
  },
  {
   "cell_type": "code",
   "execution_count": 28,
   "id": "5bcd9ae7",
   "metadata": {},
   "outputs": [],
   "source": [
    "def save_results(name, accuracy, save_to: pd.DataFrame) -> None:\n",
    "    '''\n",
    "    '''\n",
    "    if name is None:\n",
    "        print('\\nScore:', round(accuracy, 2))\n",
    "        \n",
    "    else:\n",
    "        save_to.loc[name, 'accuracy'] = round(accuracy, 2)\n",
    "\n",
    "        display(pd.DataFrame(save_to.loc[name]).T)"
   ]
  },
  {
   "cell_type": "markdown",
   "id": "be7a3849",
   "metadata": {},
   "source": [
    "Задание функции, выводящей таблицу для сравнения предсказаний с ответами:"
   ]
  },
  {
   "cell_type": "code",
   "execution_count": 29,
   "id": "b543d178",
   "metadata": {},
   "outputs": [],
   "source": [
    "def compare_pred_true(model, \n",
    "                      X: pd.Series, \n",
    "                      y: pd.Series, \n",
    "                      preds, \n",
    "                      limit: int = 5) -> None:\n",
    "    \n",
    "    '''\n",
    "    '''\n",
    "    \n",
    "    df = []\n",
    "    \n",
    "    for i in range(limit):\n",
    "        label_pred = transform_label(preds[i], multilabel)\n",
    "        label_true = transform_label(y[i], multilabel)\n",
    "        \n",
    "        df.append([X[i], label_pred, label_true])\n",
    "        \n",
    "    display(pd.DataFrame(df, columns=['name', 'prediction', 'true']))"
   ]
  },
  {
   "cell_type": "markdown",
   "id": "cb5bfd99",
   "metadata": {},
   "source": [
    "Задание функции, строящей графики метрики и функции потерь:"
   ]
  },
  {
   "cell_type": "code",
   "execution_count": 30,
   "id": "f9f113ab",
   "metadata": {},
   "outputs": [],
   "source": [
    "def plot_history(history, score_name):\n",
    "    '''\n",
    "    '''\n",
    "    \n",
    "    accuracy_train = history.history[score_name]\n",
    "    accuracy_val = history.history[f'val_{score_name}']\n",
    "    \n",
    "    loss_train = history.history['loss']\n",
    "    loss_val = history.history['val_loss']\n",
    "    \n",
    "    x = range(len(accuracy_train))\n",
    "\n",
    "    plt.figure(figsize=(12, 4))\n",
    "    \n",
    "    plt.subplot(1, 2, 1)\n",
    "    plt.plot(x, accuracy_train, 'b', label=f'train {score_name}')\n",
    "    plt.plot(x, accuracy_val, 'r', label=f'valid {score_name}')\n",
    "    plt.title(f'Train and valid {score_name}\\n')\n",
    "    plt.legend()\n",
    "    \n",
    "    plt.subplot(1, 2, 2)\n",
    "    plt.plot(x, loss_train, 'b', label='train loss')\n",
    "    plt.plot(x, loss_val, 'r', label='valid loss')\n",
    "    plt.title('Train and valid loss\\n')\n",
    "    plt.legend()\n",
    "    \n",
    "    plt.show()"
   ]
  },
  {
   "cell_type": "markdown",
   "id": "bff9b7d2",
   "metadata": {},
   "source": [
    "Задание функции, вычисляющей метрики:"
   ]
  },
  {
   "cell_type": "code",
   "execution_count": 31,
   "id": "7b2a4285",
   "metadata": {},
   "outputs": [],
   "source": [
    "def get_score(model, X, y, preds) -> float:\n",
    "    '''\n",
    "    '''\n",
    "    \n",
    "    try:\n",
    "        accuracy = accuracy_score(y, preds)\n",
    "    except:\n",
    "        accuracy = model.evaluate(X, y)[1]\n",
    "    \n",
    "    return accuracy"
   ]
  },
  {
   "cell_type": "markdown",
   "id": "bb3db217",
   "metadata": {},
   "source": [
    "Задание функции обучения модели:"
   ]
  },
  {
   "cell_type": "code",
   "execution_count": 32,
   "id": "f9acff84",
   "metadata": {},
   "outputs": [],
   "source": [
    "def train_model(model, train_data, valid_data, name: str, save_to, threshold: float = 0.5, valid_data_init = None):\n",
    "    '''\n",
    "    '''\n",
    "    if train_data is not None:\n",
    "        X_t, y_t = train_data\n",
    "        model.fit(X_t, y_t)\n",
    "        \n",
    "    X_v, y_v = valid_data\n",
    "    \n",
    "    preds = model.predict(X_v)\n",
    "    \n",
    "    score = get_score(model, X_v, y_v, preds)\n",
    "    \n",
    "    if train_data is None:\n",
    "        preds = transform_probs_to_labels(preds, threshold)\n",
    "    \n",
    "    save_results(name, score, save_to)\n",
    "    \n",
    "    if valid_data_init is not None:\n",
    "        X_v = valid_data_init\n",
    "    \n",
    "    if score > 0.5:\n",
    "        compare_pred_true(model, X_v, y_v, preds)\n",
    "    \n",
    "    return model"
   ]
  },
  {
   "cell_type": "markdown",
   "id": "1dd2b6ef",
   "metadata": {},
   "source": [
    "---"
   ]
  },
  {
   "cell_type": "markdown",
   "id": "15878a91",
   "metadata": {},
   "source": [
    "Объявление переменной, которая будет хранить результаты вычисления метрик моделей:"
   ]
  },
  {
   "cell_type": "code",
   "execution_count": 33,
   "id": "5420892b",
   "metadata": {},
   "outputs": [],
   "source": [
    "results = pd.DataFrame(columns=['accuracy'])"
   ]
  },
  {
   "cell_type": "markdown",
   "id": "6cb82f22",
   "metadata": {},
   "source": [
    "---"
   ]
  },
  {
   "cell_type": "markdown",
   "id": "01315e69",
   "metadata": {},
   "source": [
    "### 2.1 Baseline"
   ]
  },
  {
   "cell_type": "markdown",
   "id": "d0d2188d",
   "metadata": {},
   "source": [
    "Объявление пайплайна обучения модели:"
   ]
  },
  {
   "cell_type": "code",
   "execution_count": 34,
   "id": "d65ccd12",
   "metadata": {
    "scrolled": true
   },
   "outputs": [],
   "source": [
    "pipeline = Pipeline([\n",
    "    ('tfidf', vectorizer_tfidf),\n",
    "    ('model', OneVsRestClassifier(LogisticRegression()))\n",
    "])"
   ]
  },
  {
   "cell_type": "markdown",
   "id": "3018b9ad",
   "metadata": {},
   "source": [
    "Обучение модели:"
   ]
  },
  {
   "cell_type": "code",
   "execution_count": 35,
   "id": "2568792f",
   "metadata": {},
   "outputs": [
    {
     "data": {
      "text/html": [
       "<div>\n",
       "<style scoped>\n",
       "    .dataframe tbody tr th:only-of-type {\n",
       "        vertical-align: middle;\n",
       "    }\n",
       "\n",
       "    .dataframe tbody tr th {\n",
       "        vertical-align: top;\n",
       "    }\n",
       "\n",
       "    .dataframe thead th {\n",
       "        text-align: right;\n",
       "    }\n",
       "</style>\n",
       "<table border=\"1\" class=\"dataframe\">\n",
       "  <thead>\n",
       "    <tr style=\"text-align: right;\">\n",
       "      <th></th>\n",
       "      <th>accuracy</th>\n",
       "    </tr>\n",
       "  </thead>\n",
       "  <tbody>\n",
       "    <tr>\n",
       "      <th>log_reg</th>\n",
       "      <td>0.2</td>\n",
       "    </tr>\n",
       "  </tbody>\n",
       "</table>\n",
       "</div>"
      ],
      "text/plain": [
       "        accuracy\n",
       "log_reg      0.2"
      ]
     },
     "metadata": {},
     "output_type": "display_data"
    }
   ],
   "source": [
    "model_0 = train_model(\n",
    "    pipeline, \n",
    "    train_data=(X_train, y_train), \n",
    "    valid_data=(X_val, y_val), \n",
    "    name='log_reg', \n",
    "    save_to=results\n",
    ")"
   ]
  },
  {
   "cell_type": "markdown",
   "id": "8e62f985",
   "metadata": {},
   "source": [
    "---"
   ]
  },
  {
   "cell_type": "markdown",
   "id": "b153ed44",
   "metadata": {},
   "source": [
    "### 2.2 FCNN"
   ]
  },
  {
   "cell_type": "markdown",
   "id": "3aaf7be5",
   "metadata": {},
   "source": [
    "Задание функции, трансформирующей вероятности классов в классы:"
   ]
  },
  {
   "cell_type": "code",
   "execution_count": 36,
   "id": "bb57fd4a",
   "metadata": {},
   "outputs": [],
   "source": [
    "def transform_probs_to_labels(probs, threshold: float = 0.5):\n",
    "    '''\n",
    "    '''\n",
    "    \n",
    "    return (probs > threshold).astype(int)"
   ]
  },
  {
   "cell_type": "markdown",
   "id": "b304005b",
   "metadata": {},
   "source": [
    "---"
   ]
  },
  {
   "cell_type": "markdown",
   "id": "f4834111",
   "metadata": {},
   "source": [
    "Объявление модели:"
   ]
  },
  {
   "cell_type": "code",
   "execution_count": 37,
   "id": "f38d1390",
   "metadata": {},
   "outputs": [],
   "source": [
    "model_1 = Sequential([\n",
    "    layers.Dense(512, activation='relu'),\n",
    "    layers.BatchNormalization(),\n",
    "    layers.Dense(256, activation='relu'),\n",
    "    layers.Dense(n_labels, activation='sigmoid'),\n",
    "])"
   ]
  },
  {
   "cell_type": "markdown",
   "id": "3bccccd2",
   "metadata": {},
   "source": [
    "Настройка модели:"
   ]
  },
  {
   "cell_type": "code",
   "execution_count": 38,
   "id": "62e80b5f",
   "metadata": {},
   "outputs": [],
   "source": [
    "model_1.compile(\n",
    "    loss='binary_crossentropy', \n",
    "    optimizer=optimizers.Adam(learning_rate=1e-3), \n",
    "    metrics=['accuracy']\n",
    ")"
   ]
  },
  {
   "cell_type": "markdown",
   "id": "37a36ab3",
   "metadata": {},
   "source": [
    "Обучение модели:"
   ]
  },
  {
   "cell_type": "code",
   "execution_count": 39,
   "id": "7c30f5ba",
   "metadata": {},
   "outputs": [
    {
     "name": "stdout",
     "output_type": "stream",
     "text": [
      "Epoch 1/5\n",
      "953/953 [==============================] - 12s 12ms/step - loss: 0.0606 - accuracy: 0.4140 - val_loss: 0.0487 - val_accuracy: 0.4711\n",
      "Epoch 2/5\n",
      "953/953 [==============================] - 10s 11ms/step - loss: 0.0366 - accuracy: 0.5736 - val_loss: 0.0486 - val_accuracy: 0.4683\n",
      "Epoch 3/5\n",
      "953/953 [==============================] - 10s 11ms/step - loss: 0.0292 - accuracy: 0.6467 - val_loss: 0.0520 - val_accuracy: 0.4550\n",
      "Epoch 4/5\n",
      "953/953 [==============================] - 11s 11ms/step - loss: 0.0243 - accuracy: 0.7026 - val_loss: 0.0558 - val_accuracy: 0.4644\n",
      "Epoch 5/5\n",
      "953/953 [==============================] - 10s 11ms/step - loss: 0.0201 - accuracy: 0.7503 - val_loss: 0.0603 - val_accuracy: 0.4572\n"
     ]
    }
   ],
   "source": [
    "history_1 = model_1.fit(\n",
    "    X_train_vect, \n",
    "    y_train, \n",
    "    validation_data=(X_val_vect, y_val), \n",
    "    epochs=5,\n",
    "    batch_size=64\n",
    ")"
   ]
  },
  {
   "cell_type": "markdown",
   "id": "ad8705ca",
   "metadata": {},
   "source": [
    "Построение графиков метрики и функции потерь:"
   ]
  },
  {
   "cell_type": "code",
   "execution_count": 40,
   "id": "cda923da",
   "metadata": {},
   "outputs": [
    {
     "data": {
      "image/png": "[encoded data removed]",
      "text/plain": [
       "<Figure size 1200x400 with 2 Axes>"
      ]
     },
     "metadata": {},
     "output_type": "display_data"
    }
   ],
   "source": [
    "plot_history(history_1, 'accuracy')"
   ]
  },
  {
   "cell_type": "markdown",
   "id": "86e0339a",
   "metadata": {},
   "source": [
    "Получение предсказаний:"
   ]
  },
  {
   "cell_type": "code",
   "execution_count": 41,
   "id": "015950a3",
   "metadata": {},
   "outputs": [
    {
     "name": "stdout",
     "output_type": "stream",
     "text": [
      "212/212 [==============================] - 1s 3ms/step\n",
      "212/212 [==============================] - 1s 4ms/step - loss: 0.0603 - accuracy: 0.4572\n"
     ]
    },
    {
     "data": {
      "text/html": [
       "<div>\n",
       "<style scoped>\n",
       "    .dataframe tbody tr th:only-of-type {\n",
       "        vertical-align: middle;\n",
       "    }\n",
       "\n",
       "    .dataframe tbody tr th {\n",
       "        vertical-align: top;\n",
       "    }\n",
       "\n",
       "    .dataframe thead th {\n",
       "        text-align: right;\n",
       "    }\n",
       "</style>\n",
       "<table border=\"1\" class=\"dataframe\">\n",
       "  <thead>\n",
       "    <tr style=\"text-align: right;\">\n",
       "      <th></th>\n",
       "      <th>accuracy</th>\n",
       "    </tr>\n",
       "  </thead>\n",
       "  <tbody>\n",
       "    <tr>\n",
       "      <th>fcnn</th>\n",
       "      <td>0.46</td>\n",
       "    </tr>\n",
       "  </tbody>\n",
       "</table>\n",
       "</div>"
      ],
      "text/plain": [
       "     accuracy\n",
       "fcnn     0.46"
      ]
     },
     "metadata": {},
     "output_type": "display_data"
    },
    {
     "data": {
      "text/plain": [
       "<keras.engine.sequential.Sequential at 0x2728c94a6b0>"
      ]
     },
     "execution_count": 41,
     "metadata": {},
     "output_type": "execute_result"
    }
   ],
   "source": [
    "train_model(\n",
    "    model_1, \n",
    "    train_data=None, \n",
    "    valid_data=(X_val_vect, y_val), \n",
    "    name='fcnn', \n",
    "    save_to=results,\n",
    "    valid_data_init=X_val\n",
    ")"
   ]
  },
  {
   "cell_type": "markdown",
   "id": "f4a667b3",
   "metadata": {},
   "source": [
    "---"
   ]
  },
  {
   "cell_type": "markdown",
   "id": "6ad40500",
   "metadata": {},
   "source": [
    "### 2.3 Выбор модели"
   ]
  },
  {
   "cell_type": "markdown",
   "id": "fd870d2c",
   "metadata": {},
   "source": [
    "Выведение на экран таблицы с результатами метрик:"
   ]
  },
  {
   "cell_type": "code",
   "execution_count": 42,
   "id": "b12bd855",
   "metadata": {},
   "outputs": [
    {
     "data": {
      "text/html": [
       "<div>\n",
       "<style scoped>\n",
       "    .dataframe tbody tr th:only-of-type {\n",
       "        vertical-align: middle;\n",
       "    }\n",
       "\n",
       "    .dataframe tbody tr th {\n",
       "        vertical-align: top;\n",
       "    }\n",
       "\n",
       "    .dataframe thead th {\n",
       "        text-align: right;\n",
       "    }\n",
       "</style>\n",
       "<table border=\"1\" class=\"dataframe\">\n",
       "  <thead>\n",
       "    <tr style=\"text-align: right;\">\n",
       "      <th></th>\n",
       "      <th>accuracy</th>\n",
       "    </tr>\n",
       "  </thead>\n",
       "  <tbody>\n",
       "    <tr>\n",
       "      <th>log_reg</th>\n",
       "      <td>0.2</td>\n",
       "    </tr>\n",
       "    <tr>\n",
       "      <th>fcnn</th>\n",
       "      <td>0.46</td>\n",
       "    </tr>\n",
       "  </tbody>\n",
       "</table>\n",
       "</div>"
      ],
      "text/plain": [
       "        accuracy\n",
       "log_reg      0.2\n",
       "fcnn        0.46"
      ]
     },
     "execution_count": 42,
     "metadata": {},
     "output_type": "execute_result"
    }
   ],
   "source": [
    "results"
   ]
  },
  {
   "cell_type": "markdown",
   "id": "4ab05d49",
   "metadata": {},
   "source": []
  },
  {
   "cell_type": "markdown",
   "id": "fdd87408",
   "metadata": {},
   "source": [
    "---"
   ]
  },
  {
   "cell_type": "markdown",
   "id": "5491afb6",
   "metadata": {},
   "source": [
    "## 3 Тестирование модели"
   ]
  },
  {
   "cell_type": "markdown",
   "id": "e2556b20",
   "metadata": {},
   "source": [
    "Задание лучшей модели:"
   ]
  },
  {
   "cell_type": "code",
   "execution_count": 43,
   "id": "b7809bd1",
   "metadata": {},
   "outputs": [],
   "source": [
    "best_model = model_1"
   ]
  },
  {
   "cell_type": "markdown",
   "id": "cabac740",
   "metadata": {},
   "source": [
    "Получение предсказаний:"
   ]
  },
  {
   "cell_type": "code",
   "execution_count": 44,
   "id": "cbf0cdf6",
   "metadata": {
    "scrolled": true
   },
   "outputs": [
    {
     "name": "stdout",
     "output_type": "stream",
     "text": [
      "1364/1364 [==============================] - 3s 3ms/step\n",
      "1364/1364 [==============================] - 6s 5ms/step - loss: 0.0256 - accuracy: 0.7303\n",
      "\n",
      "Score: 0.73\n"
     ]
    },
    {
     "data": {
      "text/html": [
       "<div>\n",
       "<style scoped>\n",
       "    .dataframe tbody tr th:only-of-type {\n",
       "        vertical-align: middle;\n",
       "    }\n",
       "\n",
       "    .dataframe tbody tr th {\n",
       "        vertical-align: top;\n",
       "    }\n",
       "\n",
       "    .dataframe thead th {\n",
       "        text-align: right;\n",
       "    }\n",
       "</style>\n",
       "<table border=\"1\" class=\"dataframe\">\n",
       "  <thead>\n",
       "    <tr style=\"text-align: right;\">\n",
       "      <th></th>\n",
       "      <th>name</th>\n",
       "      <th>prediction</th>\n",
       "      <th>true</th>\n",
       "    </tr>\n",
       "  </thead>\n",
       "  <tbody>\n",
       "    <tr>\n",
       "      <th>0</th>\n",
       "      <td>japanese garlic karaage don</td>\n",
       "      <td>[(ramen,)]</td>\n",
       "      <td>[(ramen,)]</td>\n",
       "    </tr>\n",
       "    <tr>\n",
       "      <th>1</th>\n",
       "      <td>chicken cutlet don</td>\n",
       "      <td>[(japanese,)]</td>\n",
       "      <td>[(ramen,)]</td>\n",
       "    </tr>\n",
       "    <tr>\n",
       "      <th>2</th>\n",
       "      <td>beef sukiyaki don</td>\n",
       "      <td>[(japanese,)]</td>\n",
       "      <td>[(ramen,)]</td>\n",
       "    </tr>\n",
       "    <tr>\n",
       "      <th>3</th>\n",
       "      <td>japanese beef yakiniku don</td>\n",
       "      <td>[(ramen,)]</td>\n",
       "      <td>[(ramen,)]</td>\n",
       "    </tr>\n",
       "    <tr>\n",
       "      <th>4</th>\n",
       "      <td>teriyaki salmon don</td>\n",
       "      <td>[(japanese, ramen, seafood)]</td>\n",
       "      <td>[(japanese, ramen, seafood)]</td>\n",
       "    </tr>\n",
       "  </tbody>\n",
       "</table>\n",
       "</div>"
      ],
      "text/plain": [
       "                          name                    prediction  \\\n",
       "0  japanese garlic karaage don                    [(ramen,)]   \n",
       "1           chicken cutlet don                 [(japanese,)]   \n",
       "2            beef sukiyaki don                 [(japanese,)]   \n",
       "3   japanese beef yakiniku don                    [(ramen,)]   \n",
       "4          teriyaki salmon don  [(japanese, ramen, seafood)]   \n",
       "\n",
       "                           true  \n",
       "0                    [(ramen,)]  \n",
       "1                    [(ramen,)]  \n",
       "2                    [(ramen,)]  \n",
       "3                    [(ramen,)]  \n",
       "4  [(japanese, ramen, seafood)]  "
      ]
     },
     "metadata": {},
     "output_type": "display_data"
    },
    {
     "data": {
      "text/plain": [
       "<keras.engine.sequential.Sequential at 0x2728c94a6b0>"
      ]
     },
     "execution_count": 44,
     "metadata": {},
     "output_type": "execute_result"
    }
   ],
   "source": [
    "train_model(\n",
    "    best_model, \n",
    "    train_data=None, \n",
    "    valid_data=(X_test_vect, y_test), \n",
    "    name=None, \n",
    "    save_to=results,\n",
    "    valid_data_init=X_test\n",
    ")"
   ]
  },
  {
   "cell_type": "markdown",
   "id": "d0a663c4",
   "metadata": {},
   "source": [
    "---"
   ]
  },
  {
   "cell_type": "markdown",
   "id": "4ce79af4",
   "metadata": {},
   "source": [
    "## 4 Экспорт модели"
   ]
  },
  {
   "cell_type": "markdown",
   "id": "15df0402",
   "metadata": {},
   "source": [
    "Задание путей до файлов:"
   ]
  },
  {
   "cell_type": "code",
   "execution_count": 45,
   "id": "d9a17aaf",
   "metadata": {},
   "outputs": [],
   "source": [
    "PATH_WEB = 'webapp/model/'\n",
    "\n",
    "join_path = lambda x: os.path.join(PATH_WEB, x)\n",
    "\n",
    "path_multilabel = join_path('multilabel.pkl')\n",
    "path_model = join_path('model.h5')\n",
    "path_vectorizer = join_path('vectorizer.pkl')"
   ]
  },
  {
   "cell_type": "markdown",
   "id": "32e9aa81",
   "metadata": {},
   "source": [
    "---"
   ]
  },
  {
   "cell_type": "markdown",
   "id": "9df3e4c2",
   "metadata": {},
   "source": [
    "**Multilabel**"
   ]
  },
  {
   "cell_type": "markdown",
   "id": "16ffb83a",
   "metadata": {},
   "source": [
    "Сохранение объекта кодирования:"
   ]
  },
  {
   "cell_type": "code",
   "execution_count": 46,
   "id": "e4930113",
   "metadata": {},
   "outputs": [],
   "source": [
    "pickle.dump(multilabel, open(path_multilabel, 'wb'))"
   ]
  },
  {
   "cell_type": "markdown",
   "id": "8c0b5829",
   "metadata": {},
   "source": [
    "Загрузка объекта кодирования:"
   ]
  },
  {
   "cell_type": "code",
   "execution_count": 47,
   "id": "5602933a",
   "metadata": {},
   "outputs": [],
   "source": [
    "multilabel_loaded = pickle.load(open(path_multilabel, 'rb'))"
   ]
  },
  {
   "cell_type": "markdown",
   "id": "0c967aeb",
   "metadata": {},
   "source": [
    "---"
   ]
  },
  {
   "cell_type": "markdown",
   "id": "d1137e63",
   "metadata": {},
   "source": [
    "**Model**"
   ]
  },
  {
   "cell_type": "markdown",
   "id": "82d4f1db",
   "metadata": {},
   "source": [
    "Сохранение модели:"
   ]
  },
  {
   "cell_type": "code",
   "execution_count": 48,
   "id": "5841d2ae",
   "metadata": {},
   "outputs": [],
   "source": [
    "best_model.save(path_model)"
   ]
  },
  {
   "cell_type": "markdown",
   "id": "d5a7064d",
   "metadata": {},
   "source": [
    "Загрузка модели:"
   ]
  },
  {
   "cell_type": "code",
   "execution_count": 49,
   "id": "2ae283fe",
   "metadata": {},
   "outputs": [],
   "source": [
    "model_loaded = load_model(path_model)"
   ]
  },
  {
   "cell_type": "markdown",
   "id": "d0e14488",
   "metadata": {},
   "source": [
    "---"
   ]
  },
  {
   "cell_type": "markdown",
   "id": "13bd08d6",
   "metadata": {},
   "source": [
    "**TextVectorization**"
   ]
  },
  {
   "cell_type": "markdown",
   "id": "d41a8980",
   "metadata": {},
   "source": [
    "Сохранение векторизатора:"
   ]
  },
  {
   "cell_type": "code",
   "execution_count": 50,
   "id": "4389e678",
   "metadata": {},
   "outputs": [],
   "source": [
    "pickle.dump(\n",
    "    {\n",
    "        'config': vectorizer_text_tfidf.get_config(),\n",
    "        'weights': vectorizer_text_tfidf.get_weights()\n",
    "    }, \n",
    "    open(path_vectorizer, 'wb')\n",
    ")"
   ]
  },
  {
   "cell_type": "markdown",
   "id": "e491a2c0",
   "metadata": {},
   "source": [
    "Загрузка векторизатора:"
   ]
  },
  {
   "cell_type": "code",
   "execution_count": 51,
   "id": "0604c1c1",
   "metadata": {},
   "outputs": [],
   "source": [
    "vectorizer_file = pickle.load(open(path_vectorizer, 'rb'))"
   ]
  },
  {
   "cell_type": "markdown",
   "id": "039b4b98",
   "metadata": {},
   "source": [
    "Настройка конфигурации векторизатора:"
   ]
  },
  {
   "cell_type": "code",
   "execution_count": null,
   "id": "d355dc47",
   "metadata": {},
   "outputs": [],
   "source": [
    "vectorizer_loaded = layers.TextVectorization.from_config(vectorizer_file['config'])"
   ]
  },
  {
   "cell_type": "markdown",
   "id": "2ece6349",
   "metadata": {},
   "source": [
    "---"
   ]
  },
  {
   "cell_type": "markdown",
   "id": "d5f16607",
   "metadata": {},
   "source": [
    "Задание тестового значения:"
   ]
  },
  {
   "cell_type": "code",
   "execution_count": 52,
   "id": "7ffcc8b3",
   "metadata": {},
   "outputs": [],
   "source": [
    "test_data = 'teriyaki salmon don'"
   ]
  },
  {
   "cell_type": "markdown",
   "id": "91906022",
   "metadata": {},
   "source": [
    "Настройка векторизатора:"
   ]
  },
  {
   "cell_type": "code",
   "execution_count": 53,
   "id": "384eec34",
   "metadata": {},
   "outputs": [],
   "source": [
    "vectorizer_loaded.adapt([test_data])"
   ]
  },
  {
   "cell_type": "markdown",
   "id": "b8fbe5e0",
   "metadata": {},
   "source": [
    "Настройка весов векторизатора:"
   ]
  },
  {
   "cell_type": "code",
   "execution_count": 54,
   "id": "e675a54c",
   "metadata": {},
   "outputs": [],
   "source": [
    "vectorizer_loaded.set_weights(vectorizer_file['weights'])"
   ]
  },
  {
   "cell_type": "markdown",
   "id": "de6d4592",
   "metadata": {},
   "source": [
    "Выведение на экран закодированного тестового значения:"
   ]
  },
  {
   "cell_type": "code",
   "execution_count": 55,
   "id": "fc06d79c",
   "metadata": {},
   "outputs": [
    {
     "data": {
      "text/plain": [
       "<tf.Tensor: shape=(1, 10385), dtype=float32, numpy=array([[0., 0., 0., ..., 0., 0., 0.]], dtype=float32)>"
      ]
     },
     "execution_count": 55,
     "metadata": {},
     "output_type": "execute_result"
    }
   ],
   "source": [
    "vectorizer_loaded([test_data])"
   ]
  },
  {
   "cell_type": "markdown",
   "id": "7f832436",
   "metadata": {},
   "source": [
    "Получение предсказаний:"
   ]
  },
  {
   "cell_type": "code",
   "execution_count": 81,
   "id": "08817fb8",
   "metadata": {},
   "outputs": [
    {
     "name": "stdout",
     "output_type": "stream",
     "text": [
      "1/1 [==============================] - 0s 21ms/step\n"
     ]
    },
    {
     "data": {
      "text/plain": [
       "[('japanese', 'ramen', 'seafood')]"
      ]
     },
     "execution_count": 81,
     "metadata": {},
     "output_type": "execute_result"
    }
   ],
   "source": [
    "transform_label(\n",
    "    *transform_probs_to_labels(\n",
    "        model_loaded.predict(\n",
    "            vectorizer_loaded([test_data])\n",
    "        )\n",
    "    ),\n",
    "    multilabel_loaded\n",
    ")"
   ]
  },
  {
   "cell_type": "markdown",
   "id": "b669d10f",
   "metadata": {},
   "source": [
    "---"
   ]
  },
  {
   "cell_type": "markdown",
   "id": "800bd38b",
   "metadata": {},
   "source": [
    "## 5 Общий вывод"
   ]
  },
  {
   "cell_type": "markdown",
   "id": "d782737a",
   "metadata": {},
   "source": []
  },
  {
   "cell_type": "markdown",
   "id": "a2662918",
   "metadata": {},
   "source": [
    "<div style=\"text-align: center; font-size: 20px; padding: 15px 0;\">\n",
    "    <a href=\"#Содержание\" data-toc-modified-id=\"Содержание\" style=\"text-decoration: none; color: #296eaa; border: 2px dashed #296eaa; opacity: 0.8; border-radius: 3px; padding: 10px 80px;\">\n",
    "        В начало файла ↑\n",
    "    </a>\n",
    "</div>"
   ]
  }
 ],
 "metadata": {
  "kernelspec": {
   "display_name": "Python 3 (ipykernel)",
   "language": "python",
   "name": "python3"
  },
  "language_info": {
   "codemirror_mode": {
    "name": "ipython",
    "version": 3
   },
   "file_extension": ".py",
   "mimetype": "text/x-python",
   "name": "python",
   "nbconvert_exporter": "python",
   "pygments_lexer": "ipython3",
   "version": "3.10.11"
  }
 },
 "nbformat": 4,
 "nbformat_minor": 5
}
