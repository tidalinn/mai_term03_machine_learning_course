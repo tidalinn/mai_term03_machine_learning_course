{
 "cells": [
  {
   "cell_type": "markdown",
   "id": "3c3bab0b",
   "metadata": {
    "id": "3c3bab0b"
   },
   "source": [
    "# Содержание"
   ]
  },
  {
   "cell_type": "markdown",
   "id": "09168b6f",
   "metadata": {
    "id": "09168b6f"
   },
   "source": [
    "* [1 Подготовка данных](#1-Подготовка-данных)\n",
    "    - [1.1 Загрузка данных](#1.1-Загрузка-данных)\n",
    "    - [1.2 Обработка целевого признака](#1.2-Обработка-целевого-признака)\n",
    "    - [1.3 Разделение на выборки](#1.3-Разделение-на-выборки)\n",
    "    - [1.4 Кодирование данных](#1.4-Кодирование-данных)\n",
    "* [2 Обучение модели](#2-Обучение-модели)\n",
    "    - [2.1 ML](#2.1-ML)\n",
    "        - [2.1.1 LogisticRegression (Baseline)](#2.1.1-LogisticRegression-(Baseline))\n",
    "        - [2.1.2 KNeighborsClassifier](#2.1.2-KNeighborsClassifier)\n",
    "        - [2.1.3 MLPClassifier](#2.1.3-MLPClassifier)\n",
    "    - [2.2 DL](#2.2-DL)\n",
    "    - [2.3 Выбор модели](#2.3-Выбор-модели)\n",
    "* [3 Тестирование модели](#3-Тестирование-модели)\n",
    "* [4 Экспорт модели](#4-Экспорт-модели)\n",
    "* [5 Общий вывод](#5-Общий-вывод)"
   ]
  },
  {
   "cell_type": "markdown",
   "id": "4ae16285",
   "metadata": {
    "id": "4ae16285"
   },
   "source": [
    "# Этап 2. Подбор модели"
   ]
  },
  {
   "cell_type": "markdown",
   "id": "6fbe8178",
   "metadata": {
    "id": "6fbe8178"
   },
   "source": [
    "**Задача:** Подбор модели для задачи Multi-label classification.\n",
    "\n",
    "**Источник данных:** `/data/preprocessed_data/data_train`, `/data/preprocessed_data/data_test`.\n",
    "\n",
    "**Характер данных:** наименования блюд и названию кухонь."
   ]
  },
  {
   "cell_type": "markdown",
   "id": "3ec94d3a",
   "metadata": {
    "id": "3ec94d3a"
   },
   "source": [
    "---"
   ]
  },
  {
   "cell_type": "markdown",
   "id": "44b050a7",
   "metadata": {
    "id": "44b050a7"
   },
   "source": [
    "## 1 Подготовка данных"
   ]
  },
  {
   "cell_type": "markdown",
   "id": "0878a582",
   "metadata": {
    "id": "0878a582"
   },
   "source": [
    "### 1.1 Загрузка данных"
   ]
  },
  {
   "cell_type": "markdown",
   "id": "f5ddd36f",
   "metadata": {
    "id": "f5ddd36f"
   },
   "source": [
    "Установка библиотек:"
   ]
  },
  {
   "cell_type": "code",
   "execution_count": 1,
   "id": "e27f8cfa",
   "metadata": {
    "id": "e27f8cfa"
   },
   "outputs": [],
   "source": [
    "%%capture no-display\n",
    "!pip install scikit-multilearn pickle"
   ]
  },
  {
   "cell_type": "markdown",
   "id": "b96cdd7c",
   "metadata": {
    "id": "b96cdd7c"
   },
   "source": [
    "Импорт библиотек:"
   ]
  },
  {
   "cell_type": "code",
   "execution_count": 2,
   "id": "efde627a",
   "metadata": {
    "id": "efde627a"
   },
   "outputs": [],
   "source": [
    "import pandas as pd\n",
    "import numpy as np\n",
    "\n",
    "import os\n",
    "import datetime\n",
    "import time\n",
    "\n",
    "import pickle\n",
    "import joblib\n",
    "\n",
    "from typing import Tuple, List, Dict\n",
    "import matplotlib.pyplot as plt\n",
    "\n",
    "import tensorflow as tf\n",
    "from tensorflow.keras import Model, Sequential, layers, optimizers, regularizers\n",
    "from tensorflow.keras.models import load_model\n",
    "\n",
    "from sklearn.model_selection import train_test_split, RandomizedSearchCV, GridSearchCV\n",
    "from sklearn.preprocessing import MultiLabelBinarizer\n",
    "from sklearn.feature_extraction.text import TfidfVectorizer\n",
    "from sklearn.pipeline import Pipeline\n",
    "\n",
    "from sklearn.multiclass import OneVsRestClassifier\n",
    "from sklearn.linear_model import LogisticRegression\n",
    "from sklearn.neighbors import KNeighborsClassifier\n",
    "from sklearn.neural_network import MLPClassifier"
   ]
  },
  {
   "cell_type": "markdown",
   "id": "244d8b7f",
   "metadata": {
    "id": "244d8b7f"
   },
   "source": [
    "Игнорирование предупреждений:"
   ]
  },
  {
   "cell_type": "code",
   "execution_count": 3,
   "id": "79107d60",
   "metadata": {
    "id": "79107d60"
   },
   "outputs": [],
   "source": [
    "import warnings\n",
    "\n",
    "warnings.filterwarnings('ignore')"
   ]
  },
  {
   "cell_type": "markdown",
   "id": "e0c36aaf",
   "metadata": {
    "id": "e0c36aaf"
   },
   "source": [
    "Фисксирование случайных величин:"
   ]
  },
  {
   "cell_type": "code",
   "execution_count": 4,
   "id": "cedcb3c1",
   "metadata": {
    "id": "cedcb3c1"
   },
   "outputs": [],
   "source": [
    "SEED = 42\n",
    "\n",
    "tf.random.set_seed(SEED)"
   ]
  },
  {
   "cell_type": "markdown",
   "id": "957183ff",
   "metadata": {
    "id": "957183ff"
   },
   "source": [
    "Задание пути до папки с данными:"
   ]
  },
  {
   "cell_type": "code",
   "execution_count": 5,
   "id": "917d98e9",
   "metadata": {
    "id": "917d98e9"
   },
   "outputs": [],
   "source": [
    "PATH = 'data/preprocessed_data/'"
   ]
  },
  {
   "cell_type": "markdown",
   "id": "99866382",
   "metadata": {
    "id": "99866382"
   },
   "source": [
    "Выведение на экран содержимого папки с данными:"
   ]
  },
  {
   "cell_type": "code",
   "execution_count": 6,
   "id": "cd6105be",
   "metadata": {
    "colab": {
     "base_uri": "https://localhost:8080/"
    },
    "id": "cd6105be",
    "outputId": "8721f7af-9d15-490e-9bbd-3020d988d260"
   },
   "outputs": [
    {
     "data": {
      "text/plain": [
       "['data_test.csv',\n",
       " 'data_test_cuisine.csv',\n",
       " 'data_train.csv',\n",
       " 'data_train_cuisine.csv']"
      ]
     },
     "execution_count": 6,
     "metadata": {},
     "output_type": "execute_result"
    }
   ],
   "source": [
    "os.listdir(PATH)"
   ]
  },
  {
   "cell_type": "markdown",
   "id": "ea03f52c",
   "metadata": {
    "id": "ea03f52c"
   },
   "source": [
    "Загрузка данных:"
   ]
  },
  {
   "cell_type": "code",
   "execution_count": 7,
   "id": "8d7cf9fa",
   "metadata": {
    "id": "8d7cf9fa"
   },
   "outputs": [],
   "source": [
    "join_path = lambda x: os.path.join(PATH, x)\n",
    "\n",
    "data_train = pd.read_csv(join_path('data_train_cuisine.csv'), index_col=0)\n",
    "data_test = pd.read_csv(join_path('data_test_cuisine.csv'), index_col=0)"
   ]
  },
  {
   "cell_type": "markdown",
   "id": "4d7a6afb",
   "metadata": {
    "id": "4d7a6afb"
   },
   "source": [
    "Выведение на экран первых строк набора данных:"
   ]
  },
  {
   "cell_type": "code",
   "execution_count": 8,
   "id": "bd6c87cc",
   "metadata": {
    "colab": {
     "base_uri": "https://localhost:8080/",
     "height": 143
    },
    "id": "bd6c87cc",
    "outputId": "a169f884-445a-431b-afef-4b5bb3ca5fe4"
   },
   "outputs": [
    {
     "data": {
      "text/html": [
       "<div>\n",
       "<style scoped>\n",
       "    .dataframe tbody tr th:only-of-type {\n",
       "        vertical-align: middle;\n",
       "    }\n",
       "\n",
       "    .dataframe tbody tr th {\n",
       "        vertical-align: top;\n",
       "    }\n",
       "\n",
       "    .dataframe thead th {\n",
       "        text-align: right;\n",
       "    }\n",
       "</style>\n",
       "<table border=\"1\" class=\"dataframe\">\n",
       "  <thead>\n",
       "    <tr style=\"text-align: right;\">\n",
       "      <th></th>\n",
       "      <th>name</th>\n",
       "      <th>multilabels</th>\n",
       "    </tr>\n",
       "  </thead>\n",
       "  <tbody>\n",
       "    <tr>\n",
       "      <th>0</th>\n",
       "      <td>chicken cutlet with rice</td>\n",
       "      <td>western, singaporean, chicken, chinese, fried ...</td>\n",
       "    </tr>\n",
       "    <tr>\n",
       "      <th>1</th>\n",
       "      <td>chicken chop</td>\n",
       "      <td>western, chicken, indian, fried chicken, chine...</td>\n",
       "    </tr>\n",
       "    <tr>\n",
       "      <th>2</th>\n",
       "      <td>chicken wings with rice</td>\n",
       "      <td>western, chicken, asian</td>\n",
       "    </tr>\n",
       "  </tbody>\n",
       "</table>\n",
       "</div>"
      ],
      "text/plain": [
       "                       name                                        multilabels\n",
       "0  chicken cutlet with rice  western, singaporean, chicken, chinese, fried ...\n",
       "1              chicken chop  western, chicken, indian, fried chicken, chine...\n",
       "2   chicken wings with rice                            western, chicken, asian"
      ]
     },
     "execution_count": 8,
     "metadata": {},
     "output_type": "execute_result"
    }
   ],
   "source": [
    "data_train.head(3)"
   ]
  },
  {
   "cell_type": "markdown",
   "id": "6588eb0e",
   "metadata": {
    "id": "6588eb0e"
   },
   "source": [
    ">**Вывод**\n",
    ">\n",
    ">* Перед обучением модели признаки необходимо привести к числовому виду."
   ]
  },
  {
   "cell_type": "markdown",
   "id": "681b4c08",
   "metadata": {
    "id": "681b4c08"
   },
   "source": [
    "---"
   ]
  },
  {
   "cell_type": "markdown",
   "id": "bd63a862",
   "metadata": {
    "id": "bd63a862"
   },
   "source": [
    "### 1.2 Обработка целевого признака"
   ]
  },
  {
   "cell_type": "markdown",
   "id": "a7e9c147",
   "metadata": {
    "id": "a7e9c147"
   },
   "source": [
    "Выведение на экран общего количества уникальных классов:"
   ]
  },
  {
   "cell_type": "code",
   "execution_count": 9,
   "id": "6bec7e8a",
   "metadata": {
    "colab": {
     "base_uri": "https://localhost:8080/"
    },
    "id": "6bec7e8a",
    "outputId": "ace2f294-cea5-4673-93a1-64da946fd082"
   },
   "outputs": [
    {
     "name": "stdout",
     "output_type": "stream",
     "text": [
      "Total labels: 78\n"
     ]
    }
   ],
   "source": [
    "print('Total labels:', len(set(', '.join(data_train['multilabels']).split(', '))))"
   ]
  },
  {
   "cell_type": "markdown",
   "id": "bcc28bed",
   "metadata": {
    "id": "bcc28bed"
   },
   "source": [
    "Преобразование строк с классами в списки:"
   ]
  },
  {
   "cell_type": "code",
   "execution_count": 10,
   "id": "405e57eb",
   "metadata": {
    "id": "405e57eb"
   },
   "outputs": [],
   "source": [
    "split_labels = lambda x: x['multilabels'].str.split(', ')\n",
    "\n",
    "data_train['multilabels'] = split_labels(data_train)\n",
    "data_test['multilabels'] = split_labels(data_test)"
   ]
  },
  {
   "cell_type": "markdown",
   "id": "cfe5bb8c",
   "metadata": {
    "id": "cfe5bb8c"
   },
   "source": [
    "Выведение на экран первых строк набора данных для проверки применённых изменений:"
   ]
  },
  {
   "cell_type": "code",
   "execution_count": 11,
   "id": "f940a1b3",
   "metadata": {
    "colab": {
     "base_uri": "https://localhost:8080/",
     "height": 143
    },
    "id": "f940a1b3",
    "outputId": "c5df45f9-d5ff-4dfc-f218-265cc49cdc2c"
   },
   "outputs": [
    {
     "data": {
      "text/html": [
       "<div>\n",
       "<style scoped>\n",
       "    .dataframe tbody tr th:only-of-type {\n",
       "        vertical-align: middle;\n",
       "    }\n",
       "\n",
       "    .dataframe tbody tr th {\n",
       "        vertical-align: top;\n",
       "    }\n",
       "\n",
       "    .dataframe thead th {\n",
       "        text-align: right;\n",
       "    }\n",
       "</style>\n",
       "<table border=\"1\" class=\"dataframe\">\n",
       "  <thead>\n",
       "    <tr style=\"text-align: right;\">\n",
       "      <th></th>\n",
       "      <th>name</th>\n",
       "      <th>multilabels</th>\n",
       "    </tr>\n",
       "  </thead>\n",
       "  <tbody>\n",
       "    <tr>\n",
       "      <th>0</th>\n",
       "      <td>chicken cutlet with rice</td>\n",
       "      <td>[western, singaporean, chicken, chinese, fried...</td>\n",
       "    </tr>\n",
       "    <tr>\n",
       "      <th>1</th>\n",
       "      <td>chicken chop</td>\n",
       "      <td>[western, chicken, indian, fried chicken, chin...</td>\n",
       "    </tr>\n",
       "    <tr>\n",
       "      <th>2</th>\n",
       "      <td>chicken wings with rice</td>\n",
       "      <td>[western, chicken, asian]</td>\n",
       "    </tr>\n",
       "  </tbody>\n",
       "</table>\n",
       "</div>"
      ],
      "text/plain": [
       "                       name                                        multilabels\n",
       "0  chicken cutlet with rice  [western, singaporean, chicken, chinese, fried...\n",
       "1              chicken chop  [western, chicken, indian, fried chicken, chin...\n",
       "2   chicken wings with rice                          [western, chicken, asian]"
      ]
     },
     "execution_count": 11,
     "metadata": {},
     "output_type": "execute_result"
    }
   ],
   "source": [
    "data_train.head(3)"
   ]
  },
  {
   "cell_type": "markdown",
   "id": "a908acbb",
   "metadata": {
    "id": "a908acbb"
   },
   "source": [
    ">* Поскольку целевой признак представляет собой множество классов, которые соответствуют одному входному значению, разрабатываемая модель должна решать задачу Multi-label classification.\n",
    ">\n",
    ">* Для обучения модели необходимо обработать целевой признак таким образом, чтобы сформировать вектор, длиной в уникальное количество элементов среди предсказываемых классов, все значения в котором 0 за исключением тех, что пересекаются с соответсвующими объекту классами, значения которых будут представлены в виде 1 (по принципу работы OneHotEncoding)."
   ]
  },
  {
   "cell_type": "markdown",
   "id": "3a087067",
   "metadata": {
    "id": "3a087067"
   },
   "source": [
    "Объявление объекта кодирования:"
   ]
  },
  {
   "cell_type": "code",
   "execution_count": 12,
   "id": "74879555",
   "metadata": {
    "id": "74879555"
   },
   "outputs": [],
   "source": [
    "multilabel = MultiLabelBinarizer()"
   ]
  },
  {
   "cell_type": "markdown",
   "id": "e29a76d3",
   "metadata": {
    "id": "e29a76d3"
   },
   "source": [
    "Обучение объекта кодирования:"
   ]
  },
  {
   "cell_type": "code",
   "execution_count": 13,
   "id": "23b2e1f0",
   "metadata": {
    "colab": {
     "base_uri": "https://localhost:8080/",
     "height": 75
    },
    "id": "23b2e1f0",
    "outputId": "66749c81-73ea-444d-fa62-2aa16e64042f"
   },
   "outputs": [
    {
     "data": {
      "text/html": [
       "<style>#sk-container-id-1 {color: black;background-color: white;}#sk-container-id-1 pre{padding: 0;}#sk-container-id-1 div.sk-toggleable {background-color: white;}#sk-container-id-1 label.sk-toggleable__label {cursor: pointer;display: block;width: 100%;margin-bottom: 0;padding: 0.3em;box-sizing: border-box;text-align: center;}#sk-container-id-1 label.sk-toggleable__label-arrow:before {content: \"▸\";float: left;margin-right: 0.25em;color: #696969;}#sk-container-id-1 label.sk-toggleable__label-arrow:hover:before {color: black;}#sk-container-id-1 div.sk-estimator:hover label.sk-toggleable__label-arrow:before {color: black;}#sk-container-id-1 div.sk-toggleable__content {max-height: 0;max-width: 0;overflow: hidden;text-align: left;background-color: #f0f8ff;}#sk-container-id-1 div.sk-toggleable__content pre {margin: 0.2em;color: black;border-radius: 0.25em;background-color: #f0f8ff;}#sk-container-id-1 input.sk-toggleable__control:checked~div.sk-toggleable__content {max-height: 200px;max-width: 100%;overflow: auto;}#sk-container-id-1 input.sk-toggleable__control:checked~label.sk-toggleable__label-arrow:before {content: \"▾\";}#sk-container-id-1 div.sk-estimator input.sk-toggleable__control:checked~label.sk-toggleable__label {background-color: #d4ebff;}#sk-container-id-1 div.sk-label input.sk-toggleable__control:checked~label.sk-toggleable__label {background-color: #d4ebff;}#sk-container-id-1 input.sk-hidden--visually {border: 0;clip: rect(1px 1px 1px 1px);clip: rect(1px, 1px, 1px, 1px);height: 1px;margin: -1px;overflow: hidden;padding: 0;position: absolute;width: 1px;}#sk-container-id-1 div.sk-estimator {font-family: monospace;background-color: #f0f8ff;border: 1px dotted black;border-radius: 0.25em;box-sizing: border-box;margin-bottom: 0.5em;}#sk-container-id-1 div.sk-estimator:hover {background-color: #d4ebff;}#sk-container-id-1 div.sk-parallel-item::after {content: \"\";width: 100%;border-bottom: 1px solid gray;flex-grow: 1;}#sk-container-id-1 div.sk-label:hover label.sk-toggleable__label {background-color: #d4ebff;}#sk-container-id-1 div.sk-serial::before {content: \"\";position: absolute;border-left: 1px solid gray;box-sizing: border-box;top: 0;bottom: 0;left: 50%;z-index: 0;}#sk-container-id-1 div.sk-serial {display: flex;flex-direction: column;align-items: center;background-color: white;padding-right: 0.2em;padding-left: 0.2em;position: relative;}#sk-container-id-1 div.sk-item {position: relative;z-index: 1;}#sk-container-id-1 div.sk-parallel {display: flex;align-items: stretch;justify-content: center;background-color: white;position: relative;}#sk-container-id-1 div.sk-item::before, #sk-container-id-1 div.sk-parallel-item::before {content: \"\";position: absolute;border-left: 1px solid gray;box-sizing: border-box;top: 0;bottom: 0;left: 50%;z-index: -1;}#sk-container-id-1 div.sk-parallel-item {display: flex;flex-direction: column;z-index: 1;position: relative;background-color: white;}#sk-container-id-1 div.sk-parallel-item:first-child::after {align-self: flex-end;width: 50%;}#sk-container-id-1 div.sk-parallel-item:last-child::after {align-self: flex-start;width: 50%;}#sk-container-id-1 div.sk-parallel-item:only-child::after {width: 0;}#sk-container-id-1 div.sk-dashed-wrapped {border: 1px dashed gray;margin: 0 0.4em 0.5em 0.4em;box-sizing: border-box;padding-bottom: 0.4em;background-color: white;}#sk-container-id-1 div.sk-label label {font-family: monospace;font-weight: bold;display: inline-block;line-height: 1.2em;}#sk-container-id-1 div.sk-label-container {text-align: center;}#sk-container-id-1 div.sk-container {/* jupyter's `normalize.less` sets `[hidden] { display: none; }` but bootstrap.min.css set `[hidden] { display: none !important; }` so we also need the `!important` here to be able to override the default hidden behavior on the sphinx rendered scikit-learn.org. See: https://github.com/scikit-learn/scikit-learn/issues/21755 */display: inline-block !important;position: relative;}#sk-container-id-1 div.sk-text-repr-fallback {display: none;}</style><div id=\"sk-container-id-1\" class=\"sk-top-container\"><div class=\"sk-text-repr-fallback\"><pre>MultiLabelBinarizer()</pre><b>In a Jupyter environment, please rerun this cell to show the HTML representation or trust the notebook. <br />On GitHub, the HTML representation is unable to render, please try loading this page with nbviewer.org.</b></div><div class=\"sk-container\" hidden><div class=\"sk-item\"><div class=\"sk-estimator sk-toggleable\"><input class=\"sk-toggleable__control sk-hidden--visually\" id=\"sk-estimator-id-1\" type=\"checkbox\" checked><label for=\"sk-estimator-id-1\" class=\"sk-toggleable__label sk-toggleable__label-arrow\">MultiLabelBinarizer</label><div class=\"sk-toggleable__content\"><pre>MultiLabelBinarizer()</pre></div></div></div></div></div>"
      ],
      "text/plain": [
       "MultiLabelBinarizer()"
      ]
     },
     "execution_count": 13,
     "metadata": {},
     "output_type": "execute_result"
    }
   ],
   "source": [
    "multilabel.fit(data_train['multilabels'])"
   ]
  },
  {
   "cell_type": "markdown",
   "id": "e3b4fda4",
   "metadata": {
    "id": "e3b4fda4"
   },
   "source": [
    "Кодирование классов целевого признака:"
   ]
  },
  {
   "cell_type": "code",
   "execution_count": 14,
   "id": "737e745e",
   "metadata": {
    "id": "737e745e"
   },
   "outputs": [],
   "source": [
    "join_multilabel = lambda x: x.join(\n",
    "    pd.DataFrame(\n",
    "        multilabel.transform(x['multilabels']),\n",
    "        columns=multilabel.classes_\n",
    "    )\n",
    ")\n",
    "\n",
    "data_train = join_multilabel(data_train)\n",
    "data_test = join_multilabel(data_test)"
   ]
  },
  {
   "cell_type": "markdown",
   "id": "23edff29",
   "metadata": {
    "id": "23edff29"
   },
   "source": [
    "Выведение на экран первых строк набора данных для проверки применённых изменений:"
   ]
  },
  {
   "cell_type": "code",
   "execution_count": 15,
   "id": "e5784369",
   "metadata": {
    "colab": {
     "base_uri": "https://localhost:8080/",
     "height": 180
    },
    "id": "e5784369",
    "outputId": "7a89c36f-cc2e-406d-a39e-b5983c0e1fd6"
   },
   "outputs": [
    {
     "data": {
      "text/html": [
       "<div>\n",
       "<style scoped>\n",
       "    .dataframe tbody tr th:only-of-type {\n",
       "        vertical-align: middle;\n",
       "    }\n",
       "\n",
       "    .dataframe tbody tr th {\n",
       "        vertical-align: top;\n",
       "    }\n",
       "\n",
       "    .dataframe thead th {\n",
       "        text-align: right;\n",
       "    }\n",
       "</style>\n",
       "<table border=\"1\" class=\"dataframe\">\n",
       "  <thead>\n",
       "    <tr style=\"text-align: right;\">\n",
       "      <th></th>\n",
       "      <th>name</th>\n",
       "      <th>multilabels</th>\n",
       "      <th>acai bowl</th>\n",
       "      <th>american</th>\n",
       "      <th>asian</th>\n",
       "      <th>ayam penyet</th>\n",
       "      <th>bak kut teh</th>\n",
       "      <th>bakery</th>\n",
       "      <th>ban mian</th>\n",
       "      <th>beverages</th>\n",
       "      <th>...</th>\n",
       "      <th>spanish</th>\n",
       "      <th>sushi</th>\n",
       "      <th>tea</th>\n",
       "      <th>thai</th>\n",
       "      <th>turkish</th>\n",
       "      <th>vegetarian</th>\n",
       "      <th>vietnamese</th>\n",
       "      <th>western</th>\n",
       "      <th>wraps</th>\n",
       "      <th>yong tau foo</th>\n",
       "    </tr>\n",
       "  </thead>\n",
       "  <tbody>\n",
       "    <tr>\n",
       "      <th>0</th>\n",
       "      <td>chicken cutlet with rice</td>\n",
       "      <td>[western, singaporean, chicken, chinese, fried...</td>\n",
       "      <td>0</td>\n",
       "      <td>0</td>\n",
       "      <td>0</td>\n",
       "      <td>0</td>\n",
       "      <td>0</td>\n",
       "      <td>0</td>\n",
       "      <td>0</td>\n",
       "      <td>0</td>\n",
       "      <td>...</td>\n",
       "      <td>0</td>\n",
       "      <td>0</td>\n",
       "      <td>0</td>\n",
       "      <td>0</td>\n",
       "      <td>0</td>\n",
       "      <td>0</td>\n",
       "      <td>0</td>\n",
       "      <td>1</td>\n",
       "      <td>0</td>\n",
       "      <td>0</td>\n",
       "    </tr>\n",
       "  </tbody>\n",
       "</table>\n",
       "<p>1 rows × 80 columns</p>\n",
       "</div>"
      ],
      "text/plain": [
       "                       name  \\\n",
       "0  chicken cutlet with rice   \n",
       "\n",
       "                                         multilabels  acai bowl  american  \\\n",
       "0  [western, singaporean, chicken, chinese, fried...          0         0   \n",
       "\n",
       "   asian  ayam penyet  bak kut teh  bakery  ban mian  beverages  ...  spanish  \\\n",
       "0      0            0            0       0         0          0  ...        0   \n",
       "\n",
       "   sushi  tea  thai  turkish  vegetarian  vietnamese  western  wraps  \\\n",
       "0      0    0     0        0           0           0        1      0   \n",
       "\n",
       "   yong tau foo  \n",
       "0             0  \n",
       "\n",
       "[1 rows x 80 columns]"
      ]
     },
     "execution_count": 15,
     "metadata": {},
     "output_type": "execute_result"
    }
   ],
   "source": [
    "data_train.head(1)"
   ]
  },
  {
   "cell_type": "markdown",
   "id": "0e1116f9",
   "metadata": {
    "id": "0e1116f9"
   },
   "source": [
    ">**Вывод**\n",
    ">\n",
    ">* Данные необходимо разделить на выборки."
   ]
  },
  {
   "cell_type": "markdown",
   "id": "3ffb3946",
   "metadata": {
    "id": "3ffb3946"
   },
   "source": [
    "---"
   ]
  },
  {
   "cell_type": "markdown",
   "id": "6b36d277",
   "metadata": {
    "id": "6b36d277"
   },
   "source": [
    "### 1.3 Разделение на выборки"
   ]
  },
  {
   "cell_type": "markdown",
   "id": "9e0a0cd2",
   "metadata": {
    "id": "9e0a0cd2"
   },
   "source": [
    "Перемешивание обучающего набора данных:"
   ]
  },
  {
   "cell_type": "code",
   "execution_count": 16,
   "id": "6ce1fb2f",
   "metadata": {
    "id": "6ce1fb2f"
   },
   "outputs": [],
   "source": [
    "data_train_shuffle = data_train.sample(frac=1, random_state=SEED)"
   ]
  },
  {
   "cell_type": "markdown",
   "id": "74cb2a54",
   "metadata": {
    "id": "74cb2a54"
   },
   "source": [
    "Разделение наборов данных на обучающие признаки и целевые признаки:"
   ]
  },
  {
   "cell_type": "code",
   "execution_count": 17,
   "id": "1fec845a",
   "metadata": {
    "id": "1fec845a"
   },
   "outputs": [],
   "source": [
    "get_y = lambda x: np.array(x[x.columns[2:]])\n",
    "\n",
    "X_train = data_train['name'].to_numpy()\n",
    "y_train = get_y(data_train)\n",
    "\n",
    "X_test = data_test['name'].to_numpy()\n",
    "y_test = get_y(data_test)"
   ]
  },
  {
   "cell_type": "markdown",
   "id": "c723c0e0",
   "metadata": {},
   "source": [
    "Разделение обучающей выборки на обучающую и валидационную:"
   ]
  },
  {
   "cell_type": "code",
   "execution_count": 18,
   "id": "0a8bdaf1",
   "metadata": {},
   "outputs": [],
   "source": [
    "X_train_vect, X_val_vect, \\\n",
    "y_train_vect, y_val_vect = train_test_split(X_train.copy(), y_train.copy(), test_size=0.05)"
   ]
  },
  {
   "cell_type": "markdown",
   "id": "05bbb2b7",
   "metadata": {
    "id": "05bbb2b7"
   },
   "source": [
    "Задание нескольких примеров для демонстрации работы моделей:"
   ]
  },
  {
   "cell_type": "code",
   "execution_count": 19,
   "id": "96767814",
   "metadata": {
    "id": "96767814"
   },
   "outputs": [],
   "source": [
    "X_val = X_test[-5:]\n",
    "y_val = y_test[-5:]"
   ]
  },
  {
   "cell_type": "markdown",
   "id": "36090713",
   "metadata": {
    "id": "36090713"
   },
   "source": [
    "Выведение на экран размеров выборок:"
   ]
  },
  {
   "cell_type": "code",
   "execution_count": 20,
   "id": "b24b92ad",
   "metadata": {
    "colab": {
     "base_uri": "https://localhost:8080/"
    },
    "id": "b24b92ad",
    "outputId": "7083ca23-eca2-44dc-cee7-42e354c6e159"
   },
   "outputs": [
    {
     "name": "stdout",
     "output_type": "stream",
     "text": [
      "ML models X_train shape: (67739,) \n",
      "X_test shape: (43625,)\n",
      "\n",
      "DL networks \n",
      "X_train_vect shape: (50804,) \n",
      "X_vel_vect shape: (16935,) \n",
      "X_test shape: (43625,)\n"
     ]
    }
   ],
   "source": [
    "print(\n",
    "    'ML models',\n",
    "    'X_train shape:', X_train.shape,\n",
    "    '\\nX_test shape:', X_test.shape\n",
    ")\n",
    "\n",
    "print(\n",
    "    '\\nDL networks',\n",
    "    '\\nX_train_vect shape:', X_train_vect.shape,\n",
    "    '\\nX_vel_vect shape:', X_val_vect.shape,\n",
    "    '\\nX_test shape:', X_test.shape\n",
    ")"
   ]
  },
  {
   "cell_type": "markdown",
   "id": "acc34393",
   "metadata": {
    "id": "acc34393"
   },
   "source": [
    ">**Вывод**\n",
    ">\n",
    ">* Далее необходимо закодировать значения столбца признаков, чтобы подавать в модель корректные входные значения."
   ]
  },
  {
   "cell_type": "markdown",
   "id": "f360fc17",
   "metadata": {
    "id": "f360fc17"
   },
   "source": [
    "---"
   ]
  },
  {
   "cell_type": "markdown",
   "id": "c0b6c277",
   "metadata": {
    "id": "c0b6c277"
   },
   "source": [
    "### 1.4 Кодирование данных"
   ]
  },
  {
   "cell_type": "markdown",
   "id": "683ca409",
   "metadata": {
    "id": "683ca409"
   },
   "source": [
    "Задание функции, трансформирующей многоклассовую последовательность в слова:"
   ]
  },
  {
   "cell_type": "code",
   "execution_count": 21,
   "id": "092dc850",
   "metadata": {
    "id": "092dc850"
   },
   "outputs": [],
   "source": [
    "def transform_label(label: int, vocab) -> List[Tuple[str]]:\n",
    "    '''Convert label to word.\n",
    "\n",
    "    Args:\n",
    "      - label (int) - label\n",
    "      - vocab - vocabulatory\n",
    "    '''\n",
    "\n",
    "    return vocab.inverse_transform(np.array([label]))"
   ]
  },
  {
   "cell_type": "markdown",
   "id": "0e7f179b",
   "metadata": {
    "id": "0e7f179b"
   },
   "source": [
    "---"
   ]
  },
  {
   "cell_type": "markdown",
   "id": "5219da7f",
   "metadata": {
    "id": "5219da7f"
   },
   "source": [
    "Выведение на экран образца объекта с кодированием и раскодированием его целевого признака:"
   ]
  },
  {
   "cell_type": "code",
   "execution_count": 22,
   "id": "c17aa116",
   "metadata": {
    "colab": {
     "base_uri": "https://localhost:8080/"
    },
    "id": "c17aa116",
    "outputId": "3eae9a9e-166d-4d96-ac6f-65270721b9af"
   },
   "outputs": [
    {
     "name": "stdout",
     "output_type": "stream",
     "text": [
      "meal: chicken cutlet with rice \n",
      "\n",
      "cuisine label:\n",
      " [0 0 0 0 0 0 0 0 0 0 0 1 0 0 1 0 0 0 0 0 0 0 0 0 1 0 0 0 0 0 0 0 0 0 0 0 0\n",
      " 0 0 0 0 0 0 0 0 0 0 0 0 0 0 0 0 1 0 0 0 0 0 0 0 0 0 1 0 1 0 0 0 0 0 0 0 0\n",
      " 0 1 0 0] \n",
      "\n",
      "cuisine: [('chicken', 'chinese', 'fried chicken', 'pasta', 'seafood', 'singaporean', 'western')]\n"
     ]
    }
   ],
   "source": [
    "print(\n",
    "    'meal:', X_train[0],\n",
    "    '\\n\\ncuisine label:\\n', y_train[0],\n",
    "    '\\n\\ncuisine:', transform_label(y_train[0], multilabel)\n",
    ")"
   ]
  },
  {
   "cell_type": "markdown",
   "id": "52678fec",
   "metadata": {
    "id": "52678fec"
   },
   "source": [
    "---"
   ]
  },
  {
   "cell_type": "markdown",
   "id": "e82dc3b0",
   "metadata": {
    "id": "e82dc3b0"
   },
   "source": [
    "**TfidfVectorizer**"
   ]
  },
  {
   "cell_type": "markdown",
   "id": "d739602c",
   "metadata": {
    "id": "d739602c"
   },
   "source": [
    "Выведение на экран числовых характеристик обучающей выборки:"
   ]
  },
  {
   "cell_type": "code",
   "execution_count": 23,
   "id": "73dd760c",
   "metadata": {
    "colab": {
     "base_uri": "https://localhost:8080/"
    },
    "id": "73dd760c",
    "outputId": "6256e4e1-238e-420b-de58-a806cf60167d"
   },
   "outputs": [
    {
     "data": {
      "text/plain": [
       "count    67739.0\n",
       "mean        21.6\n",
       "std          8.4\n",
       "min          3.0\n",
       "25%         15.0\n",
       "50%         21.0\n",
       "75%         27.0\n",
       "max         60.0\n",
       "dtype: float64"
      ]
     },
     "execution_count": 23,
     "metadata": {},
     "output_type": "execute_result"
    }
   ],
   "source": [
    "round(pd.Series(X_train).str.len().describe(), 1)"
   ]
  },
  {
   "cell_type": "markdown",
   "id": "04c0a7de",
   "metadata": {
    "id": "04c0a7de"
   },
   "source": [
    "Задание констант:"
   ]
  },
  {
   "cell_type": "code",
   "execution_count": 24,
   "id": "863f82ed",
   "metadata": {
    "colab": {
     "base_uri": "https://localhost:8080/"
    },
    "id": "863f82ed",
    "outputId": "8122bd3b-5e3e-4a3d-c7d3-b7aff1577454"
   },
   "outputs": [
    {
     "name": "stdout",
     "output_type": "stream",
     "text": [
      "Total labels: 78\n",
      "\n",
      "Maximum vocabulatory length: 10886\n",
      "Maximum output length: 22\n"
     ]
    }
   ],
   "source": [
    "n_labels = len(multilabel.classes_)\n",
    "\n",
    "max_vocab_len = len(set(' '.join(list(X_train)).split()))\n",
    "max_out_len = round(pd.Series(X_train).str.len().sum() / X_train.shape[0])\n",
    "\n",
    "print('Total labels:', n_labels)\n",
    "print('\\nMaximum vocabulatory length:', max_vocab_len)\n",
    "print('Maximum output length:', max_out_len)"
   ]
  },
  {
   "cell_type": "markdown",
   "id": "de594747",
   "metadata": {
    "id": "de594747"
   },
   "source": [
    "Задание объекта векторизации:"
   ]
  },
  {
   "cell_type": "code",
   "execution_count": 25,
   "id": "2abcdee4",
   "metadata": {
    "id": "2abcdee4"
   },
   "outputs": [],
   "source": [
    "vectorizer_tfidf = TfidfVectorizer(\n",
    "    max_features=max_vocab_len,\n",
    "    analyzer='word',\n",
    "    ngram_range=(1, 2),\n",
    "    stop_words='english'\n",
    ")"
   ]
  },
  {
   "cell_type": "markdown",
   "id": "bb738e64",
   "metadata": {
    "id": "bb738e64"
   },
   "source": [
    "---"
   ]
  },
  {
   "cell_type": "markdown",
   "id": "69f0bc77",
   "metadata": {
    "id": "69f0bc77"
   },
   "source": [
    "**layers.TextVectorization**"
   ]
  },
  {
   "cell_type": "markdown",
   "id": "d45ff990",
   "metadata": {
    "id": "d45ff990"
   },
   "source": [
    "Задание слоя векторизации:"
   ]
  },
  {
   "cell_type": "code",
   "execution_count": 26,
   "id": "ffb6e25c",
   "metadata": {
    "id": "ffb6e25c"
   },
   "outputs": [],
   "source": [
    "vectorizer_text_tfidf = layers.TextVectorization(\n",
    "    max_tokens=max_vocab_len,\n",
    "    ngrams=2,\n",
    "    output_mode='tf_idf'\n",
    ")"
   ]
  },
  {
   "cell_type": "markdown",
   "id": "39a22011",
   "metadata": {
    "id": "39a22011"
   },
   "source": [
    "Обучение объекта векторизации:"
   ]
  },
  {
   "cell_type": "code",
   "execution_count": 27,
   "id": "5d06891f",
   "metadata": {
    "id": "5d06891f"
   },
   "outputs": [],
   "source": [
    "with tf.device('/CPU:0'):\n",
    "    vectorizer_text_tfidf.adapt(X_train)"
   ]
  },
  {
   "cell_type": "markdown",
   "id": "162f678e",
   "metadata": {
    "id": "162f678e"
   },
   "source": [
    "Трансформация выборок:"
   ]
  },
  {
   "cell_type": "code",
   "execution_count": 28,
   "id": "414de97c",
   "metadata": {
    "id": "414de97c"
   },
   "outputs": [],
   "source": [
    "with tf.device('/CPU:0'):\n",
    "    X_train_vect = vectorizer_text_tfidf(X_train_vect)\n",
    "    X_val_vect = vectorizer_text_tfidf(X_val_vect)\n",
    "    X_val_vect_2 = vectorizer_text_tfidf(X_val)\n",
    "    X_test_vect = vectorizer_text_tfidf(X_test)"
   ]
  },
  {
   "cell_type": "markdown",
   "id": "6b7f09bf",
   "metadata": {
    "id": "6b7f09bf"
   },
   "source": [
    ">**Вывод**\n",
    ">\n",
    ">* Данные были подготовлены к обучению на них модели."
   ]
  },
  {
   "cell_type": "markdown",
   "id": "dc21a046",
   "metadata": {
    "id": "dc21a046"
   },
   "source": [
    "---"
   ]
  },
  {
   "cell_type": "markdown",
   "id": "7ebdd323",
   "metadata": {
    "id": "7ebdd323"
   },
   "source": [
    "## 2 Обучение модели"
   ]
  },
  {
   "cell_type": "markdown",
   "id": "3aaf7be5",
   "metadata": {
    "id": "3aaf7be5"
   },
   "source": [
    "Задание функции, трансформирующей вероятности классов в классы:"
   ]
  },
  {
   "cell_type": "code",
   "execution_count": 29,
   "id": "bb57fd4a",
   "metadata": {
    "id": "bb57fd4a"
   },
   "outputs": [],
   "source": [
    "def transform_probs_to_labels(probs: np.ndarray, threshold: float = 0.5) -> List[int]:\n",
    "    '''Convert probabilities to labels.\n",
    "\n",
    "    Args:\n",
    "      - probs (np.ndarray) - probabilities\n",
    "      - threshold (int, optional) - threshold to convert values\n",
    "    '''\n",
    "\n",
    "    return (probs > threshold).astype(int)"
   ]
  },
  {
   "cell_type": "markdown",
   "id": "be7a3849",
   "metadata": {
    "id": "be7a3849"
   },
   "source": [
    "Задание функции, выводящей таблицу для сравнения предсказаний с ответами:"
   ]
  },
  {
   "cell_type": "code",
   "execution_count": 30,
   "id": "b543d178",
   "metadata": {
    "id": "b543d178"
   },
   "outputs": [],
   "source": [
    "def compare_pred_true(X: pd.Series or np.ndarray,\n",
    "                      y: np.ndarray,\n",
    "                      preds: List[Tuple[str]],\n",
    "                      limit: int = 5) -> None:\n",
    "\n",
    "    '''Display table comparing in columns predictions and true classes.\n",
    "\n",
    "    Args:\n",
    "      - X (pd.Series or np.ndarray) - train features values\n",
    "      - y (np.ndarray) - target feature values\n",
    "      - preds (List[Tuple[str]]) - predictions\n",
    "      - limit (int, optional) - number of rows. Defaults to 5\n",
    "    '''\n",
    "\n",
    "    df = []\n",
    "\n",
    "    for i in range(limit):\n",
    "        label_pred = transform_label(preds[i], multilabel)\n",
    "        label_true = transform_label(y[i], multilabel)\n",
    "\n",
    "        df.append([X[i], label_pred, label_true])\n",
    "\n",
    "    display(pd.DataFrame(df, columns=['name', 'prediction', 'true']))"
   ]
  },
  {
   "cell_type": "markdown",
   "id": "cb5bfd99",
   "metadata": {
    "id": "cb5bfd99"
   },
   "source": [
    "Задание функции, строящей графики метрики и функции потерь:"
   ]
  },
  {
   "cell_type": "code",
   "execution_count": 31,
   "id": "f9f113ab",
   "metadata": {
    "id": "f9f113ab"
   },
   "outputs": [],
   "source": [
    "def plot_history(history, score_name: str) -> None:\n",
    "    '''Plot chart with train and val loss and score values.\n",
    "\n",
    "    Args:\n",
    "      - history - history of FCNN model training\n",
    "      - score_name (str) - name of score in history\n",
    "    '''\n",
    "\n",
    "    accuracy_train = history.history[score_name]\n",
    "    accuracy_val = history.history[f'val_{score_name}']\n",
    "\n",
    "    loss_train = history.history['loss']\n",
    "    loss_val = history.history['val_loss']\n",
    "\n",
    "    x = range(len(accuracy_train))\n",
    "\n",
    "    plt.figure(figsize=(12, 4))\n",
    "\n",
    "    plt.subplot(1, 2, 1)\n",
    "    plt.plot(x, accuracy_train, 'b', label=f'train')\n",
    "    plt.plot(x, accuracy_val, 'r', label=f'valid')\n",
    "    plt.title(f'{score_name.capitalize()}\\n')\n",
    "    plt.legend()\n",
    "\n",
    "    plt.subplot(1, 2, 2)\n",
    "    plt.plot(x, loss_train, 'b', label='train')\n",
    "    plt.plot(x, loss_val, 'r', label='valid')\n",
    "    plt.title('Loss\\n')\n",
    "    plt.legend()\n",
    "\n",
    "    plt.show()"
   ]
  },
  {
   "cell_type": "markdown",
   "id": "bff9b7d2",
   "metadata": {
    "id": "bff9b7d2"
   },
   "source": [
    "Задание функции, вычисляющей метрики:"
   ]
  },
  {
   "cell_type": "code",
   "execution_count": 32,
   "id": "7b2a4285",
   "metadata": {
    "id": "7b2a4285"
   },
   "outputs": [],
   "source": [
    "def save_values(name: str, model,\n",
    "                params: Dict,\n",
    "                score: float,\n",
    "                mean_time: float,\n",
    "                save_to: pd.DataFrame,\n",
    "                show_table: bool = True) -> None:\n",
    "\n",
    "    '''Save best model values.\n",
    "\n",
    "    Args:\n",
    "      - name (str) - estimator name\n",
    "      - model - best estimator\n",
    "      - params (Dict) - best search parameters\n",
    "      - score (float) - best score\n",
    "      - mean_time (float) - mean time of estimator fit\n",
    "      - save_to (pd.DataFrame) - dataframe to save scores\n",
    "      - display (bool) - display or not the results\n",
    "    '''\n",
    "\n",
    "    save_to.loc[name, 'model'] = model\n",
    "    save_to.loc[name, 'params'] = [params]\n",
    "    save_to.loc[name, 'score'] = round(score, 2)\n",
    "    save_to.loc[name, 'mean_fit_time'] = round(mean_time, 2)\n",
    "    \n",
    "    if show_table:\n",
    "        display(pd.DataFrame(save_to.loc[name]).T[['score', 'mean_fit_time']])\n",
    "    else:\n",
    "        print('Score:', score)"
   ]
  },
  {
   "cell_type": "markdown",
   "id": "bb3db217",
   "metadata": {
    "id": "bb3db217"
   },
   "source": [
    "Задание функции обучения модели:"
   ]
  },
  {
   "cell_type": "code",
   "execution_count": 33,
   "id": "f9acff84",
   "metadata": {
    "id": "f9acff84"
   },
   "outputs": [],
   "source": [
    "def train_model(model,\n",
    "                X: pd.Series or np.ndarray,\n",
    "                y: np.ndarray,\n",
    "                params: Dict,\n",
    "                name: str,\n",
    "                save_to: pd.DataFrame,\n",
    "                scoring: str or List[str] = 'accuracy',\n",
    "                cv: int = 3,\n",
    "                grid_search: bool = False) -> None:\n",
    "\n",
    "    '''Train model.\n",
    "\n",
    "    Args:\n",
    "      - model - estmator\n",
    "      - X (pd.Series or np.ndarray) - train features values\n",
    "      - y (np.ndarray) - target feature values\n",
    "      - params (Dict, optional) - search parameters\n",
    "      - name (str) - estimator name\n",
    "      - save_to (pd.DataFrame) - dataframe to save scores\n",
    "      - scoring (str or List[str], optional) - metric to score model. Defaults to accuracy\n",
    "      - cv (int, optional) - cross-validation folds. Defaults to 3\n",
    "      - grid_search (bool, optional)\n",
    "    '''\n",
    "\n",
    "    time_start = time.time()\n",
    "\n",
    "    print('Searching...')\n",
    "\n",
    "    search_params = {\n",
    "        'estimator': model,\n",
    "        'scoring': scoring,\n",
    "        'refit': True if type(scoring) is str else 'accuracy',\n",
    "        'cv': cv,\n",
    "        'verbose': 0,\n",
    "        'n_jobs': -1\n",
    "    }\n",
    "\n",
    "    if grid_search is False:\n",
    "        if len(params) > 3:\n",
    "            search = RandomizedSearchCV(**search_params, param_distributions=params)\n",
    "        else:\n",
    "            search = GridSearchCV(**search_params, param_grid=params)\n",
    "\n",
    "    search.fit(X, y)\n",
    "\n",
    "    # best results\n",
    "    best_model = search.best_estimator_\n",
    "    best_params = search.best_params_\n",
    "    best_score = best_model.score(X, y)\n",
    "\n",
    "    best_results = pd.DataFrame(search.cv_results_).loc[search.best_index_]\n",
    "    mean_time = best_results['mean_fit_time']\n",
    "\n",
    "    print('Finished')\n",
    "    print('\\nEstimated search time:', round((time.time() - time_start) / 60, 2), 'min')\n",
    "\n",
    "    save_values(name, best_model, best_params, best_score, mean_time, save_to)"
   ]
  },
  {
   "cell_type": "markdown",
   "id": "1dd2b6ef",
   "metadata": {
    "id": "1dd2b6ef"
   },
   "source": [
    "---"
   ]
  },
  {
   "cell_type": "markdown",
   "id": "15878a91",
   "metadata": {
    "id": "15878a91"
   },
   "source": [
    "Объявление переменной, которая будет хранить результаты вычисления метрик моделей:"
   ]
  },
  {
   "cell_type": "code",
   "execution_count": 34,
   "id": "5b6d298a",
   "metadata": {
    "id": "5b6d298a"
   },
   "outputs": [],
   "source": [
    "results = pd.DataFrame()"
   ]
  },
  {
   "cell_type": "markdown",
   "id": "5269fbd8",
   "metadata": {
    "id": "5269fbd8"
   },
   "source": [
    "<br>\n",
    "\n",
    "Свойство | Значение\n",
    "-|-\n",
    "Признаки | `name`\n",
    "Кодирование признаков | 1) ML - TfidfVectorizer<br>2) DL - tf.keras.layers.TextVectorization\n",
    "Целевой признак | `primary_cuisine`\n",
    "Кодирование целевого признака | MultiLabelBinarizer\n",
    "Метрики | `accuracy`\n",
    "Функция потерь | `binary_crossentropy`\n",
    "Порог | 0.6\n",
    "Baseline ML | OneVsRestClassifier + LogisticRegression\n",
    "DL модель | FCNN"
   ]
  },
  {
   "cell_type": "markdown",
   "id": "6cb82f22",
   "metadata": {
    "id": "6cb82f22"
   },
   "source": [
    "---"
   ]
  },
  {
   "cell_type": "markdown",
   "id": "01315e69",
   "metadata": {
    "id": "01315e69"
   },
   "source": [
    "### 2.1 ML"
   ]
  },
  {
   "cell_type": "markdown",
   "id": "2953c5b4",
   "metadata": {
    "id": "2953c5b4"
   },
   "source": [
    "#### 2.1.1 LogisticRegression (Baseline)"
   ]
  },
  {
   "cell_type": "markdown",
   "id": "d0d2188d",
   "metadata": {
    "id": "d0d2188d"
   },
   "source": [
    "Объявление пайплайна обучения модели:"
   ]
  },
  {
   "cell_type": "code",
   "execution_count": 35,
   "id": "d65ccd12",
   "metadata": {
    "id": "d65ccd12",
    "scrolled": true
   },
   "outputs": [],
   "source": [
    "pipeline_0 = Pipeline([\n",
    "    ('tfidf', vectorizer_tfidf),\n",
    "    ('model', OneVsRestClassifier(LogisticRegression()))\n",
    "])"
   ]
  },
  {
   "cell_type": "markdown",
   "id": "07dec29b",
   "metadata": {
    "id": "07dec29b"
   },
   "source": [
    "Задание параметров модели:"
   ]
  },
  {
   "cell_type": "code",
   "execution_count": 36,
   "id": "e6f1144d",
   "metadata": {
    "id": "e6f1144d"
   },
   "outputs": [],
   "source": [
    "params_0 = {\n",
    "    'model__estimator__multi_class': ['ovr'],\n",
    "    'model__estimator__n_jobs': [-1],\n",
    "    'model__estimator__random_state': [SEED]\n",
    "}"
   ]
  },
  {
   "cell_type": "markdown",
   "id": "3018b9ad",
   "metadata": {
    "id": "3018b9ad"
   },
   "source": [
    "Обучение модели:"
   ]
  },
  {
   "cell_type": "code",
   "execution_count": 37,
   "id": "2568792f",
   "metadata": {
    "colab": {
     "base_uri": "https://localhost:8080/"
    },
    "id": "2568792f",
    "outputId": "1f71da81-1dee-4acc-cd39-6aed8c637939",
    "scrolled": true
   },
   "outputs": [
    {
     "name": "stdout",
     "output_type": "stream",
     "text": [
      "Searching...\n",
      "Finished\n",
      "\n",
      "Estimated search time: 2.63 min\n"
     ]
    },
    {
     "data": {
      "text/html": [
       "<div>\n",
       "<style scoped>\n",
       "    .dataframe tbody tr th:only-of-type {\n",
       "        vertical-align: middle;\n",
       "    }\n",
       "\n",
       "    .dataframe tbody tr th {\n",
       "        vertical-align: top;\n",
       "    }\n",
       "\n",
       "    .dataframe thead th {\n",
       "        text-align: right;\n",
       "    }\n",
       "</style>\n",
       "<table border=\"1\" class=\"dataframe\">\n",
       "  <thead>\n",
       "    <tr style=\"text-align: right;\">\n",
       "      <th></th>\n",
       "      <th>score</th>\n",
       "      <th>mean_fit_time</th>\n",
       "    </tr>\n",
       "  </thead>\n",
       "  <tbody>\n",
       "    <tr>\n",
       "      <th>log_reg</th>\n",
       "      <td>0.23</td>\n",
       "      <td>24.73</td>\n",
       "    </tr>\n",
       "  </tbody>\n",
       "</table>\n",
       "</div>"
      ],
      "text/plain": [
       "        score mean_fit_time\n",
       "log_reg  0.23         24.73"
      ]
     },
     "metadata": {},
     "output_type": "display_data"
    }
   ],
   "source": [
    "train_model(\n",
    "    pipeline_0,\n",
    "    X_train,\n",
    "    y_train,\n",
    "    params=params_0,\n",
    "    name='log_reg',\n",
    "    save_to=results\n",
    ")"
   ]
  },
  {
   "cell_type": "markdown",
   "id": "67c335bf",
   "metadata": {
    "id": "67c335bf"
   },
   "source": [
    "Выведение на экран сравнения предсказаний с целевыми значениями:"
   ]
  },
  {
   "cell_type": "code",
   "execution_count": 38,
   "id": "4fe70577",
   "metadata": {
    "id": "4fe70577"
   },
   "outputs": [
    {
     "data": {
      "text/html": [
       "<div>\n",
       "<style scoped>\n",
       "    .dataframe tbody tr th:only-of-type {\n",
       "        vertical-align: middle;\n",
       "    }\n",
       "\n",
       "    .dataframe tbody tr th {\n",
       "        vertical-align: top;\n",
       "    }\n",
       "\n",
       "    .dataframe thead th {\n",
       "        text-align: right;\n",
       "    }\n",
       "</style>\n",
       "<table border=\"1\" class=\"dataframe\">\n",
       "  <thead>\n",
       "    <tr style=\"text-align: right;\">\n",
       "      <th></th>\n",
       "      <th>name</th>\n",
       "      <th>prediction</th>\n",
       "      <th>true</th>\n",
       "    </tr>\n",
       "  </thead>\n",
       "  <tbody>\n",
       "    <tr>\n",
       "      <th>0</th>\n",
       "      <td>chilli sauce rice cake</td>\n",
       "      <td>[()]</td>\n",
       "      <td>[(korean,)]</td>\n",
       "    </tr>\n",
       "    <tr>\n",
       "      <th>1</th>\n",
       "      <td>seafood spring onion pancake</td>\n",
       "      <td>[()]</td>\n",
       "      <td>[(korean,)]</td>\n",
       "    </tr>\n",
       "    <tr>\n",
       "      <th>2</th>\n",
       "      <td>ginger lessi smoothie</td>\n",
       "      <td>[()]</td>\n",
       "      <td>[(turkish,)]</td>\n",
       "    </tr>\n",
       "    <tr>\n",
       "      <th>3</th>\n",
       "      <td>bakkwa spring roll</td>\n",
       "      <td>[()]</td>\n",
       "      <td>[(chinese,)]</td>\n",
       "    </tr>\n",
       "    <tr>\n",
       "      <th>4</th>\n",
       "      <td>matcha milk tea large</td>\n",
       "      <td>[(bubble tea,)]</td>\n",
       "      <td>[(bubble tea,)]</td>\n",
       "    </tr>\n",
       "  </tbody>\n",
       "</table>\n",
       "</div>"
      ],
      "text/plain": [
       "                           name       prediction             true\n",
       "0        chilli sauce rice cake             [()]      [(korean,)]\n",
       "1  seafood spring onion pancake             [()]      [(korean,)]\n",
       "2         ginger lessi smoothie             [()]     [(turkish,)]\n",
       "3            bakkwa spring roll             [()]     [(chinese,)]\n",
       "4         matcha milk tea large  [(bubble tea,)]  [(bubble tea,)]"
      ]
     },
     "metadata": {},
     "output_type": "display_data"
    }
   ],
   "source": [
    "compare_pred_true(\n",
    "    X=X_val,\n",
    "    y=y_val,\n",
    "    preds=results.loc['log_reg', 'model'].predict(X_val)\n",
    ")"
   ]
  },
  {
   "cell_type": "markdown",
   "id": "b214adbb",
   "metadata": {
    "id": "b214adbb"
   },
   "source": [
    "---"
   ]
  },
  {
   "cell_type": "markdown",
   "id": "93922612",
   "metadata": {
    "id": "93922612"
   },
   "source": [
    "#### 2.1.2 KNeighborsClassifier"
   ]
  },
  {
   "cell_type": "markdown",
   "id": "b7bbf476",
   "metadata": {
    "id": "b7bbf476"
   },
   "source": [
    "Объявление пайплайна обучения модели:"
   ]
  },
  {
   "cell_type": "code",
   "execution_count": 39,
   "id": "cb51228f",
   "metadata": {
    "id": "cb51228f"
   },
   "outputs": [],
   "source": [
    "pipeline_1 = Pipeline([\n",
    "    ('tfidf', vectorizer_tfidf),\n",
    "    ('model', KNeighborsClassifier())\n",
    "])"
   ]
  },
  {
   "cell_type": "markdown",
   "id": "24d0bef3",
   "metadata": {
    "id": "24d0bef3"
   },
   "source": [
    "Задание параметров модели:"
   ]
  },
  {
   "cell_type": "code",
   "execution_count": 40,
   "id": "b55b7667",
   "metadata": {
    "id": "b55b7667"
   },
   "outputs": [],
   "source": [
    "params_1 = {\n",
    "    'model__n_neighbors': [5], #range(5, 11),\n",
    "    'model__algorithm': ['ball_tree'], #['auto', 'ball_tree', 'kd_tree', 'brute'],\n",
    "    'model__leaf_size': [34], #range(20, 41),\n",
    "    'model__n_jobs': [-1]\n",
    "}"
   ]
  },
  {
   "cell_type": "markdown",
   "id": "4437e086",
   "metadata": {
    "id": "4437e086"
   },
   "source": [
    "Обучение модели:"
   ]
  },
  {
   "cell_type": "code",
   "execution_count": 41,
   "id": "2f931eb4",
   "metadata": {
    "id": "2f931eb4",
    "scrolled": true
   },
   "outputs": [
    {
     "name": "stdout",
     "output_type": "stream",
     "text": [
      "Searching...\n",
      "Finished\n",
      "\n",
      "Estimated search time: 5.51 min\n"
     ]
    },
    {
     "data": {
      "text/html": [
       "<div>\n",
       "<style scoped>\n",
       "    .dataframe tbody tr th:only-of-type {\n",
       "        vertical-align: middle;\n",
       "    }\n",
       "\n",
       "    .dataframe tbody tr th {\n",
       "        vertical-align: top;\n",
       "    }\n",
       "\n",
       "    .dataframe thead th {\n",
       "        text-align: right;\n",
       "    }\n",
       "</style>\n",
       "<table border=\"1\" class=\"dataframe\">\n",
       "  <thead>\n",
       "    <tr style=\"text-align: right;\">\n",
       "      <th></th>\n",
       "      <th>score</th>\n",
       "      <th>mean_fit_time</th>\n",
       "    </tr>\n",
       "  </thead>\n",
       "  <tbody>\n",
       "    <tr>\n",
       "      <th>kn_class</th>\n",
       "      <td>0.41</td>\n",
       "      <td>1.07</td>\n",
       "    </tr>\n",
       "  </tbody>\n",
       "</table>\n",
       "</div>"
      ],
      "text/plain": [
       "         score mean_fit_time\n",
       "kn_class  0.41          1.07"
      ]
     },
     "metadata": {},
     "output_type": "display_data"
    }
   ],
   "source": [
    "train_model(\n",
    "    pipeline_1,\n",
    "    X_train,\n",
    "    y_train,\n",
    "    params=params_1,\n",
    "    name='kn_class',\n",
    "    save_to=results\n",
    ")"
   ]
  },
  {
   "cell_type": "markdown",
   "id": "b8663181",
   "metadata": {
    "id": "b8663181"
   },
   "source": [
    "Выведение на экран сравнения предсказаний с целевыми значениями:"
   ]
  },
  {
   "cell_type": "code",
   "execution_count": 42,
   "id": "475d52bb",
   "metadata": {
    "id": "475d52bb"
   },
   "outputs": [
    {
     "data": {
      "text/html": [
       "<div>\n",
       "<style scoped>\n",
       "    .dataframe tbody tr th:only-of-type {\n",
       "        vertical-align: middle;\n",
       "    }\n",
       "\n",
       "    .dataframe tbody tr th {\n",
       "        vertical-align: top;\n",
       "    }\n",
       "\n",
       "    .dataframe thead th {\n",
       "        text-align: right;\n",
       "    }\n",
       "</style>\n",
       "<table border=\"1\" class=\"dataframe\">\n",
       "  <thead>\n",
       "    <tr style=\"text-align: right;\">\n",
       "      <th></th>\n",
       "      <th>name</th>\n",
       "      <th>prediction</th>\n",
       "      <th>true</th>\n",
       "    </tr>\n",
       "  </thead>\n",
       "  <tbody>\n",
       "    <tr>\n",
       "      <th>0</th>\n",
       "      <td>chilli sauce rice cake</td>\n",
       "      <td>[(chinese, korean)]</td>\n",
       "      <td>[(korean,)]</td>\n",
       "    </tr>\n",
       "    <tr>\n",
       "      <th>1</th>\n",
       "      <td>seafood spring onion pancake</td>\n",
       "      <td>[()]</td>\n",
       "      <td>[(korean,)]</td>\n",
       "    </tr>\n",
       "    <tr>\n",
       "      <th>2</th>\n",
       "      <td>ginger lessi smoothie</td>\n",
       "      <td>[()]</td>\n",
       "      <td>[(turkish,)]</td>\n",
       "    </tr>\n",
       "    <tr>\n",
       "      <th>3</th>\n",
       "      <td>bakkwa spring roll</td>\n",
       "      <td>[(chinese,)]</td>\n",
       "      <td>[(chinese,)]</td>\n",
       "    </tr>\n",
       "    <tr>\n",
       "      <th>4</th>\n",
       "      <td>matcha milk tea large</td>\n",
       "      <td>[(bubble tea,)]</td>\n",
       "      <td>[(bubble tea,)]</td>\n",
       "    </tr>\n",
       "  </tbody>\n",
       "</table>\n",
       "</div>"
      ],
      "text/plain": [
       "                           name           prediction             true\n",
       "0        chilli sauce rice cake  [(chinese, korean)]      [(korean,)]\n",
       "1  seafood spring onion pancake                 [()]      [(korean,)]\n",
       "2         ginger lessi smoothie                 [()]     [(turkish,)]\n",
       "3            bakkwa spring roll         [(chinese,)]     [(chinese,)]\n",
       "4         matcha milk tea large      [(bubble tea,)]  [(bubble tea,)]"
      ]
     },
     "metadata": {},
     "output_type": "display_data"
    }
   ],
   "source": [
    "compare_pred_true(\n",
    "    X=X_val,\n",
    "    y=y_val,\n",
    "    preds=results.loc['kn_class', 'model'].predict(X_val)\n",
    ")"
   ]
  },
  {
   "cell_type": "markdown",
   "id": "589af0ff",
   "metadata": {
    "id": "589af0ff"
   },
   "source": [
    "---"
   ]
  },
  {
   "cell_type": "markdown",
   "id": "badc773b",
   "metadata": {
    "id": "badc773b"
   },
   "source": [
    "#### 2.1.3 MLPClassifier"
   ]
  },
  {
   "cell_type": "markdown",
   "id": "594fb38c",
   "metadata": {
    "id": "594fb38c"
   },
   "source": []
  },
  {
   "cell_type": "code",
   "execution_count": 43,
   "id": "2776e408",
   "metadata": {
    "id": "2776e408"
   },
   "outputs": [],
   "source": [
    "pipeline_3 = Pipeline([\n",
    "    ('tfidf', vectorizer_tfidf),\n",
    "    ('model', MLPClassifier())\n",
    "])"
   ]
  },
  {
   "cell_type": "markdown",
   "id": "da2b9237",
   "metadata": {
    "id": "da2b9237"
   },
   "source": [
    "Задание параметров модели:"
   ]
  },
  {
   "cell_type": "code",
   "execution_count": 44,
   "id": "c6214280",
   "metadata": {
    "id": "c6214280"
   },
   "outputs": [],
   "source": [
    "params_3 = {\n",
    "    'model__hidden_layer_sizes': [(150, 100, 50)], #[(150, 100, 50), (120, 80, 40), (100, 50, 30)],\n",
    "    'model__activation': ['relu'],\n",
    "    'model__solver': ['adam'],\n",
    "    # 'model__learning_rate': ['constant','adaptive'],\n",
    "    'model__random_state': [SEED]\n",
    "}"
   ]
  },
  {
   "cell_type": "markdown",
   "id": "4d997b60",
   "metadata": {
    "id": "4d997b60"
   },
   "source": [
    "Обучение модели:"
   ]
  },
  {
   "cell_type": "code",
   "execution_count": 45,
   "id": "4c2f59ce",
   "metadata": {
    "id": "4c2f59ce"
   },
   "outputs": [
    {
     "name": "stdout",
     "output_type": "stream",
     "text": [
      "Searching...\n",
      "Finished\n",
      "\n",
      "Estimated search time: 199.89 min\n"
     ]
    },
    {
     "data": {
      "text/html": [
       "<div>\n",
       "<style scoped>\n",
       "    .dataframe tbody tr th:only-of-type {\n",
       "        vertical-align: middle;\n",
       "    }\n",
       "\n",
       "    .dataframe tbody tr th {\n",
       "        vertical-align: top;\n",
       "    }\n",
       "\n",
       "    .dataframe thead th {\n",
       "        text-align: right;\n",
       "    }\n",
       "</style>\n",
       "<table border=\"1\" class=\"dataframe\">\n",
       "  <thead>\n",
       "    <tr style=\"text-align: right;\">\n",
       "      <th></th>\n",
       "      <th>score</th>\n",
       "      <th>mean_fit_time</th>\n",
       "    </tr>\n",
       "  </thead>\n",
       "  <tbody>\n",
       "    <tr>\n",
       "      <th>mlp_class</th>\n",
       "      <td>0.9</td>\n",
       "      <td>5853.02</td>\n",
       "    </tr>\n",
       "  </tbody>\n",
       "</table>\n",
       "</div>"
      ],
      "text/plain": [
       "          score mean_fit_time\n",
       "mlp_class   0.9       5853.02"
      ]
     },
     "metadata": {},
     "output_type": "display_data"
    }
   ],
   "source": [
    "train_model(\n",
    "    pipeline_3,\n",
    "    X_train,\n",
    "    y_train,\n",
    "    params=params_3,\n",
    "    name='mlp_class',\n",
    "    save_to=results\n",
    ")"
   ]
  },
  {
   "cell_type": "markdown",
   "id": "63d24646",
   "metadata": {},
   "source": [
    "Выведение на экран сравнения предсказаний с целевыми значениями:"
   ]
  },
  {
   "cell_type": "code",
   "execution_count": 46,
   "id": "0e36e814",
   "metadata": {},
   "outputs": [
    {
     "data": {
      "text/html": [
       "<div>\n",
       "<style scoped>\n",
       "    .dataframe tbody tr th:only-of-type {\n",
       "        vertical-align: middle;\n",
       "    }\n",
       "\n",
       "    .dataframe tbody tr th {\n",
       "        vertical-align: top;\n",
       "    }\n",
       "\n",
       "    .dataframe thead th {\n",
       "        text-align: right;\n",
       "    }\n",
       "</style>\n",
       "<table border=\"1\" class=\"dataframe\">\n",
       "  <thead>\n",
       "    <tr style=\"text-align: right;\">\n",
       "      <th></th>\n",
       "      <th>name</th>\n",
       "      <th>prediction</th>\n",
       "      <th>true</th>\n",
       "    </tr>\n",
       "  </thead>\n",
       "  <tbody>\n",
       "    <tr>\n",
       "      <th>0</th>\n",
       "      <td>chilli sauce rice cake</td>\n",
       "      <td>[(korean,)]</td>\n",
       "      <td>[(korean,)]</td>\n",
       "    </tr>\n",
       "    <tr>\n",
       "      <th>1</th>\n",
       "      <td>seafood spring onion pancake</td>\n",
       "      <td>[(korean,)]</td>\n",
       "      <td>[(korean,)]</td>\n",
       "    </tr>\n",
       "    <tr>\n",
       "      <th>2</th>\n",
       "      <td>ginger lessi smoothie</td>\n",
       "      <td>[(beverages, bubble tea)]</td>\n",
       "      <td>[(turkish,)]</td>\n",
       "    </tr>\n",
       "    <tr>\n",
       "      <th>3</th>\n",
       "      <td>bakkwa spring roll</td>\n",
       "      <td>[(chinese,)]</td>\n",
       "      <td>[(chinese,)]</td>\n",
       "    </tr>\n",
       "    <tr>\n",
       "      <th>4</th>\n",
       "      <td>matcha milk tea large</td>\n",
       "      <td>[(bubble tea,)]</td>\n",
       "      <td>[(bubble tea,)]</td>\n",
       "    </tr>\n",
       "  </tbody>\n",
       "</table>\n",
       "</div>"
      ],
      "text/plain": [
       "                           name                 prediction             true\n",
       "0        chilli sauce rice cake                [(korean,)]      [(korean,)]\n",
       "1  seafood spring onion pancake                [(korean,)]      [(korean,)]\n",
       "2         ginger lessi smoothie  [(beverages, bubble tea)]     [(turkish,)]\n",
       "3            bakkwa spring roll               [(chinese,)]     [(chinese,)]\n",
       "4         matcha milk tea large            [(bubble tea,)]  [(bubble tea,)]"
      ]
     },
     "metadata": {},
     "output_type": "display_data"
    }
   ],
   "source": [
    "compare_pred_true(\n",
    "    X=X_val,\n",
    "    y=y_val,\n",
    "    preds=results.loc['mlp_class', 'model'].predict(X_val)\n",
    ")"
   ]
  },
  {
   "cell_type": "markdown",
   "id": "8e62f985",
   "metadata": {
    "id": "8e62f985"
   },
   "source": [
    "---"
   ]
  },
  {
   "cell_type": "markdown",
   "id": "b153ed44",
   "metadata": {
    "id": "b153ed44"
   },
   "source": [
    "### 2.2 DL"
   ]
  },
  {
   "cell_type": "markdown",
   "id": "3b38e15d",
   "metadata": {
    "id": "3b38e15d"
   },
   "source": [
    "Объявление модели:"
   ]
  },
  {
   "cell_type": "code",
   "execution_count": 47,
   "id": "1a804b42",
   "metadata": {
    "id": "1a804b42"
   },
   "outputs": [
    {
     "name": "stdout",
     "output_type": "stream",
     "text": [
      "Model: \"sequential\"\n",
      "_________________________________________________________________\n",
      " Layer (type)                Output Shape              Param #   \n",
      "=================================================================\n",
      " dense (Dense)               (50804, 256)              2787072   \n",
      "                                                                 \n",
      " dense_1 (Dense)             (50804, 128)              32896     \n",
      "                                                                 \n",
      " dense_2 (Dense)             (50804, 64)               8256      \n",
      "                                                                 \n",
      " batch_normalization (BatchN  (50804, 64)              256       \n",
      " ormalization)                                                   \n",
      "                                                                 \n",
      " dense_3 (Dense)             (50804, 78)               5070      \n",
      "                                                                 \n",
      "=================================================================\n",
      "Total params: 2,833,550\n",
      "Trainable params: 2,833,422\n",
      "Non-trainable params: 128\n",
      "_________________________________________________________________\n"
     ]
    }
   ],
   "source": [
    "model_4 = Sequential([\n",
    "    layers.Dense(256, activation='relu',\n",
    "                 kernel_regularizer=regularizers.L2(l2=1e-3),\n",
    "                 bias_regularizer=regularizers.L2(l2=1e-3)),\n",
    "\n",
    "    layers.Dense(128, activation='relu'),\n",
    "    layers.Dense(64, activation='relu'),\n",
    "    layers.BatchNormalization(),\n",
    "    layers.Dense(n_labels, activation='sigmoid')\n",
    "])\n",
    "\n",
    "model_4.build(X_train_vect.shape)\n",
    "model_4.summary()"
   ]
  },
  {
   "cell_type": "markdown",
   "id": "34148f2a",
   "metadata": {
    "id": "34148f2a"
   },
   "source": [
    "Настройка модели:"
   ]
  },
  {
   "cell_type": "code",
   "execution_count": 48,
   "id": "1cbf4028",
   "metadata": {
    "id": "1cbf4028"
   },
   "outputs": [],
   "source": [
    "model_4.compile(\n",
    "    loss='binary_crossentropy',\n",
    "    optimizer=optimizers.Adam(),\n",
    "    metrics=['accuracy']\n",
    ")"
   ]
  },
  {
   "cell_type": "markdown",
   "id": "a6262b6d",
   "metadata": {
    "id": "a6262b6d"
   },
   "source": [
    "Обучение модели:"
   ]
  },
  {
   "cell_type": "code",
   "execution_count": 49,
   "id": "3a14c7b0",
   "metadata": {
    "id": "3a14c7b0"
   },
   "outputs": [
    {
     "name": "stdout",
     "output_type": "stream",
     "text": [
      "Epoch 1/20\n",
      "397/397 [==============================] - 11s 16ms/step - loss: 0.2483 - accuracy: 0.2506 - val_loss: 0.0840 - val_accuracy: 0.2906\n",
      "Epoch 2/20\n",
      "397/397 [==============================] - 5s 12ms/step - loss: 0.0775 - accuracy: 0.3707 - val_loss: 0.0757 - val_accuracy: 0.3802\n",
      "Epoch 3/20\n",
      "397/397 [==============================] - 7s 17ms/step - loss: 0.0745 - accuracy: 0.3976 - val_loss: 0.0747 - val_accuracy: 0.3954\n",
      "Epoch 4/20\n",
      "397/397 [==============================] - 5s 12ms/step - loss: 0.0728 - accuracy: 0.4117 - val_loss: 0.0730 - val_accuracy: 0.4012\n",
      "Epoch 5/20\n",
      "397/397 [==============================] - 5s 12ms/step - loss: 0.0717 - accuracy: 0.4179 - val_loss: 0.0733 - val_accuracy: 0.4096\n",
      "Epoch 6/20\n",
      "397/397 [==============================] - 5s 12ms/step - loss: 0.0710 - accuracy: 0.4266 - val_loss: 0.0715 - val_accuracy: 0.4122\n",
      "Epoch 7/20\n",
      "397/397 [==============================] - 6s 14ms/step - loss: 0.0698 - accuracy: 0.4322 - val_loss: 0.0714 - val_accuracy: 0.4116\n",
      "Epoch 8/20\n",
      "397/397 [==============================] - 6s 14ms/step - loss: 0.0692 - accuracy: 0.4365 - val_loss: 0.0719 - val_accuracy: 0.4184\n",
      "Epoch 9/20\n",
      "397/397 [==============================] - 6s 14ms/step - loss: 0.0688 - accuracy: 0.4386 - val_loss: 0.0712 - val_accuracy: 0.4236\n",
      "Epoch 10/20\n",
      "397/397 [==============================] - 5s 13ms/step - loss: 0.0683 - accuracy: 0.4428 - val_loss: 0.0699 - val_accuracy: 0.4253\n",
      "Epoch 11/20\n",
      "397/397 [==============================] - 5s 14ms/step - loss: 0.0679 - accuracy: 0.4446 - val_loss: 0.0707 - val_accuracy: 0.4240\n",
      "Epoch 12/20\n",
      "397/397 [==============================] - 6s 15ms/step - loss: 0.0680 - accuracy: 0.4478 - val_loss: 0.0712 - val_accuracy: 0.4233\n",
      "Epoch 13/20\n",
      "397/397 [==============================] - 5s 13ms/step - loss: 0.0675 - accuracy: 0.4480 - val_loss: 0.0704 - val_accuracy: 0.4221\n",
      "Epoch 14/20\n",
      "397/397 [==============================] - 5s 13ms/step - loss: 0.0676 - accuracy: 0.4523 - val_loss: 0.0702 - val_accuracy: 0.4255\n",
      "Epoch 15/20\n",
      "397/397 [==============================] - 5s 13ms/step - loss: 0.0672 - accuracy: 0.4538 - val_loss: 0.0718 - val_accuracy: 0.4240\n",
      "Epoch 16/20\n",
      "397/397 [==============================] - 5s 13ms/step - loss: 0.0670 - accuracy: 0.4550 - val_loss: 0.0707 - val_accuracy: 0.4264\n",
      "Epoch 17/20\n",
      "397/397 [==============================] - 5s 13ms/step - loss: 0.0667 - accuracy: 0.4555 - val_loss: 0.0704 - val_accuracy: 0.4243\n",
      "Epoch 18/20\n",
      "397/397 [==============================] - 5s 13ms/step - loss: 0.0667 - accuracy: 0.4553 - val_loss: 0.0695 - val_accuracy: 0.4300\n",
      "Epoch 19/20\n",
      "397/397 [==============================] - 5s 14ms/step - loss: 0.0659 - accuracy: 0.4562 - val_loss: 0.0701 - val_accuracy: 0.4325\n",
      "Epoch 20/20\n",
      "397/397 [==============================] - 5s 13ms/step - loss: 0.0661 - accuracy: 0.4589 - val_loss: 0.0695 - val_accuracy: 0.4280\n"
     ]
    }
   ],
   "source": [
    "history_4 = model_4.fit(\n",
    "    X_train_vect,\n",
    "    y_train_vect,\n",
    "    validation_data=(X_val_vect, y_val_vect),\n",
    "    epochs=20,\n",
    "    batch_size=128\n",
    ")"
   ]
  },
  {
   "cell_type": "markdown",
   "id": "565eb618",
   "metadata": {
    "id": "565eb618"
   },
   "source": [
    "Выведение на экран графиков функции потерь и метрики модели на обучающей и валидационной выборках:"
   ]
  },
  {
   "cell_type": "code",
   "execution_count": 50,
   "id": "07f16627",
   "metadata": {
    "id": "07f16627"
   },
   "outputs": [
    {
     "data": {
      "image/png": "[encoded data removed]",
      "text/plain": [
       "<Figure size 1200x400 with 2 Axes>"
      ]
     },
     "metadata": {},
     "output_type": "display_data"
    }
   ],
   "source": [
    "plot_history(history_4, 'accuracy')"
   ]
  },
  {
   "cell_type": "markdown",
   "id": "e020db66",
   "metadata": {},
   "source": [
    "Сохранение результатов обучения модели:"
   ]
  },
  {
   "cell_type": "code",
   "execution_count": 51,
   "id": "d5a85e18",
   "metadata": {},
   "outputs": [
    {
     "name": "stdout",
     "output_type": "stream",
     "text": [
      "Score: 0.43\n"
     ]
    }
   ],
   "source": [
    "save_values(\n",
    "    'model_4', \n",
    "    model=None, \n",
    "    params=None, \n",
    "    score=round(max(history_4.history['val_accuracy']), 2), \n",
    "    mean_time=0.0, \n",
    "    save_to=results,\n",
    "    show_table=False\n",
    ")"
   ]
  },
  {
   "cell_type": "markdown",
   "id": "57b1eef2",
   "metadata": {
    "id": "57b1eef2"
   },
   "source": [
    "Выведение на экран сравнения предсказаний с целевыми значениями:"
   ]
  },
  {
   "cell_type": "code",
   "execution_count": 52,
   "id": "3c2fc6b3",
   "metadata": {
    "id": "3c2fc6b3"
   },
   "outputs": [
    {
     "name": "stdout",
     "output_type": "stream",
     "text": [
      "1/1 [==============================] - 0s 144ms/step\n"
     ]
    },
    {
     "data": {
      "text/html": [
       "<div>\n",
       "<style scoped>\n",
       "    .dataframe tbody tr th:only-of-type {\n",
       "        vertical-align: middle;\n",
       "    }\n",
       "\n",
       "    .dataframe tbody tr th {\n",
       "        vertical-align: top;\n",
       "    }\n",
       "\n",
       "    .dataframe thead th {\n",
       "        text-align: right;\n",
       "    }\n",
       "</style>\n",
       "<table border=\"1\" class=\"dataframe\">\n",
       "  <thead>\n",
       "    <tr style=\"text-align: right;\">\n",
       "      <th></th>\n",
       "      <th>name</th>\n",
       "      <th>prediction</th>\n",
       "      <th>true</th>\n",
       "    </tr>\n",
       "  </thead>\n",
       "  <tbody>\n",
       "    <tr>\n",
       "      <th>0</th>\n",
       "      <td>chilli sauce rice cake</td>\n",
       "      <td>[()]</td>\n",
       "      <td>[(korean,)]</td>\n",
       "    </tr>\n",
       "    <tr>\n",
       "      <th>1</th>\n",
       "      <td>seafood spring onion pancake</td>\n",
       "      <td>[()]</td>\n",
       "      <td>[(korean,)]</td>\n",
       "    </tr>\n",
       "    <tr>\n",
       "      <th>2</th>\n",
       "      <td>ginger lessi smoothie</td>\n",
       "      <td>[()]</td>\n",
       "      <td>[(turkish,)]</td>\n",
       "    </tr>\n",
       "    <tr>\n",
       "      <th>3</th>\n",
       "      <td>bakkwa spring roll</td>\n",
       "      <td>[(chinese,)]</td>\n",
       "      <td>[(chinese,)]</td>\n",
       "    </tr>\n",
       "    <tr>\n",
       "      <th>4</th>\n",
       "      <td>matcha milk tea large</td>\n",
       "      <td>[(bubble tea,)]</td>\n",
       "      <td>[(bubble tea,)]</td>\n",
       "    </tr>\n",
       "  </tbody>\n",
       "</table>\n",
       "</div>"
      ],
      "text/plain": [
       "                           name       prediction             true\n",
       "0        chilli sauce rice cake             [()]      [(korean,)]\n",
       "1  seafood spring onion pancake             [()]      [(korean,)]\n",
       "2         ginger lessi smoothie             [()]     [(turkish,)]\n",
       "3            bakkwa spring roll     [(chinese,)]     [(chinese,)]\n",
       "4         matcha milk tea large  [(bubble tea,)]  [(bubble tea,)]"
      ]
     },
     "metadata": {},
     "output_type": "display_data"
    }
   ],
   "source": [
    "compare_pred_true(\n",
    "    X=X_val,\n",
    "    y=y_val,\n",
    "    preds=transform_probs_to_labels(model_4.predict(X_val_vect_2))\n",
    ")"
   ]
  },
  {
   "cell_type": "markdown",
   "id": "13f75e55",
   "metadata": {},
   "source": [
    "---"
   ]
  },
  {
   "cell_type": "markdown",
   "id": "6ad40500",
   "metadata": {
    "id": "6ad40500"
   },
   "source": [
    "### 2.3 Выбор модели"
   ]
  },
  {
   "cell_type": "markdown",
   "id": "fd870d2c",
   "metadata": {
    "id": "fd870d2c"
   },
   "source": [
    "Выведение на экран таблицы с результатами метрик:"
   ]
  },
  {
   "cell_type": "code",
   "execution_count": 53,
   "id": "b12bd855",
   "metadata": {
    "id": "b12bd855"
   },
   "outputs": [
    {
     "data": {
      "text/html": [
       "<div>\n",
       "<style scoped>\n",
       "    .dataframe tbody tr th:only-of-type {\n",
       "        vertical-align: middle;\n",
       "    }\n",
       "\n",
       "    .dataframe tbody tr th {\n",
       "        vertical-align: top;\n",
       "    }\n",
       "\n",
       "    .dataframe thead th {\n",
       "        text-align: right;\n",
       "    }\n",
       "</style>\n",
       "<table border=\"1\" class=\"dataframe\">\n",
       "  <thead>\n",
       "    <tr style=\"text-align: right;\">\n",
       "      <th></th>\n",
       "      <th>score</th>\n",
       "    </tr>\n",
       "  </thead>\n",
       "  <tbody>\n",
       "    <tr>\n",
       "      <th>mlp_class</th>\n",
       "      <td>0.90</td>\n",
       "    </tr>\n",
       "    <tr>\n",
       "      <th>model_4</th>\n",
       "      <td>0.43</td>\n",
       "    </tr>\n",
       "    <tr>\n",
       "      <th>kn_class</th>\n",
       "      <td>0.41</td>\n",
       "    </tr>\n",
       "    <tr>\n",
       "      <th>log_reg</th>\n",
       "      <td>0.23</td>\n",
       "    </tr>\n",
       "  </tbody>\n",
       "</table>\n",
       "</div>"
      ],
      "text/plain": [
       "           score\n",
       "mlp_class   0.90\n",
       "model_4     0.43\n",
       "kn_class    0.41\n",
       "log_reg     0.23"
      ]
     },
     "execution_count": 53,
     "metadata": {},
     "output_type": "execute_result"
    }
   ],
   "source": [
    "results[['score']].sort_values(by='score', ascending=False)"
   ]
  },
  {
   "cell_type": "markdown",
   "id": "4ab05d49",
   "metadata": {
    "id": "4ab05d49"
   },
   "source": [
    ">**Вывод**\n",
    ">\n",
    ">* Лучший показатель был достигнут моделью MLPClassifier."
   ]
  },
  {
   "cell_type": "markdown",
   "id": "fdd87408",
   "metadata": {
    "id": "fdd87408"
   },
   "source": [
    "---"
   ]
  },
  {
   "cell_type": "markdown",
   "id": "5491afb6",
   "metadata": {
    "id": "5491afb6"
   },
   "source": [
    "## 3 Тестирование модели"
   ]
  },
  {
   "cell_type": "markdown",
   "id": "e2556b20",
   "metadata": {
    "id": "e2556b20"
   },
   "source": [
    "Задание лучшей модели:"
   ]
  },
  {
   "cell_type": "code",
   "execution_count": 54,
   "id": "b7809bd1",
   "metadata": {
    "id": "b7809bd1"
   },
   "outputs": [],
   "source": [
    "best_model = results.loc['mlp_class', 'model']"
   ]
  },
  {
   "cell_type": "markdown",
   "id": "cabac740",
   "metadata": {
    "id": "cabac740"
   },
   "source": [
    "Получение предсказаний:"
   ]
  },
  {
   "cell_type": "code",
   "execution_count": 55,
   "id": "70d6c053",
   "metadata": {
    "id": "70d6c053"
   },
   "outputs": [],
   "source": [
    "preds = best_model.predict(X_test)"
   ]
  },
  {
   "cell_type": "markdown",
   "id": "93f2dc24",
   "metadata": {
    "id": "93f2dc24"
   },
   "source": [
    "Выведение на экран значения метрики на тестовых данных:"
   ]
  },
  {
   "cell_type": "code",
   "execution_count": 56,
   "id": "6a8c90be",
   "metadata": {
    "id": "6a8c90be"
   },
   "outputs": [
    {
     "name": "stdout",
     "output_type": "stream",
     "text": [
      "Score: 0.76\n"
     ]
    }
   ],
   "source": [
    "print('Score:', round(best_model.score(X_test, y_test), 2))"
   ]
  },
  {
   "cell_type": "markdown",
   "id": "b9003ecf",
   "metadata": {
    "id": "b9003ecf"
   },
   "source": [
    "Выведение на экран сравнения предсказаний с целевыми значениями:"
   ]
  },
  {
   "cell_type": "code",
   "execution_count": 57,
   "id": "2c66925c",
   "metadata": {
    "id": "2c66925c"
   },
   "outputs": [
    {
     "data": {
      "text/html": [
       "<div>\n",
       "<style scoped>\n",
       "    .dataframe tbody tr th:only-of-type {\n",
       "        vertical-align: middle;\n",
       "    }\n",
       "\n",
       "    .dataframe tbody tr th {\n",
       "        vertical-align: top;\n",
       "    }\n",
       "\n",
       "    .dataframe thead th {\n",
       "        text-align: right;\n",
       "    }\n",
       "</style>\n",
       "<table border=\"1\" class=\"dataframe\">\n",
       "  <thead>\n",
       "    <tr style=\"text-align: right;\">\n",
       "      <th></th>\n",
       "      <th>name</th>\n",
       "      <th>prediction</th>\n",
       "      <th>true</th>\n",
       "    </tr>\n",
       "  </thead>\n",
       "  <tbody>\n",
       "    <tr>\n",
       "      <th>0</th>\n",
       "      <td>japanese garlic karaage don</td>\n",
       "      <td>[(ramen,)]</td>\n",
       "      <td>[(ramen,)]</td>\n",
       "    </tr>\n",
       "    <tr>\n",
       "      <th>1</th>\n",
       "      <td>chicken cutlet don</td>\n",
       "      <td>[(ramen,)]</td>\n",
       "      <td>[(ramen,)]</td>\n",
       "    </tr>\n",
       "    <tr>\n",
       "      <th>2</th>\n",
       "      <td>beef sukiyaki don</td>\n",
       "      <td>[(japanese, ramen)]</td>\n",
       "      <td>[(ramen,)]</td>\n",
       "    </tr>\n",
       "    <tr>\n",
       "      <th>3</th>\n",
       "      <td>japanese beef yakiniku don</td>\n",
       "      <td>[(ramen,)]</td>\n",
       "      <td>[(ramen,)]</td>\n",
       "    </tr>\n",
       "    <tr>\n",
       "      <th>4</th>\n",
       "      <td>teriyaki salmon don</td>\n",
       "      <td>[(japanese, ramen, seafood)]</td>\n",
       "      <td>[(japanese, ramen, seafood)]</td>\n",
       "    </tr>\n",
       "  </tbody>\n",
       "</table>\n",
       "</div>"
      ],
      "text/plain": [
       "                          name                    prediction  \\\n",
       "0  japanese garlic karaage don                    [(ramen,)]   \n",
       "1           chicken cutlet don                    [(ramen,)]   \n",
       "2            beef sukiyaki don           [(japanese, ramen)]   \n",
       "3   japanese beef yakiniku don                    [(ramen,)]   \n",
       "4          teriyaki salmon don  [(japanese, ramen, seafood)]   \n",
       "\n",
       "                           true  \n",
       "0                    [(ramen,)]  \n",
       "1                    [(ramen,)]  \n",
       "2                    [(ramen,)]  \n",
       "3                    [(ramen,)]  \n",
       "4  [(japanese, ramen, seafood)]  "
      ]
     },
     "metadata": {},
     "output_type": "display_data"
    }
   ],
   "source": [
    "compare_pred_true(X_test, y_test, preds)"
   ]
  },
  {
   "cell_type": "markdown",
   "id": "469429cc",
   "metadata": {
    "id": "469429cc"
   },
   "source": [
    ">**Вывод**\n",
    ">\n",
    ">* Модель достигла заданного порога точности в 0.6."
   ]
  },
  {
   "cell_type": "markdown",
   "id": "d0a663c4",
   "metadata": {
    "id": "d0a663c4"
   },
   "source": [
    "---"
   ]
  },
  {
   "cell_type": "markdown",
   "id": "4ce79af4",
   "metadata": {
    "id": "4ce79af4"
   },
   "source": [
    "## 4 Экспорт модели"
   ]
  },
  {
   "cell_type": "markdown",
   "id": "15df0402",
   "metadata": {
    "id": "15df0402"
   },
   "source": [
    "Задание путей до файлов:"
   ]
  },
  {
   "cell_type": "code",
   "execution_count": 58,
   "id": "d9a17aaf",
   "metadata": {
    "id": "d9a17aaf"
   },
   "outputs": [],
   "source": [
    "PATH_WEB = 'webapp/model/'\n",
    "\n",
    "join_path = lambda x: os.path.join(PATH_WEB, x)\n",
    "\n",
    "path_multilabel = join_path('multilabel.pkl')\n",
    "path_model = join_path('model.h5')\n",
    "path_vectorizer = join_path('vectorizer.pkl')"
   ]
  },
  {
   "cell_type": "markdown",
   "id": "3621cb38",
   "metadata": {},
   "source": [
    "Задание типа модели:"
   ]
  },
  {
   "cell_type": "code",
   "execution_count": 59,
   "id": "83147de7",
   "metadata": {},
   "outputs": [],
   "source": [
    "model_type = 'ml'"
   ]
  },
  {
   "cell_type": "markdown",
   "id": "32e9aa81",
   "metadata": {
    "id": "32e9aa81"
   },
   "source": [
    "---"
   ]
  },
  {
   "cell_type": "markdown",
   "id": "16ffb83a",
   "metadata": {
    "id": "16ffb83a"
   },
   "source": [
    "Сохранение и загрузка объекта кодирования:"
   ]
  },
  {
   "cell_type": "code",
   "execution_count": 60,
   "id": "e4930113",
   "metadata": {
    "id": "e4930113"
   },
   "outputs": [],
   "source": [
    "# save\n",
    "pickle.dump(multilabel, open(path_multilabel, 'wb'))\n",
    "\n",
    "# load\n",
    "multilabel_loaded = pickle.load(open(path_multilabel, 'rb'))"
   ]
  },
  {
   "cell_type": "markdown",
   "id": "82d4f1db",
   "metadata": {
    "id": "82d4f1db"
   },
   "source": [
    "Сохранение и загрузка объекта кодирования:"
   ]
  },
  {
   "cell_type": "code",
   "execution_count": 61,
   "id": "5841d2ae",
   "metadata": {
    "id": "5841d2ae"
   },
   "outputs": [],
   "source": [
    "if model_type == 'dl':\n",
    "    # save\n",
    "    best_model.save(path_model)\n",
    "    # load\n",
    "    model_loaded = load_model(path_model)\n",
    "    \n",
    "else:\n",
    "    # save\n",
    "    joblib.dump(best_model, path_model)\n",
    "    # load\n",
    "    model_loaded = joblib.load(path_model)"
   ]
  },
  {
   "cell_type": "markdown",
   "id": "d41a8980",
   "metadata": {
    "id": "d41a8980"
   },
   "source": [
    "Сохранение векторизатора:"
   ]
  },
  {
   "cell_type": "code",
   "execution_count": 62,
   "id": "4389e678",
   "metadata": {
    "id": "4389e678"
   },
   "outputs": [],
   "source": [
    "if model_type == 'dl':\n",
    "    pickle.dump(\n",
    "        {\n",
    "            'config': vectorizer_text_tfidf.get_config(),\n",
    "            'weights': vectorizer_text_tfidf.get_weights()\n",
    "        },\n",
    "        open(path_vectorizer, 'wb')\n",
    "    )\n",
    "    \n",
    "    vectorizer_file = pickle.load(open(path_vectorizer, 'rb'))\n",
    "    \n",
    "    vectorizer_loaded = layers.TextVectorization.from_config(vectorizer_file['config'])"
   ]
  },
  {
   "cell_type": "markdown",
   "id": "2ece6349",
   "metadata": {
    "id": "2ece6349"
   },
   "source": [
    "---"
   ]
  },
  {
   "cell_type": "markdown",
   "id": "d5f16607",
   "metadata": {
    "id": "d5f16607"
   },
   "source": [
    "Задание тестового значения:"
   ]
  },
  {
   "cell_type": "code",
   "execution_count": 63,
   "id": "7ffcc8b3",
   "metadata": {
    "id": "7ffcc8b3"
   },
   "outputs": [],
   "source": [
    "test_data = 'teriyaki salmon don'"
   ]
  },
  {
   "cell_type": "markdown",
   "id": "91906022",
   "metadata": {
    "id": "91906022"
   },
   "source": [
    "Настройка векторизатора:"
   ]
  },
  {
   "cell_type": "code",
   "execution_count": 64,
   "id": "384eec34",
   "metadata": {
    "id": "384eec34"
   },
   "outputs": [],
   "source": [
    "if model_type == 'dl':\n",
    "    vectorizer_loaded.adapt([test_data])\n",
    "    vectorizer_loaded.set_weights(vectorizer_file['weights'])\n",
    "    vectorizer_loaded([test_data])"
   ]
  },
  {
   "cell_type": "markdown",
   "id": "7f832436",
   "metadata": {
    "id": "7f832436"
   },
   "source": [
    "Получение предсказаний:"
   ]
  },
  {
   "cell_type": "code",
   "execution_count": 65,
   "id": "08817fb8",
   "metadata": {
    "id": "08817fb8"
   },
   "outputs": [],
   "source": [
    "if model_type == 'dl':\n",
    "    preds = transform_probs_to_labels(\n",
    "        model_loaded.predict(\n",
    "            vectorizer_loaded([test_data])\n",
    "        )\n",
    "    )\n",
    "        \n",
    "else:\n",
    "    preds = model_loaded.predict([test_data])"
   ]
  },
  {
   "cell_type": "markdown",
   "id": "40a4775f",
   "metadata": {},
   "source": [
    "Перевод значений в текст:"
   ]
  },
  {
   "cell_type": "code",
   "execution_count": 66,
   "id": "5dd3b3b9",
   "metadata": {},
   "outputs": [
    {
     "data": {
      "text/plain": [
       "[('japanese', 'ramen', 'seafood')]"
      ]
     },
     "execution_count": 66,
     "metadata": {},
     "output_type": "execute_result"
    }
   ],
   "source": [
    "transform_label(*preds, multilabel_loaded)"
   ]
  },
  {
   "cell_type": "markdown",
   "id": "5ed591fc",
   "metadata": {
    "id": "5ed591fc"
   },
   "source": [
    ">**Вывод**\n",
    ">\n",
    ">* Модель и кодировщик со словарём были экспортированы для использования при деплое проекта."
   ]
  },
  {
   "cell_type": "markdown",
   "id": "b669d10f",
   "metadata": {
    "id": "b669d10f"
   },
   "source": [
    "---"
   ]
  },
  {
   "cell_type": "markdown",
   "id": "800bd38b",
   "metadata": {
    "id": "800bd38b"
   },
   "source": [
    "## 5 Общий вывод"
   ]
  },
  {
   "cell_type": "markdown",
   "id": "d782737a",
   "metadata": {
    "id": "d782737a"
   },
   "source": [
    "В ходе построения модели машинного обучения был произведён ряд экспериментов с Baseline и FCNN моделями, среди которых лучше всего продемонстрировали себя последние, поскольку они способны выстраивать более сложные связи при обработке признаков.\n",
    "\n",
    "В качестве модели для получения предсказаний переданного пользователем наименования блюда была выбрана"
   ]
  },
  {
   "cell_type": "markdown",
   "id": "a2662918",
   "metadata": {
    "id": "a2662918"
   },
   "source": [
    "<div style=\"text-align: center; font-size: 20px; padding: 15px 0;\">\n",
    "    <a href=\"#Содержание\" data-toc-modified-id=\"Содержание\" style=\"text-decoration: none; color: #296eaa; border: 2px dashed #296eaa; opacity: 0.8; border-radius: 3px; padding: 10px 80px;\">\n",
    "        В начало файла ↑\n",
    "    </a>\n",
    "</div>"
   ]
  }
 ],
 "metadata": {
  "accelerator": "GPU",
  "colab": {
   "gpuType": "T4",
   "provenance": []
  },
  "kernelspec": {
   "display_name": "Python 3 (ipykernel)",
   "language": "python",
   "name": "python3"
  },
  "language_info": {
   "codemirror_mode": {
    "name": "ipython",
    "version": 3
   },
   "file_extension": ".py",
   "mimetype": "text/x-python",
   "name": "python",
   "nbconvert_exporter": "python",
   "pygments_lexer": "ipython3",
   "version": "3.10.11"
  }
 },
 "nbformat": 4,
 "nbformat_minor": 5
}
