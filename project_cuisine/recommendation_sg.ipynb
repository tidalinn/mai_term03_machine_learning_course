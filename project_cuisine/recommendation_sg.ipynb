{
 "cells": [
  {
   "cell_type": "markdown",
   "id": "0c33d5cd",
   "metadata": {},
   "source": [
    "# Содержание"
   ]
  },
  {
   "cell_type": "markdown",
   "id": "cfbe1836",
   "metadata": {},
   "source": [
    "* [1 Загрузка данных](#1-Загрузка-данных)\n",
    "* [2 Формирование таблицы рейтинга](#2-Формирование-таблицы-рейтинга)\n",
    "* [3 Построение рекомендательной системы](#3-Построение-рекомендательной-системы)\n",
    "* [4 Общий вывод](#4-Общий-вывод)"
   ]
  },
  {
   "cell_type": "markdown",
   "id": "453f821b",
   "metadata": {},
   "source": [
    "---"
   ]
  },
  {
   "cell_type": "markdown",
   "id": "a63aa04c",
   "metadata": {},
   "source": [
    "# Этап 3. Рекомендательная система"
   ]
  },
  {
   "cell_type": "markdown",
   "id": "32a7daab",
   "metadata": {},
   "source": [
    "**Задача:** Формирование системы рекомендаций.\n",
    "\n",
    "**Источник данных:** `data/preprocessed_data/data_train.csv`, `data/preprocessed_data/data_test.csv`.\n",
    "\n",
    "**Характер данных:** проанализированные данные о заказах в Сингапуре."
   ]
  },
  {
   "cell_type": "markdown",
   "id": "1e074647",
   "metadata": {},
   "source": [
    "---"
   ]
  },
  {
   "cell_type": "markdown",
   "id": "eb7293db",
   "metadata": {},
   "source": [
    "## 1 Загрузка данных"
   ]
  },
  {
   "cell_type": "markdown",
   "id": "a415de44",
   "metadata": {},
   "source": [
    "Установка библиотек:"
   ]
  },
  {
   "cell_type": "code",
   "execution_count": 1,
   "id": "9f36cb9d",
   "metadata": {},
   "outputs": [],
   "source": [
    "%%capture no-display\n",
    "!pip install geopy geohash2"
   ]
  },
  {
   "cell_type": "markdown",
   "id": "94c4d842",
   "metadata": {},
   "source": [
    "Импорт библиотек:"
   ]
  },
  {
   "cell_type": "code",
   "execution_count": 2,
   "id": "ca945548",
   "metadata": {},
   "outputs": [],
   "source": [
    "import numpy as np\n",
    "import pandas as pd\n",
    "\n",
    "import os\n",
    "import re\n",
    "\n",
    "from typing import Tuple, List\n",
    "from datetime import datetime\n",
    "\n",
    "import requests\n",
    "import geohash2\n",
    "\n",
    "from geopy.distance import geodesic\n",
    "\n",
    "import pickle\n",
    "\n",
    "from tensorflow.keras.models import load_model\n",
    "from tensorflow.keras.layers import TextVectorization"
   ]
  },
  {
   "cell_type": "markdown",
   "id": "cc611864",
   "metadata": {},
   "source": [
    "---"
   ]
  },
  {
   "cell_type": "markdown",
   "id": "4bf1abee",
   "metadata": {},
   "source": [
    "Задание пути до папки с данными:"
   ]
  },
  {
   "cell_type": "code",
   "execution_count": 3,
   "id": "f4d55e3e",
   "metadata": {},
   "outputs": [],
   "source": [
    "PATH = 'data/preprocessed_data/'"
   ]
  },
  {
   "cell_type": "markdown",
   "id": "eda42d9f",
   "metadata": {},
   "source": [
    "Выведение на экран содержимого папки с данными:"
   ]
  },
  {
   "cell_type": "code",
   "execution_count": 4,
   "id": "4c707569",
   "metadata": {},
   "outputs": [
    {
     "data": {
      "text/plain": [
       "['data_test.csv',\n",
       " 'data_test_cuisine.csv',\n",
       " 'data_train.csv',\n",
       " 'data_train_cuisine.csv']"
      ]
     },
     "execution_count": 4,
     "metadata": {},
     "output_type": "execute_result"
    }
   ],
   "source": [
    "os.listdir(PATH)"
   ]
  },
  {
   "cell_type": "markdown",
   "id": "40b91681",
   "metadata": {},
   "source": [
    "Загрузка наборов данных:"
   ]
  },
  {
   "cell_type": "code",
   "execution_count": 5,
   "id": "4b0234d0",
   "metadata": {},
   "outputs": [],
   "source": [
    "join_path = lambda x: os.path.join(PATH, x)\n",
    "\n",
    "data_train = pd.read_csv(join_path('data_train.csv'), index_col=0)\n",
    "data_test = pd.read_csv(join_path('data_test.csv'), index_col=0)"
   ]
  },
  {
   "cell_type": "markdown",
   "id": "78d61110",
   "metadata": {},
   "source": [
    ">* Поскольку модель обучена на обучающей выборке и протестирована на тестовой, в задаче построения рекомендательной системы эти данные можно объединить."
   ]
  },
  {
   "cell_type": "markdown",
   "id": "8f17a770",
   "metadata": {},
   "source": [
    "Объединение данных:"
   ]
  },
  {
   "cell_type": "code",
   "execution_count": 6,
   "id": "2e88646a",
   "metadata": {},
   "outputs": [],
   "source": [
    "data = pd.concat([data_train, data_test]).reset_index(drop=True)"
   ]
  },
  {
   "cell_type": "markdown",
   "id": "56647490",
   "metadata": {},
   "source": [
    "Выведение на экран первых строк набора данных:"
   ]
  },
  {
   "cell_type": "code",
   "execution_count": 7,
   "id": "6b0144d4",
   "metadata": {},
   "outputs": [
    {
     "data": {
      "text/html": [
       "<div>\n",
       "<style scoped>\n",
       "    .dataframe tbody tr th:only-of-type {\n",
       "        vertical-align: middle;\n",
       "    }\n",
       "\n",
       "    .dataframe tbody tr th {\n",
       "        vertical-align: top;\n",
       "    }\n",
       "\n",
       "    .dataframe thead th {\n",
       "        text-align: right;\n",
       "    }\n",
       "</style>\n",
       "<table border=\"1\" class=\"dataframe\">\n",
       "  <thead>\n",
       "    <tr style=\"text-align: right;\">\n",
       "      <th></th>\n",
       "      <th>name</th>\n",
       "      <th>vendor_lat_lon</th>\n",
       "      <th>hour</th>\n",
       "      <th>time_of_day</th>\n",
       "      <th>primary_cuisine</th>\n",
       "    </tr>\n",
       "  </thead>\n",
       "  <tbody>\n",
       "    <tr>\n",
       "      <th>0</th>\n",
       "      <td>chicken cutlet with rice</td>\n",
       "      <td>(1.3, 104.0)</td>\n",
       "      <td>19</td>\n",
       "      <td>evening</td>\n",
       "      <td>western</td>\n",
       "    </tr>\n",
       "    <tr>\n",
       "      <th>1</th>\n",
       "      <td>chicken cutlet with rice</td>\n",
       "      <td>(1.3, 104.0)</td>\n",
       "      <td>18</td>\n",
       "      <td>evening</td>\n",
       "      <td>western</td>\n",
       "    </tr>\n",
       "    <tr>\n",
       "      <th>2</th>\n",
       "      <td>chicken chop</td>\n",
       "      <td>(1.3, 104.0)</td>\n",
       "      <td>19</td>\n",
       "      <td>evening</td>\n",
       "      <td>western</td>\n",
       "    </tr>\n",
       "  </tbody>\n",
       "</table>\n",
       "</div>"
      ],
      "text/plain": [
       "                       name vendor_lat_lon  hour time_of_day primary_cuisine\n",
       "0  chicken cutlet with rice   (1.3, 104.0)    19     evening         western\n",
       "1  chicken cutlet with rice   (1.3, 104.0)    18     evening         western\n",
       "2              chicken chop   (1.3, 104.0)    19     evening         western"
      ]
     },
     "metadata": {},
     "output_type": "display_data"
    },
    {
     "name": "stdout",
     "output_type": "stream",
     "text": [
      "Data shape: (1162920, 5)\n"
     ]
    }
   ],
   "source": [
    "display(data.head(3))\n",
    "\n",
    "print('Data shape:', data.shape)"
   ]
  },
  {
   "cell_type": "markdown",
   "id": "daf0c5f8",
   "metadata": {},
   "source": [
    ">**Вывод**\n",
    ">\n",
    ">* Поскольку при загрузке данных значения типа `object` преобразовываются к строке, необходимо преобразовать их значения к числовому формату."
   ]
  },
  {
   "cell_type": "markdown",
   "id": "ff4e05e9",
   "metadata": {},
   "source": [
    "---"
   ]
  },
  {
   "cell_type": "markdown",
   "id": "c7503b33",
   "metadata": {},
   "source": [
    "## 2 Формирование таблицы рейтинга"
   ]
  },
  {
   "cell_type": "markdown",
   "id": "6875e184",
   "metadata": {},
   "source": [
    "Задание функции, преобразующей тип значений координат:"
   ]
  },
  {
   "cell_type": "code",
   "execution_count": 8,
   "id": "db7c09d3",
   "metadata": {},
   "outputs": [],
   "source": [
    "def decode_hash(code: str) -> Tuple[float]:\n",
    "    '''Decode geo hash to latitude and longitude.\n",
    "    \n",
    "    Args:\n",
    "      - code (str) - hash code\n",
    "    '''\n",
    "    code = re.sub('[,\\(\\)]', '', code).split()\n",
    "    \n",
    "    return (float(code[0]), float(code[1]))"
   ]
  },
  {
   "cell_type": "markdown",
   "id": "40e03b71",
   "metadata": {},
   "source": [
    "---"
   ]
  },
  {
   "cell_type": "markdown",
   "id": "1a0582fd",
   "metadata": {},
   "source": [
    "Преобразование типа значений координат:"
   ]
  },
  {
   "cell_type": "code",
   "execution_count": 9,
   "id": "4889c8b6",
   "metadata": {},
   "outputs": [],
   "source": [
    "data['vendor_lat_lon'] = data['vendor_lat_lon'].apply(decode_hash)"
   ]
  },
  {
   "cell_type": "markdown",
   "id": "7f400e1d",
   "metadata": {},
   "source": [
    ">* Для формирования рейтинга ресторанов необходимо произвести группировку значений набора данных по следующим столбцам: `primary_cuisine`, `name`, `time_of_day`, `vendor_lat_lon` и отсортировать значения по уменьшению числа заказов."
   ]
  },
  {
   "cell_type": "markdown",
   "id": "151ed36a",
   "metadata": {},
   "source": [
    "Группировка данных:"
   ]
  },
  {
   "cell_type": "code",
   "execution_count": 10,
   "id": "2cfebc3e",
   "metadata": {},
   "outputs": [],
   "source": [
    "data_count_rating = pd.DataFrame(\n",
    "    data.groupby(\n",
    "        ['primary_cuisine', 'name', 'time_of_day', 'vendor_lat_lon']\n",
    "    )['primary_cuisine'].value_counts()\n",
    ").sort_values(\n",
    "    by='count', \n",
    "    ascending=False\n",
    ").reset_index()"
   ]
  },
  {
   "cell_type": "markdown",
   "id": "a7e7571c",
   "metadata": {},
   "source": [
    "Выведение на экран первых строк набора данных для проверки применённых изменений:"
   ]
  },
  {
   "cell_type": "code",
   "execution_count": 11,
   "id": "96d39e14",
   "metadata": {},
   "outputs": [
    {
     "data": {
      "text/html": [
       "<div>\n",
       "<style scoped>\n",
       "    .dataframe tbody tr th:only-of-type {\n",
       "        vertical-align: middle;\n",
       "    }\n",
       "\n",
       "    .dataframe tbody tr th {\n",
       "        vertical-align: top;\n",
       "    }\n",
       "\n",
       "    .dataframe thead th {\n",
       "        text-align: right;\n",
       "    }\n",
       "</style>\n",
       "<table border=\"1\" class=\"dataframe\">\n",
       "  <thead>\n",
       "    <tr style=\"text-align: right;\">\n",
       "      <th></th>\n",
       "      <th>primary_cuisine</th>\n",
       "      <th>name</th>\n",
       "      <th>time_of_day</th>\n",
       "      <th>vendor_lat_lon</th>\n",
       "      <th>count</th>\n",
       "    </tr>\n",
       "  </thead>\n",
       "  <tbody>\n",
       "    <tr>\n",
       "      <th>0</th>\n",
       "      <td>chinese</td>\n",
       "      <td>minced meat tofu rice</td>\n",
       "      <td>evening</td>\n",
       "      <td>(1.4, 103.8)</td>\n",
       "      <td>16</td>\n",
       "    </tr>\n",
       "    <tr>\n",
       "      <th>1</th>\n",
       "      <td>mala xiang guo</td>\n",
       "      <td>taiwan sausage</td>\n",
       "      <td>evening</td>\n",
       "      <td>(1.5, 103.8)</td>\n",
       "      <td>16</td>\n",
       "    </tr>\n",
       "    <tr>\n",
       "      <th>2</th>\n",
       "      <td>american</td>\n",
       "      <td>chocolate pie</td>\n",
       "      <td>evening</td>\n",
       "      <td>(1.4, 103.9)</td>\n",
       "      <td>16</td>\n",
       "    </tr>\n",
       "  </tbody>\n",
       "</table>\n",
       "</div>"
      ],
      "text/plain": [
       "  primary_cuisine                   name time_of_day vendor_lat_lon  count\n",
       "0         chinese  minced meat tofu rice     evening   (1.4, 103.8)     16\n",
       "1  mala xiang guo         taiwan sausage     evening   (1.5, 103.8)     16\n",
       "2        american          chocolate pie     evening   (1.4, 103.9)     16"
      ]
     },
     "execution_count": 11,
     "metadata": {},
     "output_type": "execute_result"
    }
   ],
   "source": [
    "data_count_rating.head(3)"
   ]
  },
  {
   "cell_type": "markdown",
   "id": "1a62b398",
   "metadata": {},
   "source": [
    ">* Для сохранения значений координат в удобном для загрузки виде необходимо разделить их на два отдельных столбца: широту и долготу."
   ]
  },
  {
   "cell_type": "markdown",
   "id": "5819c530",
   "metadata": {},
   "source": [
    "Разъединение координат на широту и долготу:"
   ]
  },
  {
   "cell_type": "code",
   "execution_count": 12,
   "id": "ca6bd22d",
   "metadata": {},
   "outputs": [],
   "source": [
    "data_count_rating = data_count_rating.assign(\n",
    "    **pd.DataFrame(\n",
    "        data_count_rating['vendor_lat_lon'].tolist(), \n",
    "        columns=['vendor_lat','vendor_lon']\n",
    "    )\n",
    ")"
   ]
  },
  {
   "cell_type": "markdown",
   "id": "5cbcac0f",
   "metadata": {},
   "source": [
    "Удаление столбца:"
   ]
  },
  {
   "cell_type": "code",
   "execution_count": 13,
   "id": "1c8513c6",
   "metadata": {},
   "outputs": [],
   "source": [
    "data_count_rating = data_count_rating.drop('vendor_lat_lon', axis=1)"
   ]
  },
  {
   "cell_type": "markdown",
   "id": "f53b636b",
   "metadata": {},
   "source": [
    "Выведение на экран первых строк набора данных для проверки применённых изменений:"
   ]
  },
  {
   "cell_type": "code",
   "execution_count": 14,
   "id": "f8d8902b",
   "metadata": {},
   "outputs": [
    {
     "data": {
      "text/html": [
       "<div>\n",
       "<style scoped>\n",
       "    .dataframe tbody tr th:only-of-type {\n",
       "        vertical-align: middle;\n",
       "    }\n",
       "\n",
       "    .dataframe tbody tr th {\n",
       "        vertical-align: top;\n",
       "    }\n",
       "\n",
       "    .dataframe thead th {\n",
       "        text-align: right;\n",
       "    }\n",
       "</style>\n",
       "<table border=\"1\" class=\"dataframe\">\n",
       "  <thead>\n",
       "    <tr style=\"text-align: right;\">\n",
       "      <th></th>\n",
       "      <th>name</th>\n",
       "      <th>vendor_lat_lon</th>\n",
       "      <th>hour</th>\n",
       "      <th>time_of_day</th>\n",
       "      <th>primary_cuisine</th>\n",
       "    </tr>\n",
       "  </thead>\n",
       "  <tbody>\n",
       "    <tr>\n",
       "      <th>0</th>\n",
       "      <td>chicken cutlet with rice</td>\n",
       "      <td>(1.3, 104.0)</td>\n",
       "      <td>19</td>\n",
       "      <td>evening</td>\n",
       "      <td>western</td>\n",
       "    </tr>\n",
       "    <tr>\n",
       "      <th>1</th>\n",
       "      <td>chicken cutlet with rice</td>\n",
       "      <td>(1.3, 104.0)</td>\n",
       "      <td>18</td>\n",
       "      <td>evening</td>\n",
       "      <td>western</td>\n",
       "    </tr>\n",
       "    <tr>\n",
       "      <th>2</th>\n",
       "      <td>chicken chop</td>\n",
       "      <td>(1.3, 104.0)</td>\n",
       "      <td>19</td>\n",
       "      <td>evening</td>\n",
       "      <td>western</td>\n",
       "    </tr>\n",
       "  </tbody>\n",
       "</table>\n",
       "</div>"
      ],
      "text/plain": [
       "                       name vendor_lat_lon  hour time_of_day primary_cuisine\n",
       "0  chicken cutlet with rice   (1.3, 104.0)    19     evening         western\n",
       "1  chicken cutlet with rice   (1.3, 104.0)    18     evening         western\n",
       "2              chicken chop   (1.3, 104.0)    19     evening         western"
      ]
     },
     "execution_count": 14,
     "metadata": {},
     "output_type": "execute_result"
    }
   ],
   "source": [
    "data.head(3)"
   ]
  },
  {
   "cell_type": "markdown",
   "id": "710908d5",
   "metadata": {},
   "source": [
    "---"
   ]
  },
  {
   "cell_type": "markdown",
   "id": "e4bdc2c5",
   "metadata": {},
   "source": [
    "Сохранение таблицы с рейтингом:"
   ]
  },
  {
   "cell_type": "code",
   "execution_count": 15,
   "id": "749b0cdf",
   "metadata": {},
   "outputs": [],
   "source": [
    "data_count_rating.to_csv('webapp/data/data_count_rating.csv')"
   ]
  },
  {
   "cell_type": "markdown",
   "id": "ee3244ea",
   "metadata": {},
   "source": [
    "---"
   ]
  },
  {
   "cell_type": "markdown",
   "id": "4ce79af4",
   "metadata": {},
   "source": [
    "## 3 Построение рекомендательной системы"
   ]
  },
  {
   "cell_type": "markdown",
   "id": "e9e521cc",
   "metadata": {},
   "source": [
    "**Загрузка моделей и рейтинга**"
   ]
  },
  {
   "cell_type": "markdown",
   "id": "e859e2a7",
   "metadata": {},
   "source": [
    "Загрузка моделей:"
   ]
  },
  {
   "cell_type": "code",
   "execution_count": 16,
   "id": "5602933a",
   "metadata": {},
   "outputs": [],
   "source": [
    "multilabel = pickle.load(open('webapp/model/multilabel.pkl', 'rb'))\n",
    "model = load_model('webapp/model/model.h5')\n",
    "vectorizer_file = pickle.load(open('webapp/model/vectorizer.pkl', 'rb'))"
   ]
  },
  {
   "cell_type": "markdown",
   "id": "bfd32234",
   "metadata": {},
   "source": [
    "Загрузка набора данных:"
   ]
  },
  {
   "cell_type": "code",
   "execution_count": 17,
   "id": "749c0838",
   "metadata": {},
   "outputs": [],
   "source": [
    "data_count_rating = pd.read_csv('webapp/data/data_count_rating.csv')"
   ]
  },
  {
   "cell_type": "markdown",
   "id": "fce5d387",
   "metadata": {},
   "source": [
    "---"
   ]
  },
  {
   "cell_type": "markdown",
   "id": "1ec02b1a",
   "metadata": {},
   "source": [
    "**Имитация запроса пользователя**"
   ]
  },
  {
   "cell_type": "markdown",
   "id": "0a653ac6",
   "metadata": {},
   "source": [
    "Задание функции, категоризирующей час по времени суток:"
   ]
  },
  {
   "cell_type": "code",
   "execution_count": 18,
   "id": "79ab3083",
   "metadata": {},
   "outputs": [],
   "source": [
    "def check_daytime(hour: int) -> str:\n",
    "    '''Convert hour to category.\n",
    "    \n",
    "    Args:\n",
    "      - hour (int) - hour value\n",
    "    '''\n",
    "    \n",
    "    if 4 <= hour < 12:\n",
    "        return 'morning'\n",
    "    elif 12 <= hour < 16:\n",
    "        return 'day'\n",
    "    elif 16 <= hour < 24:\n",
    "        return 'evening'\n",
    "    else:\n",
    "        return 'night'"
   ]
  },
  {
   "cell_type": "markdown",
   "id": "5968be6d",
   "metadata": {},
   "source": [
    "Задание функции, трансформирующей предсказания в слова:"
   ]
  },
  {
   "cell_type": "code",
   "execution_count": 19,
   "id": "8880d441",
   "metadata": {},
   "outputs": [],
   "source": [
    "def transform_label(label: int, vocab):\n",
    "    '''Convert label to word.\n",
    "    \n",
    "    Args:\n",
    "      - label (int) - label\n",
    "      - vocab - vocabulatory\n",
    "    '''\n",
    "    \n",
    "    return vocab.inverse_transform(np.array([label]))"
   ]
  },
  {
   "cell_type": "markdown",
   "id": "d570362f",
   "metadata": {},
   "source": [
    "Задание функции, трансформирующей вероятности предсказаний в значения 0 и 1:"
   ]
  },
  {
   "cell_type": "code",
   "execution_count": 20,
   "id": "7e542b0a",
   "metadata": {},
   "outputs": [
    {
     "ename": "TypeError",
     "evalue": "'builtin_function_or_method' object is not subscriptable",
     "output_type": "error",
     "traceback": [
      "\u001b[1;31m---------------------------------------------------------------------------\u001b[0m",
      "\u001b[1;31mTypeError\u001b[0m                                 Traceback (most recent call last)",
      "Cell \u001b[1;32mIn[20], line 1\u001b[0m\n\u001b[1;32m----> 1\u001b[0m \u001b[38;5;28;01mdef\u001b[39;00m \u001b[38;5;21mtransform_probs_to_labels\u001b[39m(probs: \u001b[43mnp\u001b[49m\u001b[38;5;241;43m.\u001b[39;49m\u001b[43marray\u001b[49m\u001b[43m[\u001b[49m\u001b[38;5;28;43mfloat\u001b[39;49m\u001b[43m]\u001b[49m, threshold: \u001b[38;5;28mfloat\u001b[39m \u001b[38;5;241m=\u001b[39m \u001b[38;5;241m0.5\u001b[39m):\n\u001b[0;32m      2\u001b[0m \u001b[38;5;250m    \u001b[39m\u001b[38;5;124;03m'''Convert probabilities values to labels.\u001b[39;00m\n\u001b[0;32m      3\u001b[0m \u001b[38;5;124;03m    \u001b[39;00m\n\u001b[0;32m      4\u001b[0m \u001b[38;5;124;03m    Args:\u001b[39;00m\n\u001b[0;32m      5\u001b[0m \u001b[38;5;124;03m      - probs (np.array[float]) - prediction probabilities\u001b[39;00m\n\u001b[0;32m      6\u001b[0m \u001b[38;5;124;03m      - threshold (float, optional) - threshold to convert values. Defaults to 0.5\u001b[39;00m\n\u001b[0;32m      7\u001b[0m \u001b[38;5;124;03m    '''\u001b[39;00m\n\u001b[0;32m      9\u001b[0m     \u001b[38;5;28;01mreturn\u001b[39;00m (probs \u001b[38;5;241m>\u001b[39m threshold)\u001b[38;5;241m.\u001b[39mastype(\u001b[38;5;28mint\u001b[39m)\n",
      "\u001b[1;31mTypeError\u001b[0m: 'builtin_function_or_method' object is not subscriptable"
     ]
    }
   ],
   "source": [
    "def transform_probs_to_labels(probs: np.array[float], threshold: float = 0.5):\n",
    "    '''Convert probabilities values to labels.\n",
    "    \n",
    "    Args:\n",
    "      - probs (np.array[float]) - prediction probabilities\n",
    "      - threshold (float, optional) - threshold to convert values. Defaults to 0.5\n",
    "    '''\n",
    "    \n",
    "    return (probs > threshold).astype(int)"
   ]
  },
  {
   "cell_type": "markdown",
   "id": "e823508e",
   "metadata": {},
   "source": [
    "Задание функции, преобразующей значения предсказаний:"
   ]
  },
  {
   "cell_type": "code",
   "execution_count": null,
   "id": "53dba803",
   "metadata": {},
   "outputs": [],
   "source": [
    "def preprocess_prediction(pred: List[int], vocab):\n",
    "    '''Convert labels into words.\n",
    "    \n",
    "    Args:\n",
    "      - pred (List[int]) - prediction labels\n",
    "      - vocab - vocabulatory\n",
    "    '''\n",
    "    \n",
    "    if sum(pred) == 0:\n",
    "        pred = 'No results'\n",
    "    else:\n",
    "        pred = transform_label(pred, vocab)\n",
    "        pred = ', '.join(*pred)\n",
    "    \n",
    "    return pred"
   ]
  },
  {
   "cell_type": "markdown",
   "id": "da402a6c",
   "metadata": {},
   "source": [
    "Задание пайплайна обработки входящих значений для получения предсказаний:"
   ]
  },
  {
   "cell_type": "code",
   "execution_count": null,
   "id": "5d05a6f7",
   "metadata": {},
   "outputs": [],
   "source": [
    "def get_predictions(value: List[float]):\n",
    "    '''Pipeline to convert input value and output value.\n",
    "    \n",
    "    Args:\n",
    "      - value (List[float]) - predicted values\n",
    "    '''\n",
    "    \n",
    "    # convert vectorizer\n",
    "    vectorizer = TextVectorization.from_config(vectorizer_file['config'])\n",
    "    vectorizer.adapt([value])\n",
    "    vectorizer.set_weights(vectorizer_file['weights'])\n",
    "\n",
    "    # make predictions\n",
    "    prediction = model.predict(vectorizer([value]))\n",
    "    # convert predictions\n",
    "    prediction = transform_probs_to_labels(prediction)[0]\n",
    "    # preprocess output\n",
    "    prediction = preprocess_prediction(prediction, multilabel)\n",
    "\n",
    "    return prediction"
   ]
  },
  {
   "cell_type": "markdown",
   "id": "fc2bb9fd",
   "metadata": {},
   "source": [
    "Задание функции, преобразующей адрес пользователя в широту и долготу:"
   ]
  },
  {
   "cell_type": "code",
   "execution_count": null,
   "id": "41bcf44c",
   "metadata": {},
   "outputs": [],
   "source": [
    "def convert_place_to_lat_lon(place: str) -> Tuple[float, float]:\n",
    "    '''Get latitude and longitude through address name.\n",
    "    \n",
    "    Args:\n",
    "      - place (str)\n",
    "    '''\n",
    "    \n",
    "    url = f'https://nominatim.openstreetmap.org/search.php?q={place}&format=jsonv2'\n",
    "    \n",
    "    try:\n",
    "        result = requests.get(url=url)\n",
    "        result_json = result.json()[0]\n",
    "        \n",
    "        return result_json['lat'], result_json['lon']\n",
    "        \n",
    "    except:\n",
    "        return None"
   ]
  },
  {
   "cell_type": "markdown",
   "id": "3bccc716",
   "metadata": {},
   "source": [
    "Задание функции, вычисляющей расстояния от пользователя до ресторана:"
   ]
  },
  {
   "cell_type": "code",
   "execution_count": null,
   "id": "0655c9a3",
   "metadata": {},
   "outputs": [],
   "source": [
    "def calculate_distance(user: Tuple[float], row) -> float:\n",
    "    '''Calculate distance from customer to vendor.\n",
    "    \n",
    "    Args:\n",
    "      - user (Tuple[float]) - user address latitude and longitude\n",
    "      - row - row of a dataframe\n",
    "    '''\n",
    "    vendor = (row['vendor_lat'], row['vendor_lon'])\n",
    "    \n",
    "    return round(geodesic(user, vendor).km, 2)"
   ]
  },
  {
   "cell_type": "markdown",
   "id": "694b1a1a",
   "metadata": {},
   "source": [
    "Задание функции, формирующей рейтинг рекомендаций:"
   ]
  },
  {
   "cell_type": "code",
   "execution_count": null,
   "id": "c33ac26c",
   "metadata": {},
   "outputs": [],
   "source": [
    "def create_rating(df: pd.DataFrame(), \n",
    "                  place: str, \n",
    "                  hour: str, \n",
    "                  pred: List[str], \n",
    "                  top: int = 5) -> Tuple[str, str]:\n",
    "    \n",
    "    '''Filter and sort values to get best results.\n",
    "    \n",
    "    Args:\n",
    "      - df (pd.DataFrame) - dataframe\n",
    "      - place (str) - user address\n",
    "      - hour (int) - hout value\n",
    "      - pred (List[str]) - predicted cuisines\n",
    "      - top (int, optional) - number of top lines to use. Defaults to 5\n",
    "    '''\n",
    "    \n",
    "    daytime = check_daytime(int(hour))\n",
    "    user_lat_lon = convert_place_to_lat_lon(place)\n",
    "    \n",
    "    # calculate distance between user and vendor\n",
    "    rating_result = df[df['time_of_day'] == daytime].copy()\n",
    "    \n",
    "    rating_result['distance'] = rating_result.apply(\n",
    "        lambda x: calculate_distance(user_lat_lon, x),\n",
    "        axis=1\n",
    "    )\n",
    "    \n",
    "    rating_result = rating_result.sort_values(by='distance')\n",
    "    \n",
    "    \n",
    "    # create rating    \n",
    "    rating = pd.DataFrame()\n",
    "\n",
    "    for p in pred.split(', '):\n",
    "        rating = pd.concat([rating, rating_result[rating_result['primary_cuisine'] == p][:top]])\n",
    "\n",
    "    rating_top = rating.sort_values(by='count', ascending=False)[:top]\n",
    "    \n",
    "    rating_top['vendor_lat_lon'] = rating.apply(lambda x: (x['vendor_lat'], x['vendor_lon']), axis=1)\n",
    "    \n",
    "    cuisines = list(rating_top['primary_cuisine'].unique())\n",
    "    locations = list(rating_top['vendor_lat_lon'].unique())\n",
    "\n",
    "    cuisines = ', '.join(cuisines)\n",
    "    locations = ', '.join([str(l) for l in locations])\n",
    "\n",
    "    if cuisines == '' or locations == '':\n",
    "        cuisines = 'No results'\n",
    "        locations = 'No results'\n",
    "    \n",
    "    return cuisines, locations"
   ]
  },
  {
   "cell_type": "markdown",
   "id": "cf674fd6",
   "metadata": {},
   "source": [
    "---"
   ]
  },
  {
   "cell_type": "markdown",
   "id": "e3f9920e",
   "metadata": {},
   "source": [
    ">**Рекомендательная система**\n",
    ">\n",
    ">* Входящие значения:\n",
    ">    * Название блюда.\n",
    ">    * Текущий час.\n",
    ">    * Местоположение пользователя.\n",
    ">\n",
    ">* Внутренняя фильтрация и сортировка:\n",
    ">    * Отфильтрованная повремени суток таблица рейтинга.\n",
    ">    * ТОП строк отфильтрованной по каждому предсказанному виду кухни таблица рейтинга.\n",
    ">\n",
    ">* Результат в виде рекомендаций:\n",
    ">    * ТОП строк итоговой таблицы, отсортированной по убыванию частоты заказов блюд."
   ]
  },
  {
   "cell_type": "markdown",
   "id": "0a7734ab",
   "metadata": {},
   "source": [
    "Получение предсказаний по запросу:"
   ]
  },
  {
   "cell_type": "code",
   "execution_count": null,
   "id": "2c7e3f4d",
   "metadata": {},
   "outputs": [],
   "source": [
    "request = 'chicken'\n",
    "prediction = get_predictions(request)\n",
    "\n",
    "print('\\n', request, '->', prediction)"
   ]
  },
  {
   "cell_type": "markdown",
   "id": "6a167e22",
   "metadata": {},
   "source": [
    "Формирование рейтинга на основе предсказаний и входящих данных:"
   ]
  },
  {
   "cell_type": "code",
   "execution_count": null,
   "id": "999a279c",
   "metadata": {},
   "outputs": [],
   "source": [
    "best_result = create_rating(data_count_rating, user_lat_lon, 19, prediction)"
   ]
  },
  {
   "cell_type": "markdown",
   "id": "daa21a63",
   "metadata": {},
   "source": [
    "Выведение на экран рекомендаций:"
   ]
  },
  {
   "cell_type": "code",
   "execution_count": null,
   "id": "c02c8067",
   "metadata": {},
   "outputs": [],
   "source": [
    "print('Best places primary cuisine:', best_result[0])\n",
    "print('Best places coords:', best_result[1])"
   ]
  },
  {
   "cell_type": "markdown",
   "id": "c88d55f6",
   "metadata": {},
   "source": [
    "---"
   ]
  },
  {
   "cell_type": "markdown",
   "id": "26fd52d7",
   "metadata": {},
   "source": [
    "## 4 Общий вывод"
   ]
  },
  {
   "cell_type": "markdown",
   "id": "38d748e4",
   "metadata": {},
   "source": [
    "В ходе формирования рекомендательной системы:\n",
    "\n",
    "* Из полученных после анализа и отбора данных таблиц была сформирована таблица рейтинга.\n",
    "* Прописана функция, применяющая к таблице рейтинга полученные предсказания для формирования рекомендаций."
   ]
  },
  {
   "cell_type": "markdown",
   "id": "baea98d1",
   "metadata": {},
   "source": [
    "<div style=\"text-align: center; font-size: 20px; padding: 15px 0;\">\n",
    "    <a href=\"#Содержание\" data-toc-modified-id=\"Содержание\" style=\"text-decoration: none; color: #296eaa; border: 2px dashed #296eaa; opacity: 0.8; border-radius: 3px; padding: 10px 80px;\">\n",
    "        В начало файла ↑\n",
    "    </a>\n",
    "</div>"
   ]
  }
 ],
 "metadata": {
  "kernelspec": {
   "display_name": "Python 3 (ipykernel)",
   "language": "python",
   "name": "python3"
  },
  "language_info": {
   "codemirror_mode": {
    "name": "ipython",
    "version": 3
   },
   "file_extension": ".py",
   "mimetype": "text/x-python",
   "name": "python",
   "nbconvert_exporter": "python",
   "pygments_lexer": "ipython3",
   "version": "3.10.11"
  }
 },
 "nbformat": 4,
 "nbformat_minor": 5
}
